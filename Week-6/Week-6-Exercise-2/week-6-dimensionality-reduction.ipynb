{
 "cells": [
  {
   "cell_type": "markdown",
   "metadata": {
    "colab_type": "text",
    "id": "MMWp3bQP-bhU"
   },
   "source": [
    "## Week 6: Dimensionality Reduction"
   ]
  },
  {
   "cell_type": "markdown",
   "metadata": {
    "colab_type": "text",
    "id": "GlFINCKfoOHJ"
   },
   "source": [
    "**(1a) Load the data file 'data1.csv' and visualize the data.**"
   ]
  },
  {
   "cell_type": "code",
   "execution_count": 1,
   "metadata": {},
   "outputs": [],
   "source": [
    "import pandas as pd\n",
    "import matplotlib.pyplot as plt\n",
    "import numpy as np\n",
    "import copy"
   ]
  },
  {
   "cell_type": "code",
   "execution_count": 2,
   "metadata": {},
   "outputs": [],
   "source": [
    "data1 = pd.read_csv('data1.csv', header = None)"
   ]
  },
  {
   "cell_type": "code",
   "execution_count": 3,
   "metadata": {},
   "outputs": [],
   "source": [
    "data1.columns = ['X', 'Y']"
   ]
  },
  {
   "cell_type": "code",
   "execution_count": 4,
   "metadata": {
    "scrolled": true
   },
   "outputs": [
    {
     "data": {
      "text/plain": [
       "<matplotlib.collections.PathCollection at 0x22a604904a8>"
      ]
     },
     "execution_count": 4,
     "metadata": {},
     "output_type": "execute_result"
    },
    {
     "data": {
      "image/png": "[encoded data removed]",
      "text/plain": [
       "<Figure size 432x288 with 1 Axes>"
      ]
     },
     "metadata": {
      "needs_background": "light"
     },
     "output_type": "display_data"
    }
   ],
   "source": [
    "plt.scatter(data1['X'], data1['Y'])"
   ]
  },
  {
   "cell_type": "markdown",
   "metadata": {
    "colab_type": "text",
    "id": "GlFINCKfoOHJ"
   },
   "source": [
    "**Let $\\bar{x} = (x_1, x_2, x_3, \\cdots, x_m)$ denote a data point with $m$ features. Suppose we approximate $\\bar{x}$ with fewer features, say two features $x_1$ and $x_2$, as $\\bar{y} = (x_1, x_2, 0, \\cdots, 0)$. Now, define the loss due to the representation as $\\lVert \\bar{x} - \\bar{y} \\rVert^2 = x_3^2 + \\cdots + x_m^2$. **\n",
    "\n",
    "**(1b) Find a single feature representation of the data (in data1.csv) such that the loss in representation is minimum.**"
   ]
  },
  {
   "cell_type": "code",
   "execution_count": 5,
   "metadata": {},
   "outputs": [],
   "source": [
    "data1_val = data1.values"
   ]
  },
  {
   "cell_type": "code",
   "execution_count": 6,
   "metadata": {},
   "outputs": [
    {
     "name": "stdout",
     "output_type": "stream",
     "text": [
      "Removing X:  358.1035064241586\n",
      "Removing Y:  0.41912655244582403\n"
     ]
    }
   ],
   "source": [
    "print('Removing X: ',sum(data1_val[:,0]**2))\n",
    "print('Removing Y: ',sum(data1_val[:,1]**2))"
   ]
  },
  {
   "cell_type": "markdown",
   "metadata": {},
   "source": [
    "- single Feature is X"
   ]
  },
  {
   "cell_type": "markdown",
   "metadata": {
    "colab_type": "text",
    "id": "GlFINCKfoOHJ"
   },
   "source": [
    "**(1c) Visualize the approximated data and compare it with the original data.**"
   ]
  },
  {
   "cell_type": "code",
   "execution_count": 7,
   "metadata": {},
   "outputs": [
    {
     "data": {
      "text/plain": [
       "<matplotlib.collections.PathCollection at 0x22a605299b0>"
      ]
     },
     "execution_count": 7,
     "metadata": {},
     "output_type": "execute_result"
    },
    {
     "data": {
      "image/png": "[encoded data removed]",
      "text/plain": [
       "<Figure size 432x288 with 1 Axes>"
      ]
     },
     "metadata": {
      "needs_background": "light"
     },
     "output_type": "display_data"
    }
   ],
   "source": [
    "plt.scatter(data1_val[:,0], data1_val[:,1])"
   ]
  },
  {
   "cell_type": "code",
   "execution_count": 8,
   "metadata": {},
   "outputs": [
    {
     "data": {
      "text/plain": [
       "<matplotlib.collections.PathCollection at 0x22a60588a90>"
      ]
     },
     "execution_count": 8,
     "metadata": {},
     "output_type": "execute_result"
    },
    {
     "data": {
      "image/png": "[encoded data removed]",
      "text/plain": [
       "<Figure size 432x288 with 1 Axes>"
      ]
     },
     "metadata": {
      "needs_background": "light"
     },
     "output_type": "display_data"
    }
   ],
   "source": [
    "plt.scatter(data1_val[:,0], [0]*data1.shape[0])"
   ]
  },
  {
   "cell_type": "markdown",
   "metadata": {
    "colab_type": "text",
    "id": "GlFINCKfoOHJ"
   },
   "source": [
    "**(2a) Load the data file 'data2.csv'.**"
   ]
  },
  {
   "cell_type": "code",
   "execution_count": 9,
   "metadata": {},
   "outputs": [],
   "source": [
    "data2 = pd.read_csv('data2.csv', header = None)"
   ]
  },
  {
   "cell_type": "code",
   "execution_count": 10,
   "metadata": {
    "scrolled": true
   },
   "outputs": [
    {
     "data": {
      "text/html": [
       "<div>\n",
       "<style scoped>\n",
       "    .dataframe tbody tr th:only-of-type {\n",
       "        vertical-align: middle;\n",
       "    }\n",
       "\n",
       "    .dataframe tbody tr th {\n",
       "        vertical-align: top;\n",
       "    }\n",
       "\n",
       "    .dataframe thead th {\n",
       "        text-align: right;\n",
       "    }\n",
       "</style>\n",
       "<table border=\"1\" class=\"dataframe\">\n",
       "  <thead>\n",
       "    <tr style=\"text-align: right;\">\n",
       "      <th></th>\n",
       "      <th>0</th>\n",
       "      <th>1</th>\n",
       "      <th>2</th>\n",
       "      <th>3</th>\n",
       "    </tr>\n",
       "  </thead>\n",
       "  <tbody>\n",
       "    <tr>\n",
       "      <th>0</th>\n",
       "      <td>0.007589</td>\n",
       "      <td>-8.886696</td>\n",
       "      <td>-12.316361</td>\n",
       "      <td>-0.036092</td>\n",
       "    </tr>\n",
       "    <tr>\n",
       "      <th>1</th>\n",
       "      <td>-1.461927</td>\n",
       "      <td>3.977425</td>\n",
       "      <td>-17.784232</td>\n",
       "      <td>0.075197</td>\n",
       "    </tr>\n",
       "    <tr>\n",
       "      <th>2</th>\n",
       "      <td>-0.891625</td>\n",
       "      <td>-7.426320</td>\n",
       "      <td>25.122113</td>\n",
       "      <td>-0.150440</td>\n",
       "    </tr>\n",
       "    <tr>\n",
       "      <th>3</th>\n",
       "      <td>1.057471</td>\n",
       "      <td>4.184783</td>\n",
       "      <td>39.927021</td>\n",
       "      <td>0.068328</td>\n",
       "    </tr>\n",
       "    <tr>\n",
       "      <th>4</th>\n",
       "      <td>0.147645</td>\n",
       "      <td>-0.309380</td>\n",
       "      <td>33.502600</td>\n",
       "      <td>-0.125913</td>\n",
       "    </tr>\n",
       "  </tbody>\n",
       "</table>\n",
       "</div>"
      ],
      "text/plain": [
       "          0         1          2         3\n",
       "0  0.007589 -8.886696 -12.316361 -0.036092\n",
       "1 -1.461927  3.977425 -17.784232  0.075197\n",
       "2 -0.891625 -7.426320  25.122113 -0.150440\n",
       "3  1.057471  4.184783  39.927021  0.068328\n",
       "4  0.147645 -0.309380  33.502600 -0.125913"
      ]
     },
     "execution_count": 10,
     "metadata": {},
     "output_type": "execute_result"
    }
   ],
   "source": [
    "data2.head()"
   ]
  },
  {
   "cell_type": "code",
   "execution_count": 11,
   "metadata": {},
   "outputs": [
    {
     "data": {
      "text/html": [
       "<div>\n",
       "<style scoped>\n",
       "    .dataframe tbody tr th:only-of-type {\n",
       "        vertical-align: middle;\n",
       "    }\n",
       "\n",
       "    .dataframe tbody tr th {\n",
       "        vertical-align: top;\n",
       "    }\n",
       "\n",
       "    .dataframe thead th {\n",
       "        text-align: right;\n",
       "    }\n",
       "</style>\n",
       "<table border=\"1\" class=\"dataframe\">\n",
       "  <thead>\n",
       "    <tr style=\"text-align: right;\">\n",
       "      <th></th>\n",
       "      <th>0</th>\n",
       "      <th>1</th>\n",
       "      <th>2</th>\n",
       "      <th>3</th>\n",
       "    </tr>\n",
       "  </thead>\n",
       "  <tbody>\n",
       "    <tr>\n",
       "      <th>count</th>\n",
       "      <td>1000.000000</td>\n",
       "      <td>1000.000000</td>\n",
       "      <td>1000.000000</td>\n",
       "      <td>1000.000000</td>\n",
       "    </tr>\n",
       "    <tr>\n",
       "      <th>mean</th>\n",
       "      <td>-0.067112</td>\n",
       "      <td>0.072503</td>\n",
       "      <td>2.325471</td>\n",
       "      <td>0.004217</td>\n",
       "    </tr>\n",
       "    <tr>\n",
       "      <th>std</th>\n",
       "      <td>0.993578</td>\n",
       "      <td>6.259568</td>\n",
       "      <td>31.764600</td>\n",
       "      <td>0.071365</td>\n",
       "    </tr>\n",
       "    <tr>\n",
       "      <th>min</th>\n",
       "      <td>-3.357059</td>\n",
       "      <td>-19.556507</td>\n",
       "      <td>-106.539193</td>\n",
       "      <td>-0.195731</td>\n",
       "    </tr>\n",
       "    <tr>\n",
       "      <th>25%</th>\n",
       "      <td>-0.724800</td>\n",
       "      <td>-4.050040</td>\n",
       "      <td>-18.678191</td>\n",
       "      <td>-0.043543</td>\n",
       "    </tr>\n",
       "    <tr>\n",
       "      <th>50%</th>\n",
       "      <td>-0.113790</td>\n",
       "      <td>0.247195</td>\n",
       "      <td>1.601342</td>\n",
       "      <td>0.003002</td>\n",
       "    </tr>\n",
       "    <tr>\n",
       "      <th>75%</th>\n",
       "      <td>0.598069</td>\n",
       "      <td>4.176119</td>\n",
       "      <td>24.569531</td>\n",
       "      <td>0.053882</td>\n",
       "    </tr>\n",
       "    <tr>\n",
       "      <th>max</th>\n",
       "      <td>2.848085</td>\n",
       "      <td>18.926040</td>\n",
       "      <td>88.267303</td>\n",
       "      <td>0.260059</td>\n",
       "    </tr>\n",
       "  </tbody>\n",
       "</table>\n",
       "</div>"
      ],
      "text/plain": [
       "                 0            1            2            3\n",
       "count  1000.000000  1000.000000  1000.000000  1000.000000\n",
       "mean     -0.067112     0.072503     2.325471     0.004217\n",
       "std       0.993578     6.259568    31.764600     0.071365\n",
       "min      -3.357059   -19.556507  -106.539193    -0.195731\n",
       "25%      -0.724800    -4.050040   -18.678191    -0.043543\n",
       "50%      -0.113790     0.247195     1.601342     0.003002\n",
       "75%       0.598069     4.176119    24.569531     0.053882\n",
       "max       2.848085    18.926040    88.267303     0.260059"
      ]
     },
     "execution_count": 11,
     "metadata": {},
     "output_type": "execute_result"
    }
   ],
   "source": [
    "data2.describe()"
   ]
  },
  {
   "cell_type": "markdown",
   "metadata": {
    "colab_type": "text",
    "id": "GlFINCKfoOHJ"
   },
   "source": [
    "**(2c) Plot the minimum representation loss as a function of the number of features used for representation.**\n",
    "\n",
    "**(2c) Order the features in decreasing order of significance (with respect to the representation loss).**"
   ]
  },
  {
   "cell_type": "code",
   "execution_count": 12,
   "metadata": {},
   "outputs": [],
   "source": [
    "drop_data2 = data2.copy()"
   ]
  },
  {
   "cell_type": "code",
   "execution_count": 13,
   "metadata": {},
   "outputs": [],
   "source": [
    "drop_data2[1] = 0"
   ]
  },
  {
   "cell_type": "code",
   "execution_count": 14,
   "metadata": {
    "scrolled": true
   },
   "outputs": [
    {
     "name": "stdout",
     "output_type": "stream",
     "text": [
      "Keeping column  0 : representation loss:  990.7130563191931\n",
      "Keeping column  1 : representation loss:  39148.2647749031\n",
      "Keeping column  2 : representation loss:  1013388.6230866597\n",
      "Keeping column  3 : representation loss:  5.105685170912923\n",
      "5.105685170912923\n"
     ]
    }
   ],
   "source": [
    "min_rep_loss = []\n",
    "min_loss = 9999999\n",
    "for i in range(4):\n",
    "    dist = sum(data2[i]**2)\n",
    "    print('Keeping column ',i,': representation loss: ', dist)\n",
    "    if dist < min_loss:\n",
    "        min_loss = dist\n",
    "min_rep_loss.append(min_loss)\n",
    "print(min_loss)"
   ]
  },
  {
   "cell_type": "markdown",
   "metadata": {
    "colab_type": "text",
    "id": "GlFINCKfoOHJ"
   },
   "source": [
    "**(2d) Compute the covariance matrix of the $m$ features. Comment with respect to (2c).**"
   ]
  },
  {
   "cell_type": "code",
   "execution_count": 15,
   "metadata": {},
   "outputs": [
    {
     "data": {
      "text/html": [
       "<div>\n",
       "<style scoped>\n",
       "    .dataframe tbody tr th:only-of-type {\n",
       "        vertical-align: middle;\n",
       "    }\n",
       "\n",
       "    .dataframe tbody tr th {\n",
       "        vertical-align: top;\n",
       "    }\n",
       "\n",
       "    .dataframe thead th {\n",
       "        text-align: right;\n",
       "    }\n",
       "</style>\n",
       "<table border=\"1\" class=\"dataframe\">\n",
       "  <thead>\n",
       "    <tr style=\"text-align: right;\">\n",
       "      <th></th>\n",
       "      <th>0</th>\n",
       "      <th>1</th>\n",
       "      <th>2</th>\n",
       "      <th>3</th>\n",
       "    </tr>\n",
       "  </thead>\n",
       "  <tbody>\n",
       "    <tr>\n",
       "      <th>0</th>\n",
       "      <td>0.987196</td>\n",
       "      <td>-0.057179</td>\n",
       "      <td>-0.140991</td>\n",
       "      <td>0.003057</td>\n",
       "    </tr>\n",
       "    <tr>\n",
       "      <th>1</th>\n",
       "      <td>-0.057179</td>\n",
       "      <td>39.182190</td>\n",
       "      <td>0.116676</td>\n",
       "      <td>-0.007770</td>\n",
       "    </tr>\n",
       "    <tr>\n",
       "      <th>2</th>\n",
       "      <td>-0.140991</td>\n",
       "      <td>0.116676</td>\n",
       "      <td>1008.989796</td>\n",
       "      <td>0.055835</td>\n",
       "    </tr>\n",
       "    <tr>\n",
       "      <th>3</th>\n",
       "      <td>0.003057</td>\n",
       "      <td>-0.007770</td>\n",
       "      <td>0.055835</td>\n",
       "      <td>0.005093</td>\n",
       "    </tr>\n",
       "  </tbody>\n",
       "</table>\n",
       "</div>"
      ],
      "text/plain": [
       "          0          1            2         3\n",
       "0  0.987196  -0.057179    -0.140991  0.003057\n",
       "1 -0.057179  39.182190     0.116676 -0.007770\n",
       "2 -0.140991   0.116676  1008.989796  0.055835\n",
       "3  0.003057  -0.007770     0.055835  0.005093"
      ]
     },
     "execution_count": 15,
     "metadata": {},
     "output_type": "execute_result"
    }
   ],
   "source": [
    "data2.cov()"
   ]
  },
  {
   "cell_type": "markdown",
   "metadata": {
    "colab_type": "text",
    "id": "GlFINCKfoOHJ"
   },
   "source": [
    "**(3a) Load the data file 'data3.csv' and visualize the data.**\n",
    "\n",
    "**(3b) Compute the covariance matrix $C$ of the $m$ features.**"
   ]
  },
  {
   "cell_type": "code",
   "execution_count": 16,
   "metadata": {},
   "outputs": [],
   "source": [
    "data3 = pd.read_csv('data3.csv', header = None)"
   ]
  },
  {
   "cell_type": "code",
   "execution_count": 17,
   "metadata": {},
   "outputs": [
    {
     "data": {
      "text/plain": [
       "<matplotlib.collections.PathCollection at 0x22a60eb2828>"
      ]
     },
     "execution_count": 17,
     "metadata": {},
     "output_type": "execute_result"
    },
    {
     "data": {
      "image/png": "[encoded data removed]",
      "text/plain": [
       "<Figure size 432x288 with 1 Axes>"
      ]
     },
     "metadata": {
      "needs_background": "light"
     },
     "output_type": "display_data"
    }
   ],
   "source": [
    "plt.scatter(data3.iloc[:,0], data3.iloc[:,1])"
   ]
  },
  {
   "cell_type": "code",
   "execution_count": 18,
   "metadata": {
    "scrolled": true
   },
   "outputs": [
    {
     "data": {
      "text/html": [
       "<div>\n",
       "<style scoped>\n",
       "    .dataframe tbody tr th:only-of-type {\n",
       "        vertical-align: middle;\n",
       "    }\n",
       "\n",
       "    .dataframe tbody tr th {\n",
       "        vertical-align: top;\n",
       "    }\n",
       "\n",
       "    .dataframe thead th {\n",
       "        text-align: right;\n",
       "    }\n",
       "</style>\n",
       "<table border=\"1\" class=\"dataframe\">\n",
       "  <thead>\n",
       "    <tr style=\"text-align: right;\">\n",
       "      <th></th>\n",
       "      <th>0</th>\n",
       "      <th>1</th>\n",
       "    </tr>\n",
       "  </thead>\n",
       "  <tbody>\n",
       "    <tr>\n",
       "      <th>0</th>\n",
       "      <td>-2.173608</td>\n",
       "      <td>-2.191730</td>\n",
       "    </tr>\n",
       "    <tr>\n",
       "      <th>1</th>\n",
       "      <td>1.634760</td>\n",
       "      <td>1.715328</td>\n",
       "    </tr>\n",
       "    <tr>\n",
       "      <th>2</th>\n",
       "      <td>-0.461201</td>\n",
       "      <td>-0.587819</td>\n",
       "    </tr>\n",
       "    <tr>\n",
       "      <th>3</th>\n",
       "      <td>-0.760849</td>\n",
       "      <td>-0.966327</td>\n",
       "    </tr>\n",
       "    <tr>\n",
       "      <th>4</th>\n",
       "      <td>-1.387257</td>\n",
       "      <td>-1.554868</td>\n",
       "    </tr>\n",
       "  </tbody>\n",
       "</table>\n",
       "</div>"
      ],
      "text/plain": [
       "          0         1\n",
       "0 -2.173608 -2.191730\n",
       "1  1.634760  1.715328\n",
       "2 -0.461201 -0.587819\n",
       "3 -0.760849 -0.966327\n",
       "4 -1.387257 -1.554868"
      ]
     },
     "execution_count": 18,
     "metadata": {},
     "output_type": "execute_result"
    }
   ],
   "source": [
    "data3.head()"
   ]
  },
  {
   "cell_type": "code",
   "execution_count": 19,
   "metadata": {},
   "outputs": [
    {
     "data": {
      "text/html": [
       "<div>\n",
       "<style scoped>\n",
       "    .dataframe tbody tr th:only-of-type {\n",
       "        vertical-align: middle;\n",
       "    }\n",
       "\n",
       "    .dataframe tbody tr th {\n",
       "        vertical-align: top;\n",
       "    }\n",
       "\n",
       "    .dataframe thead th {\n",
       "        text-align: right;\n",
       "    }\n",
       "</style>\n",
       "<table border=\"1\" class=\"dataframe\">\n",
       "  <thead>\n",
       "    <tr style=\"text-align: right;\">\n",
       "      <th></th>\n",
       "      <th>0</th>\n",
       "      <th>1</th>\n",
       "    </tr>\n",
       "  </thead>\n",
       "  <tbody>\n",
       "    <tr>\n",
       "      <th>0</th>\n",
       "      <td>3.594166</td>\n",
       "      <td>3.617564</td>\n",
       "    </tr>\n",
       "    <tr>\n",
       "      <th>1</th>\n",
       "      <td>3.617564</td>\n",
       "      <td>3.658059</td>\n",
       "    </tr>\n",
       "  </tbody>\n",
       "</table>\n",
       "</div>"
      ],
      "text/plain": [
       "          0         1\n",
       "0  3.594166  3.617564\n",
       "1  3.617564  3.658059"
      ]
     },
     "execution_count": 19,
     "metadata": {},
     "output_type": "execute_result"
    }
   ],
   "source": [
    "data3.cov()"
   ]
  },
  {
   "cell_type": "code",
   "execution_count": 20,
   "metadata": {},
   "outputs": [
    {
     "name": "stdout",
     "output_type": "stream",
     "text": [
      "          0         1\n",
      "0  3.594166  3.617564\n",
      "1  3.617564  3.658059\n"
     ]
    }
   ],
   "source": [
    "cov_matrix = data3.cov()\n",
    "print(cov_matrix)"
   ]
  },
  {
   "cell_type": "markdown",
   "metadata": {
    "colab_type": "text",
    "id": "GlFINCKfoOHJ"
   },
   "source": [
    "**(3c) Uncorrelate the covariance matrix $C$ using an orthonormal transformation (rotation).**"
   ]
  },
  {
   "cell_type": "code",
   "execution_count": 21,
   "metadata": {},
   "outputs": [],
   "source": [
    "eig_val, eig_vec = np.linalg.eig(cov_matrix)"
   ]
  },
  {
   "cell_type": "code",
   "execution_count": 22,
   "metadata": {},
   "outputs": [
    {
     "name": "stdout",
     "output_type": "stream",
     "text": [
      "[0.00840733 7.24381702]\n",
      "[[-0.710222   -0.70397777]\n",
      " [ 0.70397777 -0.710222  ]]\n"
     ]
    }
   ],
   "source": [
    "print(eig_val)\n",
    "print(eig_vec)"
   ]
  },
  {
   "cell_type": "code",
   "execution_count": 23,
   "metadata": {},
   "outputs": [
    {
     "name": "stdout",
     "output_type": "stream",
     "text": [
      "[[0.09169148 0.        ]\n",
      " [0.         2.69143401]]\n"
     ]
    }
   ],
   "source": [
    "s = np.diag(np.sqrt(eig_val))\n",
    "print(s)"
   ]
  },
  {
   "cell_type": "markdown",
   "metadata": {
    "colab_type": "text",
    "id": "GlFINCKfoOHJ"
   },
   "source": [
    "**(3d) Apply the transformation to the data points. Now, visualize the data points.**"
   ]
  },
  {
   "cell_type": "code",
   "execution_count": 64,
   "metadata": {},
   "outputs": [],
   "source": [
    "transformed_x = np.matmul(eig_vec, np.matmul(s, data3.values.T))"
   ]
  },
  {
   "cell_type": "code",
   "execution_count": 65,
   "metadata": {},
   "outputs": [
    {
     "data": {
      "text/plain": [
       "<matplotlib.collections.PathCollection at 0x22a62a254a8>"
      ]
     },
     "execution_count": 65,
     "metadata": {},
     "output_type": "execute_result"
    },
    {
     "data": {
      "image/png": "[encoded data removed]",
      "text/plain": [
       "<Figure size 432x288 with 1 Axes>"
      ]
     },
     "metadata": {
      "needs_background": "light"
     },
     "output_type": "display_data"
    }
   ],
   "source": [
    "plt.scatter(transformed_x[0,:], transformed_x[1,:], c = 'r')\n",
    "plt.scatter(data3.values[:,0], data3.values[:,1], c = 'b')"
   ]
  },
  {
   "cell_type": "code",
   "execution_count": 66,
   "metadata": {},
   "outputs": [
    {
     "data": {
      "text/plain": [
       "<matplotlib.collections.PathCollection at 0x22a62a7ecc0>"
      ]
     },
     "execution_count": 66,
     "metadata": {},
     "output_type": "execute_result"
    },
    {
     "data": {
      "image/png": "[encoded data removed]",
      "text/plain": [
       "<Figure size 432x288 with 1 Axes>"
      ]
     },
     "metadata": {
      "needs_background": "light"
     },
     "output_type": "display_data"
    }
   ],
   "source": [
    "plt.scatter(transformed_x[0,:], transformed_x[1,:], c = 'r')"
   ]
  },
  {
   "cell_type": "markdown",
   "metadata": {
    "colab_type": "text",
    "id": "GlFINCKfoOHJ"
   },
   "source": [
    "**(3e) Find a one-dimensional representation of the data such that the representation loss is minimum.**\n",
    "\n",
    "**(3f) Reverse the (rotation) transformation on the approximated data and visualize the data.**"
   ]
  },
  {
   "cell_type": "code",
   "execution_count": 63,
   "metadata": {},
   "outputs": [
    {
     "name": "stdout",
     "output_type": "stream",
     "text": [
      "[[0. 0. 0. 0. 0. 0. 0. 0. 0. 0. 0. 0. 0. 0. 0. 0. 0. 0. 0. 0. 0. 0. 0. 0.\n",
      "  0. 0. 0. 0. 0. 0. 0. 0. 0. 0. 0. 0. 0. 0. 0. 0. 0. 0. 0. 0. 0. 0. 0. 0.\n",
      "  0. 0.]\n",
      " [0. 0. 0. 0. 0. 0. 0. 0. 0. 0. 0. 0. 0. 0. 0. 0. 0. 0. 0. 0. 0. 0. 0. 0.\n",
      "  0. 0. 0. 0. 0. 0. 0. 0. 0. 0. 0. 0. 0. 0. 0. 0. 0. 0. 0. 0. 0. 0. 0. 0.\n",
      "  0. 0.]]\n"
     ]
    }
   ],
   "source": [
    "print(transformed_x)"
   ]
  },
  {
   "cell_type": "code",
   "execution_count": 67,
   "metadata": {},
   "outputs": [
    {
     "name": "stdout",
     "output_type": "stream",
     "text": [
      "Removing First column :  694.1430484080046\n",
      "Removing Second column:  617.4321822439841\n"
     ]
    }
   ],
   "source": [
    "print('Removing First column : ', sum(transformed_x[0,:]**2))\n",
    "print('Removing Second column: ', sum(transformed_x[1,:]**2))"
   ]
  },
  {
   "cell_type": "code",
   "execution_count": 68,
   "metadata": {},
   "outputs": [],
   "source": [
    "approx_data = transformed_x.T\n",
    "approx_data[:,1] = 0"
   ]
  },
  {
   "cell_type": "code",
   "execution_count": 69,
   "metadata": {},
   "outputs": [
    {
     "name": "stdout",
     "output_type": "stream",
     "text": [
      "[[ 4.29424008  0.        ]\n",
      " [-3.35650714  0.        ]\n",
      " [ 1.14377969  0.        ]\n",
      " [ 1.88045599  0.        ]\n",
      " [ 3.03636416  0.        ]\n",
      " [ 5.81027198  0.        ]\n",
      " [-5.96474972  0.        ]\n",
      " [ 3.77536813  0.        ]\n",
      " [-0.79569628  0.        ]\n",
      " [ 1.2817607   0.        ]\n",
      " [ 4.20992723  0.        ]\n",
      " [ 3.22650263  0.        ]\n",
      " [-6.70185361  0.        ]\n",
      " [-1.74651906  0.        ]\n",
      " [-1.01280518  0.        ]\n",
      " [-4.87720482  0.        ]\n",
      " [-2.29305734  0.        ]\n",
      " [ 1.63482928  0.        ]\n",
      " [ 0.60104556  0.        ]\n",
      " [-4.57766922  0.        ]\n",
      " [ 3.29556464  0.        ]\n",
      " [-6.69217293  0.        ]\n",
      " [-4.49715096  0.        ]\n",
      " [ 2.5198759   0.        ]\n",
      " [-1.52610692  0.        ]\n",
      " [ 2.56248489  0.        ]\n",
      " [-2.07788484  0.        ]\n",
      " [ 8.14634614  0.        ]\n",
      " [ 4.1838148   0.        ]\n",
      " [ 5.22554257  0.        ]\n",
      " [-6.46415745  0.        ]\n",
      " [-0.77585094  0.        ]\n",
      " [ 0.57929679  0.        ]\n",
      " [ 4.54469997  0.        ]\n",
      " [-0.81569311  0.        ]\n",
      " [-0.84225403  0.        ]\n",
      " [-4.62148901  0.        ]\n",
      " [ 4.10412362  0.        ]\n",
      " [-3.13282948  0.        ]\n",
      " [ 1.02374998  0.        ]\n",
      " [-0.27529049  0.        ]\n",
      " [-2.03125925  0.        ]\n",
      " [ 2.36903455  0.        ]\n",
      " [ 4.36471328  0.        ]\n",
      " [ 6.50194808  0.        ]\n",
      " [ 0.23031561  0.        ]\n",
      " [-2.49436782  0.        ]\n",
      " [-1.00865898  0.        ]\n",
      " [ 5.94785449  0.        ]\n",
      " [-0.3377022   0.        ]]\n"
     ]
    }
   ],
   "source": [
    "print(approx_data)"
   ]
  },
  {
   "cell_type": "code",
   "execution_count": 70,
   "metadata": {},
   "outputs": [],
   "source": [
    "r_inv = eig_vec.T\n",
    "s_inv = np.linalg.inv(s)"
   ]
  },
  {
   "cell_type": "code",
   "execution_count": 71,
   "metadata": {},
   "outputs": [],
   "source": [
    "rev_transformed_data = np.matmul(s_inv, np.matmul(r_inv, approx_data.T))"
   ]
  },
  {
   "cell_type": "code",
   "execution_count": 72,
   "metadata": {},
   "outputs": [
    {
     "data": {
      "text/plain": [
       "<matplotlib.collections.PathCollection at 0x22a62ae4b70>"
      ]
     },
     "execution_count": 72,
     "metadata": {},
     "output_type": "execute_result"
    },
    {
     "data": {
      "image/png": "[encoded data removed]",
      "text/plain": [
       "<Figure size 432x288 with 1 Axes>"
      ]
     },
     "metadata": {
      "needs_background": "light"
     },
     "output_type": "display_data"
    }
   ],
   "source": [
    "plt.scatter(rev_transformed_data[0,:],rev_transformed_data[1,:])"
   ]
  },
  {
   "cell_type": "markdown",
   "metadata": {
    "colab_type": "text",
    "id": "GlFINCKfoOHJ"
   },
   "source": [
    "**(3e) Compute the representational loss (with respect to the original data).**\n",
    "\n",
    "**(3f) Compare the above representation loss with the loss your would incur if you attempted a one-dimensional representation without any transformation. Comment on it.**\n"
   ]
  },
  {
   "cell_type": "code",
   "execution_count": 73,
   "metadata": {},
   "outputs": [
    {
     "name": "stdout",
     "output_type": "stream",
     "text": [
      "1\n"
     ]
    }
   ],
   "source": [
    "print(sum((rev_transformed_data.T - data3)**2))"
   ]
  },
  {
   "cell_type": "code",
   "execution_count": 74,
   "metadata": {},
   "outputs": [
    {
     "name": "stdout",
     "output_type": "stream",
     "text": [
      "177.6674955960155\n"
     ]
    }
   ],
   "source": [
    "print(min(sum(data3.values[:,0]**2), sum(data3.values[:,1]**2)))"
   ]
  },
  {
   "cell_type": "markdown",
   "metadata": {
    "colab_type": "text",
    "id": "GlFINCKfoOHJ"
   },
   "source": [
    "**(4a) Load the data file 'data4.csv'.**\n",
    "\n",
    "**(4b) Plot the representation loss as a function of the number of features (in the transformed domain) used for representation.**"
   ]
  },
  {
   "cell_type": "code",
   "execution_count": 86,
   "metadata": {},
   "outputs": [],
   "source": [
    "data4 = pd.read_csv('data4.csv', header = None)"
   ]
  },
  {
   "cell_type": "code",
   "execution_count": 87,
   "metadata": {},
   "outputs": [
    {
     "data": {
      "text/html": [
       "<div>\n",
       "<style scoped>\n",
       "    .dataframe tbody tr th:only-of-type {\n",
       "        vertical-align: middle;\n",
       "    }\n",
       "\n",
       "    .dataframe tbody tr th {\n",
       "        vertical-align: top;\n",
       "    }\n",
       "\n",
       "    .dataframe thead th {\n",
       "        text-align: right;\n",
       "    }\n",
       "</style>\n",
       "<table border=\"1\" class=\"dataframe\">\n",
       "  <thead>\n",
       "    <tr style=\"text-align: right;\">\n",
       "      <th></th>\n",
       "      <th>0</th>\n",
       "      <th>1</th>\n",
       "      <th>2</th>\n",
       "      <th>3</th>\n",
       "    </tr>\n",
       "  </thead>\n",
       "  <tbody>\n",
       "    <tr>\n",
       "      <th>0</th>\n",
       "      <td>0.886636</td>\n",
       "      <td>5.414102</td>\n",
       "      <td>5.414102</td>\n",
       "      <td>-0.050537</td>\n",
       "    </tr>\n",
       "    <tr>\n",
       "      <th>1</th>\n",
       "      <td>1.571465</td>\n",
       "      <td>-4.373945</td>\n",
       "      <td>-4.373945</td>\n",
       "      <td>-0.046006</td>\n",
       "    </tr>\n",
       "    <tr>\n",
       "      <th>2</th>\n",
       "      <td>0.344091</td>\n",
       "      <td>-13.850319</td>\n",
       "      <td>-13.850319</td>\n",
       "      <td>-0.008261</td>\n",
       "    </tr>\n",
       "    <tr>\n",
       "      <th>3</th>\n",
       "      <td>-1.904044</td>\n",
       "      <td>-0.465430</td>\n",
       "      <td>-0.465430</td>\n",
       "      <td>-0.104967</td>\n",
       "    </tr>\n",
       "    <tr>\n",
       "      <th>4</th>\n",
       "      <td>0.321489</td>\n",
       "      <td>-1.487056</td>\n",
       "      <td>-1.487056</td>\n",
       "      <td>0.009423</td>\n",
       "    </tr>\n",
       "  </tbody>\n",
       "</table>\n",
       "</div>"
      ],
      "text/plain": [
       "          0          1          2         3\n",
       "0  0.886636   5.414102   5.414102 -0.050537\n",
       "1  1.571465  -4.373945  -4.373945 -0.046006\n",
       "2  0.344091 -13.850319 -13.850319 -0.008261\n",
       "3 -1.904044  -0.465430  -0.465430 -0.104967\n",
       "4  0.321489  -1.487056  -1.487056  0.009423"
      ]
     },
     "execution_count": 87,
     "metadata": {},
     "output_type": "execute_result"
    }
   ],
   "source": [
    "data4.head()"
   ]
  },
  {
   "cell_type": "code",
   "execution_count": 92,
   "metadata": {},
   "outputs": [
    {
     "name": "stdout",
     "output_type": "stream",
     "text": [
      "          0          1          2         3\n",
      "0  0.963091   0.041449   0.041449 -0.002040\n",
      "1  0.041449  41.235446  41.235446 -0.013883\n",
      "2  0.041449  41.235446  41.235446 -0.013883\n",
      "3 -0.002040  -0.013883  -0.013883  0.005090\n"
     ]
    }
   ],
   "source": [
    "cov_mat = data4.cov()\n",
    "print(cov_mat)"
   ]
  },
  {
   "cell_type": "code",
   "execution_count": 93,
   "metadata": {},
   "outputs": [],
   "source": [
    "eig_val, eig_vec = np.linalg.eig(cov_mat)"
   ]
  },
  {
   "cell_type": "code",
   "execution_count": 94,
   "metadata": {},
   "outputs": [
    {
     "name": "stdout",
     "output_type": "stream",
     "text": [
      "[ 8.24709393e+01  9.63053418e-01  5.08138259e-03 -4.13745755e-15]\n",
      "[[ 7.19181129e-04  9.99997504e-01  2.11518885e-03 -8.73314050e-11]\n",
      " [ 7.07106578e-01 -5.08892767e-04  1.67290613e-04  7.07106781e-01]\n",
      " [ 7.07106578e-01 -5.08892881e-04  1.67286360e-04 -7.07106781e-01]\n",
      " [-2.38103322e-04 -2.11501810e-03  9.99997735e-01 -3.00691129e-09]]\n"
     ]
    }
   ],
   "source": [
    "print(eig_val)\n",
    "print(eig_vec)"
   ]
  },
  {
   "cell_type": "markdown",
   "metadata": {},
   "source": [
    "Since the 4th eigen value is very small and close to zero it can be considered as zero, because it is formed due to the noise in the data and scaling matrix requires positive eigen values."
   ]
  },
  {
   "cell_type": "code",
   "execution_count": 95,
   "metadata": {},
   "outputs": [
    {
     "name": "stdout",
     "output_type": "stream",
     "text": [
      "[[9.08135118 0.         0.         0.        ]\n",
      " [0.         0.98135285 0.         0.        ]\n",
      " [0.         0.         0.07128382 0.        ]\n",
      " [0.         0.         0.         0.        ]]\n"
     ]
    }
   ],
   "source": [
    "eig_val[3] = 0\n",
    "s = np.diag(np.sqrt(eig_val))\n",
    "print(s)"
   ]
  },
  {
   "cell_type": "code",
   "execution_count": 97,
   "metadata": {},
   "outputs": [],
   "source": [
    "transformed_x = np.matmul(eig_vec, np.matmul(s, data4.values.T))"
   ]
  },
  {
   "cell_type": "code",
   "execution_count": 98,
   "metadata": {},
   "outputs": [
    {
     "name": "stdout",
     "output_type": "stream",
     "text": [
      "keeping only first column:  93.21081186692534\n",
      "keeping only second column:  222.18391967801983\n",
      "keeping only third column:  195.48305796802245\n",
      "keeping only fourth column:  299.19844388162556\n"
     ]
    }
   ],
   "source": [
    "print('keeping only first column: ', sum(transformed_x[:,0]**2))\n",
    "print('keeping only second column: ', sum(transformed_x[:,1]**2))\n",
    "print('keeping only third column: ', sum(transformed_x[:,2]**2))\n",
    "print('keeping only fourth column: ', sum(transformed_x[:,3]**2))"
   ]
  },
  {
   "cell_type": "code",
   "execution_count": 101,
   "metadata": {},
   "outputs": [],
   "source": [
    "rep_loss = []\n",
    "rep_loss.append(sum(transformed_x[:,0]**2))\n",
    "rep_loss.append(sum(transformed_x[:,0]**2) + sum(transformed_x[:,2]**2))\n",
    "rep_loss.append(sum(transformed_x[:,0]**2 + sum(transformed_x[:,2]**2) + sum(transformed_x[:,1]**2)))\n",
    "rep_loss.append(sum(transformed_x[:,0]**2 + sum(transformed_x[:,2]**2) + sum(transformed_x[:,1]**2) + sum(transformed_x[:,3]**2)))"
   ]
  },
  {
   "cell_type": "code",
   "execution_count": 102,
   "metadata": {},
   "outputs": [
    {
     "name": "stdout",
     "output_type": "stream",
     "text": [
      "[93.21081186692534, 288.6938698349478, 1763.8787224510943, 2960.672497977597]\n"
     ]
    }
   ],
   "source": [
    "print(rep_loss)"
   ]
  },
  {
   "cell_type": "code",
   "execution_count": 103,
   "metadata": {},
   "outputs": [
    {
     "data": {
      "text/plain": [
       "[<matplotlib.lines.Line2D at 0x22a61747908>]"
      ]
     },
     "execution_count": 103,
     "metadata": {},
     "output_type": "execute_result"
    },
    {
     "data": {
      "image/png": "[encoded data removed]",
      "text/plain": [
       "<Figure size 432x288 with 1 Axes>"
      ]
     },
     "metadata": {
      "needs_background": "light"
     },
     "output_type": "display_data"
    }
   ],
   "source": [
    "plt.plot([1,2,3,4], rep_loss)"
   ]
  },
  {
   "cell_type": "markdown",
   "metadata": {
    "colab_type": "text",
    "id": "H__9kyFz_yip"
   },
   "source": [
    "# Application"
   ]
  },
  {
   "cell_type": "markdown",
   "metadata": {
    "colab_type": "text",
    "id": "GlFINCKfoOHJ"
   },
   "source": [
    "**(5a) Load the human face data set given below.**"
   ]
  },
  {
   "cell_type": "code",
   "execution_count": 111,
   "metadata": {},
   "outputs": [],
   "source": [
    "import matplotlib.pyplot as plt\n",
    "from sklearn.decomposition import PCA"
   ]
  },
  {
   "cell_type": "code",
   "execution_count": 106,
   "metadata": {},
   "outputs": [],
   "source": [
    "from sklearn.datasets import fetch_lfw_people\n",
    "faces = fetch_lfw_people(min_faces_per_person=60)"
   ]
  },
  {
   "cell_type": "markdown",
   "metadata": {
    "colab_type": "text",
    "id": "GlFINCKfoOHJ"
   },
   "source": [
    "** faces.data should contain vectorized 1-D images. faces.images should contain 2-D images.**\n",
    "\n",
    "**(5b) Visualize the data set.**"
   ]
  },
  {
   "cell_type": "code",
   "execution_count": 116,
   "metadata": {},
   "outputs": [
    {
     "data": {
      "text/plain": [
       "(62, 47)"
      ]
     },
     "execution_count": 116,
     "metadata": {},
     "output_type": "execute_result"
    }
   ],
   "source": [
    "faces.images[0].shape"
   ]
  },
  {
   "cell_type": "code",
   "execution_count": 107,
   "metadata": {},
   "outputs": [
    {
     "data": {
      "text/plain": [
       "<matplotlib.image.AxesImage at 0x22a63e00978>"
      ]
     },
     "execution_count": 107,
     "metadata": {},
     "output_type": "execute_result"
    },
    {
     "data": {
      "image/png": "[encoded data removed]",
      "text/plain": [
       "<Figure size 432x288 with 1 Axes>"
      ]
     },
     "metadata": {
      "needs_background": "light"
     },
     "output_type": "display_data"
    }
   ],
   "source": [
    "plt.imshow(faces.images[0])"
   ]
  },
  {
   "cell_type": "markdown",
   "metadata": {
    "colab_type": "text",
    "id": "GlFINCKfoOHJ"
   },
   "source": [
    "**(5c) Take faces.data and apply PCA. **"
   ]
  },
  {
   "cell_type": "code",
   "execution_count": 108,
   "metadata": {},
   "outputs": [],
   "source": [
    "data = faces.data"
   ]
  },
  {
   "cell_type": "code",
   "execution_count": 109,
   "metadata": {},
   "outputs": [
    {
     "data": {
      "text/plain": [
       "(1348, 2914)"
      ]
     },
     "execution_count": 109,
     "metadata": {},
     "output_type": "execute_result"
    }
   ],
   "source": [
    "data.shape"
   ]
  },
  {
   "cell_type": "code",
   "execution_count": 112,
   "metadata": {},
   "outputs": [],
   "source": [
    "pca = PCA(n_components = 150)"
   ]
  },
  {
   "cell_type": "code",
   "execution_count": 113,
   "metadata": {},
   "outputs": [],
   "source": [
    "transformed_x = pca.fit_transform(data)"
   ]
  },
  {
   "cell_type": "markdown",
   "metadata": {
    "colab_type": "text",
    "id": "GlFINCKfoOHJ"
   },
   "source": [
    "**(5c) Take the top 150 features from PCA. Reconstruct the images with the top 150 features and visualize it. Comment.**"
   ]
  },
  {
   "cell_type": "code",
   "execution_count": 127,
   "metadata": {},
   "outputs": [
    {
     "data": {
      "text/plain": [
       "<matplotlib.image.AxesImage at 0x22a650d1518>"
      ]
     },
     "execution_count": 127,
     "metadata": {},
     "output_type": "execute_result"
    },
    {
     "data": {
      "image/png": "[encoded data removed]",
      "text/plain": [
       "<Figure size 432x288 with 1 Axes>"
      ]
     },
     "metadata": {
      "needs_background": "light"
     },
     "output_type": "display_data"
    }
   ],
   "source": [
    "plt.imshow(np.reshape(transformed_x[5], (15,10)))"
   ]
  },
  {
   "cell_type": "code",
   "execution_count": 126,
   "metadata": {},
   "outputs": [
    {
     "data": {
      "text/plain": [
       "<matplotlib.image.AxesImage at 0x22a6507c400>"
      ]
     },
     "execution_count": 126,
     "metadata": {},
     "output_type": "execute_result"
    },
    {
     "data": {
      "image/png": "[encoded data removed]",
      "text/plain": [
       "<Figure size 432x288 with 1 Axes>"
      ]
     },
     "metadata": {
      "needs_background": "light"
     },
     "output_type": "display_data"
    }
   ],
   "source": [
    "plt.imshow(np.reshape(data[5], (62,47)))"
   ]
  },
  {
   "cell_type": "markdown",
   "metadata": {
    "colab_type": "text",
    "id": "GlFINCKfoOHJ"
   },
   "source": [
    "**(5d) Consider any two classes (categories, e.g., humans) from the data set. Compare the performance of logistic regression with and without PCA. Comment on the classification accuracy. (Optional). **"
   ]
  },
  {
   "cell_type": "code",
   "execution_count": null,
   "metadata": {},
   "outputs": [],
   "source": []
  }
 ],
 "metadata": {
  "colab": {
   "collapsed_sections": [],
   "name": "Lab5_DataAnalytics.ipynb",
   "provenance": [],
   "version": "0.3.2"
  },
  "kernelspec": {
   "display_name": "Python 3",
   "language": "python",
   "name": "python3"
  },
  "language_info": {
   "codemirror_mode": {
    "name": "ipython",
    "version": 3
   },
   "file_extension": ".py",
   "mimetype": "text/x-python",
   "name": "python",
   "nbconvert_exporter": "python",
   "pygments_lexer": "ipython3",
   "version": "3.7.0"
  }
 },
 "nbformat": 4,
 "nbformat_minor": 1
}
