{
 "cells": [
  {
   "cell_type": "markdown",
   "metadata": {},
   "source": [
    "## Week 6: K-means Clustering"
   ]
  },
  {
   "cell_type": "markdown",
   "metadata": {},
   "source": [
    "**(1a) Load the data file 'kmc-data1.xlsx' and visualize the data.**"
   ]
  },
  {
   "cell_type": "code",
   "execution_count": 1,
   "metadata": {},
   "outputs": [],
   "source": [
    "import pandas as pd\n",
    "import matplotlib.pyplot as plt\n",
    "from tqdm import tqdm\n",
    "import numpy as np"
   ]
  },
  {
   "cell_type": "code",
   "execution_count": 2,
   "metadata": {},
   "outputs": [
    {
     "name": "stderr",
     "output_type": "stream",
     "text": [
      "C:\\Users\\Rohit Kumar\\Anaconda3\\lib\\site-packages\\pandas\\io\\excel.py:329: FutureWarning: The `sheetname` keyword is deprecated, use `sheet_name` instead\n",
      "  **kwds)\n"
     ]
    }
   ],
   "source": [
    "data = pd.read_excel('kmc.xlsx', sheetname = 'Data1', header = None)"
   ]
  },
  {
   "cell_type": "code",
   "execution_count": 3,
   "metadata": {},
   "outputs": [],
   "source": [
    "data.columns = ['X', 'Y']"
   ]
  },
  {
   "cell_type": "code",
   "execution_count": 4,
   "metadata": {},
   "outputs": [
    {
     "data": {
      "text/html": [
       "<div>\n",
       "<style scoped>\n",
       "    .dataframe tbody tr th:only-of-type {\n",
       "        vertical-align: middle;\n",
       "    }\n",
       "\n",
       "    .dataframe tbody tr th {\n",
       "        vertical-align: top;\n",
       "    }\n",
       "\n",
       "    .dataframe thead th {\n",
       "        text-align: right;\n",
       "    }\n",
       "</style>\n",
       "<table border=\"1\" class=\"dataframe\">\n",
       "  <thead>\n",
       "    <tr style=\"text-align: right;\">\n",
       "      <th></th>\n",
       "      <th>X</th>\n",
       "      <th>Y</th>\n",
       "    </tr>\n",
       "  </thead>\n",
       "  <tbody>\n",
       "    <tr>\n",
       "      <th>count</th>\n",
       "      <td>300.000000</td>\n",
       "      <td>300.000000</td>\n",
       "    </tr>\n",
       "    <tr>\n",
       "      <th>mean</th>\n",
       "      <td>-0.042479</td>\n",
       "      <td>2.647752</td>\n",
       "    </tr>\n",
       "    <tr>\n",
       "      <th>std</th>\n",
       "      <td>3.346732</td>\n",
       "      <td>2.176512</td>\n",
       "    </tr>\n",
       "    <tr>\n",
       "      <th>min</th>\n",
       "      <td>-5.999158</td>\n",
       "      <td>-2.589323</td>\n",
       "    </tr>\n",
       "    <tr>\n",
       "      <th>25%</th>\n",
       "      <td>-3.359573</td>\n",
       "      <td>0.674117</td>\n",
       "    </tr>\n",
       "    <tr>\n",
       "      <th>50%</th>\n",
       "      <td>-0.022848</td>\n",
       "      <td>3.256135</td>\n",
       "    </tr>\n",
       "    <tr>\n",
       "      <th>75%</th>\n",
       "      <td>3.136942</td>\n",
       "      <td>4.222386</td>\n",
       "    </tr>\n",
       "    <tr>\n",
       "      <th>max</th>\n",
       "      <td>6.066461</td>\n",
       "      <td>7.494883</td>\n",
       "    </tr>\n",
       "  </tbody>\n",
       "</table>\n",
       "</div>"
      ],
      "text/plain": [
       "                X           Y\n",
       "count  300.000000  300.000000\n",
       "mean    -0.042479    2.647752\n",
       "std      3.346732    2.176512\n",
       "min     -5.999158   -2.589323\n",
       "25%     -3.359573    0.674117\n",
       "50%     -0.022848    3.256135\n",
       "75%      3.136942    4.222386\n",
       "max      6.066461    7.494883"
      ]
     },
     "execution_count": 4,
     "metadata": {},
     "output_type": "execute_result"
    }
   ],
   "source": [
    "data.describe()"
   ]
  },
  {
   "cell_type": "code",
   "execution_count": 5,
   "metadata": {},
   "outputs": [
    {
     "data": {
      "text/plain": [
       "<matplotlib.collections.PathCollection at 0x1aa8a38ec50>"
      ]
     },
     "execution_count": 5,
     "metadata": {},
     "output_type": "execute_result"
    },
    {
     "data": {
      "image/png": "[encoded data removed]",
      "text/plain": [
       "<Figure size 432x288 with 1 Axes>"
      ]
     },
     "metadata": {
      "needs_background": "light"
     },
     "output_type": "display_data"
    }
   ],
   "source": [
    "plt.scatter(data['X'], data['Y'])"
   ]
  },
  {
   "cell_type": "markdown",
   "metadata": {},
   "source": [
    "**(1b) Implement K-means clustering. **\n",
    "\n",
    "**(1c) Let $K = 3$ and the initial cluster means be $[0,0], [4,4]$ and $[-4,4]$. Plot the final clusters with K-means clustering.**"
   ]
  },
  {
   "cell_type": "code",
   "execution_count": 6,
   "metadata": {},
   "outputs": [],
   "source": [
    "def centroid(points):\n",
    "    points = np.array(points)\n",
    "    x = np.mean(points[:,0])\n",
    "    y = np.mean(points[:,1])\n",
    "    return [x, y]\n",
    "def initialize_clusters(clusters, n):\n",
    "    for i in range(n):\n",
    "        clusters[i] = []\n",
    "    return clusters\n",
    "def cluster_distance(data, n, cluster_points):\n",
    "    data_val = data.values\n",
    "    cluster_points = np.array(cluster_points)\n",
    "    distance_matrix = np.zeros((data.shape[0], n))\n",
    "    for i in range(data.shape[0]):\n",
    "        for j in range(n):\n",
    "            distance_matrix[i,j] = np.linalg.norm(cluster_points[j] - data_val[i])\n",
    "    return distance_matrix\n",
    "def cluster_points_up(distance_matrix, data):\n",
    "    data_val = data.values\n",
    "    clusters = initialize_clusters({}, n)\n",
    "    for i in range(data.shape[0]):\n",
    "        index = np.argmin(distance_matrix[i])\n",
    "        clusters[index].append(list(data_val[i]))\n",
    "    return clusters"
   ]
  },
  {
   "cell_type": "code",
   "execution_count": 7,
   "metadata": {},
   "outputs": [],
   "source": [
    "cluster_centers = [[0,0], [4,4], [-4,4]]\n",
    "n = 3\n",
    "iterations = 10\n",
    "for i in range(iterations):\n",
    "    distance_matrix = cluster_distance(data, n, cluster_centers)\n",
    "    cluster_points = cluster_points_up(distance_matrix, data)\n",
    "    for j in range(n):\n",
    "        cluster_centers[j] = centroid(cluster_points[j])"
   ]
  },
  {
   "cell_type": "code",
   "execution_count": 8,
   "metadata": {},
   "outputs": [
    {
     "data": {
      "text/plain": [
       "<matplotlib.collections.PathCollection at 0x1aa8a44d128>"
      ]
     },
     "execution_count": 8,
     "metadata": {},
     "output_type": "execute_result"
    },
    {
     "data": {
      "image/png": "[encoded data removed]",
      "text/plain": [
       "<Figure size 432x288 with 1 Axes>"
      ]
     },
     "metadata": {
      "needs_background": "light"
     },
     "output_type": "display_data"
    }
   ],
   "source": [
    "cluster1 = np.array(cluster_points[0])\n",
    "plt.scatter(cluster_centers[0][0], cluster_centers[0][1],c = 'r',s = 1000)\n",
    "plt.scatter(cluster1[:,0], cluster1[:,1], c = 'r')\n",
    "plt.scatter(cluster_centers[1][0], cluster_centers[1][1],c = 'b',s = 1000)\n",
    "cluster2 = np.array(cluster_points[1])\n",
    "plt.scatter(cluster2[:,0], cluster2[:,1], c = 'b')\n",
    "cluster3 = np.array(cluster_points[2])\n",
    "plt.scatter(cluster_centers[2][0], cluster_centers[2][1],c = 'g',s = 1000)\n",
    "plt.scatter(cluster3[:,0], cluster3[:,1], c = 'g')"
   ]
  },
  {
   "cell_type": "markdown",
   "metadata": {},
   "source": [
    "**(1d) Compute the sum of square distance of each point from the cluster mean.**"
   ]
  },
  {
   "cell_type": "code",
   "execution_count": 12,
   "metadata": {},
   "outputs": [
    {
     "name": "stdout",
     "output_type": "stream",
     "text": [
      "589.9093182547095\n"
     ]
    }
   ],
   "source": [
    "def sum_of_squared_distance(distance_matrix):    \n",
    "    sum_sq = 0\n",
    "    for i in range(distance_matrix.shape[0]):\n",
    "        sum_sq += min(distance_matrix[i])**2\n",
    "    \n",
    "    return sum_sq\n",
    "print(sum_of_squared_distance(distance_matrix))"
   ]
  },
  {
   "cell_type": "markdown",
   "metadata": {},
   "source": [
    "**(1e) Repeat the above exercise for all $K = 2,3,4$. **\n",
    "\n",
    "**(1f) Plot the final clusters (for $K = 2,3,4$) and report the sum of square distance of each point from the cluster mean. Comment.**"
   ]
  },
  {
   "cell_type": "code",
   "execution_count": 14,
   "metadata": {},
   "outputs": [],
   "source": [
    "cluster_centers = [[0,0], [4,4]]\n",
    "n = 2\n",
    "iterations = 10\n",
    "for i in range(iterations):\n",
    "    distance_matrix = cluster_distance(data, n, cluster_centers)\n",
    "    cluster_points = cluster_points_up(distance_matrix, data)\n",
    "    for j in range(n):\n",
    "        cluster_centers[j] = centroid(cluster_points[j])"
   ]
  },
  {
   "cell_type": "code",
   "execution_count": 15,
   "metadata": {},
   "outputs": [
    {
     "data": {
      "image/png": "[encoded data removed]",
      "text/plain": [
       "<Figure size 432x288 with 1 Axes>"
      ]
     },
     "metadata": {
      "needs_background": "light"
     },
     "output_type": "display_data"
    }
   ],
   "source": [
    "cluster1 = np.array(cluster_points[0])\n",
    "plt.scatter(cluster_centers[0][0], cluster_centers[0][1],c = 'r',s = 1000)\n",
    "plt.scatter(cluster1[:,0], cluster1[:,1], c = 'r')\n",
    "plt.scatter(cluster_centers[1][0], cluster_centers[1][1],c = 'b',s = 1000)\n",
    "cluster2 = np.array(cluster_points[1])"
   ]
  },
  {
   "cell_type": "code",
   "execution_count": 16,
   "metadata": {},
   "outputs": [
    {
     "name": "stdout",
     "output_type": "stream",
     "text": [
      "2219.671971591101\n"
     ]
    }
   ],
   "source": [
    "print(sum_of_squared_distance(distance_matrix))"
   ]
  },
  {
   "cell_type": "code",
   "execution_count": 17,
   "metadata": {},
   "outputs": [],
   "source": [
    "cluster_centers = [[2,2], [5,5], [3,3]]\n",
    "n = 3\n",
    "iterations = 10\n",
    "for i in range(iterations):\n",
    "    distance_matrix = cluster_distance(data, n, cluster_centers)\n",
    "    cluster_points = cluster_points_up(distance_matrix, data)\n",
    "    for j in range(n):\n",
    "        cluster_centers[j] = centroid(cluster_points[j])"
   ]
  },
  {
   "cell_type": "code",
   "execution_count": 18,
   "metadata": {},
   "outputs": [
    {
     "data": {
      "text/plain": [
       "<matplotlib.collections.PathCollection at 0x1aa8a515ba8>"
      ]
     },
     "execution_count": 18,
     "metadata": {},
     "output_type": "execute_result"
    },
    {
     "data": {
      "image/png": "[encoded data removed]",
      "text/plain": [
       "<Figure size 432x288 with 1 Axes>"
      ]
     },
     "metadata": {
      "needs_background": "light"
     },
     "output_type": "display_data"
    }
   ],
   "source": [
    "cluster1 = np.array(cluster_points[0])\n",
    "plt.scatter(cluster_centers[0][0], cluster_centers[0][1],c = 'r',s = 1000)\n",
    "plt.scatter(cluster1[:,0], cluster1[:,1], c = 'r')\n",
    "plt.scatter(cluster_centers[1][0], cluster_centers[1][1],c = 'b',s = 1000)\n",
    "cluster2 = np.array(cluster_points[1])\n",
    "plt.scatter(cluster2[:,0], cluster2[:,1], c = 'b')\n",
    "cluster3 = np.array(cluster_points[2])\n",
    "plt.scatter(cluster_centers[2][0], cluster_centers[2][1],c = 'g',s = 1000)\n",
    "plt.scatter(cluster3[:,0], cluster3[:,1], c = 'g')"
   ]
  },
  {
   "cell_type": "code",
   "execution_count": 19,
   "metadata": {},
   "outputs": [
    {
     "name": "stdout",
     "output_type": "stream",
     "text": [
      "589.9093182547095\n"
     ]
    }
   ],
   "source": [
    "print(sum_of_squared_distance(distance_matrix))"
   ]
  },
  {
   "cell_type": "code",
   "execution_count": 20,
   "metadata": {},
   "outputs": [],
   "source": [
    "cluster_centers = [[2,2], [5,5], [3,3], [-2,2]]\n",
    "n = 4\n",
    "iterations = 10\n",
    "for i in range(iterations):\n",
    "    distance_matrix = cluster_distance(data, n, cluster_centers)\n",
    "    cluster_points = cluster_points_up(distance_matrix, data)\n",
    "    for j in range(n):\n",
    "        cluster_centers[j] = centroid(cluster_points[j])"
   ]
  },
  {
   "cell_type": "code",
   "execution_count": 21,
   "metadata": {},
   "outputs": [
    {
     "data": {
      "text/plain": [
       "<matplotlib.collections.PathCollection at 0x1aa8a57ef60>"
      ]
     },
     "execution_count": 21,
     "metadata": {},
     "output_type": "execute_result"
    },
    {
     "data": {
      "image/png": "[encoded data removed]",
      "text/plain": [
       "<Figure size 432x288 with 1 Axes>"
      ]
     },
     "metadata": {
      "needs_background": "light"
     },
     "output_type": "display_data"
    }
   ],
   "source": [
    "cluster1 = np.array(cluster_points[0])\n",
    "plt.scatter(cluster_centers[0][0], cluster_centers[0][1],c = 'r',s = 500)\n",
    "plt.scatter(cluster1[:,0], cluster1[:,1], c = 'r')\n",
    "plt.scatter(cluster_centers[1][0], cluster_centers[1][1],c = 'b',s = 500)\n",
    "cluster2 = np.array(cluster_points[1])\n",
    "plt.scatter(cluster2[:,0], cluster2[:,1], c = 'b')\n",
    "cluster3 = np.array(cluster_points[2])\n",
    "plt.scatter(cluster_centers[2][0], cluster_centers[2][1],c = 'g',s = 500)\n",
    "plt.scatter(cluster3[:,0], cluster3[:,1], c = 'g')\n",
    "cluster4 = np.array(cluster_points[3])\n",
    "plt.scatter(cluster_centers[3][0], cluster_centers[3][1], c = 'y', s = 500)\n",
    "plt.scatter(cluster4[:,0], cluster4[:,1], c = 'y')"
   ]
  },
  {
   "cell_type": "code",
   "execution_count": 22,
   "metadata": {},
   "outputs": [
    {
     "name": "stdout",
     "output_type": "stream",
     "text": [
      "515.4101338355796\n"
     ]
    }
   ],
   "source": [
    "print(sum_of_squared_distance(distance_matrix))"
   ]
  },
  {
   "cell_type": "markdown",
   "metadata": {},
   "source": [
    "**(2a) Load the data from the file 'kmc-data2.xlsx' and visualize the data. **"
   ]
  },
  {
   "cell_type": "code",
   "execution_count": 25,
   "metadata": {},
   "outputs": [
    {
     "name": "stderr",
     "output_type": "stream",
     "text": [
      "C:\\Users\\Rohit Kumar\\Anaconda3\\lib\\site-packages\\pandas\\io\\excel.py:329: FutureWarning: The `sheetname` keyword is deprecated, use `sheet_name` instead\n",
      "  **kwds)\n"
     ]
    }
   ],
   "source": [
    "data = pd.read_excel('kmc.xlsx', sheetname = 'Data2')"
   ]
  },
  {
   "cell_type": "code",
   "execution_count": 26,
   "metadata": {},
   "outputs": [
    {
     "data": {
      "text/plain": [
       "<matplotlib.collections.PathCollection at 0x1aa8a4a8b70>"
      ]
     },
     "execution_count": 26,
     "metadata": {},
     "output_type": "execute_result"
    },
    {
     "data": {
      "image/png": "[encoded data removed]",
      "text/plain": [
       "<Figure size 432x288 with 1 Axes>"
      ]
     },
     "metadata": {
      "needs_background": "light"
     },
     "output_type": "display_data"
    }
   ],
   "source": [
    "plt.scatter(data['X'], data['Y'])"
   ]
  },
  {
   "cell_type": "markdown",
   "metadata": {},
   "source": [
    "**(2b) Cluster the data with K-means clustering. Consider $K = 2$. **"
   ]
  },
  {
   "cell_type": "code",
   "execution_count": 31,
   "metadata": {},
   "outputs": [
    {
     "name": "stdout",
     "output_type": "stream",
     "text": [
      "(1492, 2)\n"
     ]
    }
   ],
   "source": [
    "print(data.shape)"
   ]
  },
  {
   "cell_type": "code",
   "execution_count": 41,
   "metadata": {},
   "outputs": [
    {
     "name": "stdout",
     "output_type": "stream",
     "text": [
      "(1492, 2)\n",
      "number of points belonging to first cluster:  1492\n",
      "number of points belonging to second cluster:  0\n"
     ]
    }
   ],
   "source": [
    "cluster_centers = [[2,2], [3,3]]\n",
    "n = 2\n",
    "iterations = 10\n",
    "for i in range(iterations):\n",
    "    distance_matrix = cluster_distance(data, n, cluster_centers)\n",
    "    cluster_points = cluster_points_up(distance_matrix, data)\n",
    "    \n",
    "    \n",
    "print(distance_matrix.shape)\n",
    "print('number of points belonging to first cluster: ',len(cluster_points[0]))\n",
    "print('number of points belonging to second cluster: ',len(cluster_points[1]))"
   ]
  },
  {
   "cell_type": "markdown",
   "metadata": {},
   "source": [
    "**(2c) Suppose you want to cluster the data into two rings. Now, transform the data such that K-means clustering identifies the two rings as clusters. **"
   ]
  },
  {
   "cell_type": "code",
   "execution_count": 47,
   "metadata": {},
   "outputs": [],
   "source": [
    "data['Radius'] = np.sqrt(data['X']**2 + data['Y']**2)"
   ]
  },
  {
   "cell_type": "code",
   "execution_count": 69,
   "metadata": {},
   "outputs": [],
   "source": [
    "cluster_centers = [[0.1,0,0], [0.2,0,1.5]]\n",
    "n = 2\n",
    "iterations = 100\n",
    "for i in range(iterations):\n",
    "    distance_matrix = cluster_distance(data, n, cluster_centers)\n",
    "    cluster_points = cluster_points_up(distance_matrix, data)\n",
    "    \n",
    "    "
   ]
  },
  {
   "cell_type": "code",
   "execution_count": 70,
   "metadata": {},
   "outputs": [
    {
     "name": "stdout",
     "output_type": "stream",
     "text": [
      "(1492, 2)\n",
      "number of points belonging to first cluster:  499\n",
      "number of points belonging to second cluster:  993\n"
     ]
    }
   ],
   "source": [
    "print(distance_matrix.shape)\n",
    "print('number of points belonging to first cluster: ',len(cluster_points[0]))\n",
    "print('number of points belonging to second cluster: ',len(cluster_points[1]))"
   ]
  },
  {
   "cell_type": "code",
   "execution_count": 72,
   "metadata": {},
   "outputs": [
    {
     "data": {
      "text/plain": [
       "<matplotlib.collections.PathCollection at 0x1aa8bb55588>"
      ]
     },
     "execution_count": 72,
     "metadata": {},
     "output_type": "execute_result"
    },
    {
     "data": {
      "image/png": "[encoded data removed]",
      "text/plain": [
       "<Figure size 432x288 with 1 Axes>"
      ]
     },
     "metadata": {
      "needs_background": "light"
     },
     "output_type": "display_data"
    }
   ],
   "source": [
    "cluster1 = np.array(cluster_points[0])\n",
    "#plt.scatter(cluster_centers[0][0], cluster_centers[0][1],c = 'r',s = 500)\n",
    "plt.scatter(cluster1[:,0], cluster1[:,1], c = 'r')\n",
    "#plt.scatter(cluster_centers[1][0], cluster_centers[1][1],c = 'b',s = 500)\n",
    "cluster2 = np.array(cluster_points[1])\n",
    "plt.scatter(cluster2[:,0], cluster2[:,1], c = 'b')"
   ]
  },
  {
   "cell_type": "markdown",
   "metadata": {},
   "source": [
    "**(3a) (Optional) Consider the data in 'kmc-data1.xlsx'. Now, approximate the distribution of the data with a mixture of Gaussians, one per cluster. Report the distribution. **\n",
    "\n",
    "**(3b) (Optional) Sample points from the mixture distribution and see if the points lie in the same cluster (distribution) from which it was generated. **"
   ]
  },
  {
   "cell_type": "code",
   "execution_count": null,
   "metadata": {},
   "outputs": [],
   "source": []
  }
 ],
 "metadata": {
  "kernelspec": {
   "display_name": "Python 3",
   "language": "python",
   "name": "python3"
  },
  "language_info": {
   "codemirror_mode": {
    "name": "ipython",
    "version": 3
   },
   "file_extension": ".py",
   "mimetype": "text/x-python",
   "name": "python",
   "nbconvert_exporter": "python",
   "pygments_lexer": "ipython3",
   "version": "3.7.0"
  }
 },
 "nbformat": 4,
 "nbformat_minor": 1
}
