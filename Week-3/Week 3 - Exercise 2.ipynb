{
 "cells": [
  {
   "cell_type": "markdown",
   "metadata": {
    "colab_type": "text",
    "id": "N1P3fTzt_wZ1"
   },
   "source": [
    "# Diabetes Data Set\n",
    "\n",
    "Dataset file: 'diabetes.data'  \n",
    "Reference link for description of dataset: https://www4.stat.ncsu.edu/~boos/var.select/diabetes.html"
   ]
  },
  {
   "cell_type": "markdown",
   "metadata": {
    "colab_type": "text",
    "id": "vwuU7CGN_wZ4"
   },
   "source": [
    "### Preview of the Data Set\n",
    "\n",
    "Load the data set.\n",
    "\n",
    "a) Analyse the data set. Print the number of features, feature names, data types of the features, number of data points and the values of the first 10 data points."
   ]
  },
  {
   "cell_type": "code",
   "execution_count": 17,
   "metadata": {
    "colab": {
     "base_uri": "https://localhost:8080/",
     "height": 125
    },
    "colab_type": "code",
    "executionInfo": {
     "elapsed": 43689,
     "status": "ok",
     "timestamp": 1565616556350,
     "user": {
      "displayName": "MALKAPURAM GANDLA SAI SREE",
      "photoUrl": "",
      "userId": "06629185457401699264"
     },
     "user_tz": -330
    },
    "id": "Xzaddo1IA7hv",
    "outputId": "96b5cb56-eb5b-4fcb-d768-e7a6e7533463"
   },
   "outputs": [],
   "source": [
    "import pandas as pd\n",
    "import numpy as np\n",
    "import csv\n",
    "from sklearn import preprocessing\n",
    "from sklearn.preprocessing import PolynomialFeatures\n",
    "from sklearn.model_selection import train_test_split\n",
    "from sklearn.linear_model import LinearRegression\n",
    "from sklearn.metrics import mean_squared_error"
   ]
  },
  {
   "cell_type": "code",
   "execution_count": 2,
   "metadata": {},
   "outputs": [],
   "source": [
    "data = pd.read_csv('diabetes.data', delimiter = '\\t')"
   ]
  },
  {
   "cell_type": "code",
   "execution_count": 3,
   "metadata": {},
   "outputs": [
    {
     "name": "stdout",
     "output_type": "stream",
     "text": [
      "number of features:  11\n"
     ]
    }
   ],
   "source": [
    "print('number of features: ', len(data.columns))"
   ]
  },
  {
   "cell_type": "code",
   "execution_count": 4,
   "metadata": {
    "scrolled": true
   },
   "outputs": [
    {
     "data": {
      "text/plain": [
       "Index(['AGE', 'SEX', 'BMI', 'BP', 'S1', 'S2', 'S3', 'S4', 'S5', 'S6', 'Y'], dtype='object')"
      ]
     },
     "execution_count": 4,
     "metadata": {},
     "output_type": "execute_result"
    }
   ],
   "source": [
    "data.columns"
   ]
  },
  {
   "cell_type": "code",
   "execution_count": 5,
   "metadata": {
    "scrolled": true
   },
   "outputs": [
    {
     "name": "stdout",
     "output_type": "stream",
     "text": [
      "<class 'pandas.core.frame.DataFrame'>\n",
      "RangeIndex: 442 entries, 0 to 441\n",
      "Data columns (total 11 columns):\n",
      "AGE    442 non-null int64\n",
      "SEX    442 non-null int64\n",
      "BMI    442 non-null float64\n",
      "BP     442 non-null float64\n",
      "S1     442 non-null int64\n",
      "S2     442 non-null float64\n",
      "S3     442 non-null float64\n",
      "S4     442 non-null float64\n",
      "S5     442 non-null float64\n",
      "S6     442 non-null int64\n",
      "Y      442 non-null int64\n",
      "dtypes: float64(6), int64(5)\n",
      "memory usage: 38.1 KB\n"
     ]
    }
   ],
   "source": [
    "data.info()"
   ]
  },
  {
   "cell_type": "code",
   "execution_count": 7,
   "metadata": {},
   "outputs": [
    {
     "data": {
      "text/html": [
       "<div>\n",
       "<style scoped>\n",
       "    .dataframe tbody tr th:only-of-type {\n",
       "        vertical-align: middle;\n",
       "    }\n",
       "\n",
       "    .dataframe tbody tr th {\n",
       "        vertical-align: top;\n",
       "    }\n",
       "\n",
       "    .dataframe thead th {\n",
       "        text-align: right;\n",
       "    }\n",
       "</style>\n",
       "<table border=\"1\" class=\"dataframe\">\n",
       "  <thead>\n",
       "    <tr style=\"text-align: right;\">\n",
       "      <th></th>\n",
       "      <th>AGE</th>\n",
       "      <th>SEX</th>\n",
       "      <th>BMI</th>\n",
       "      <th>BP</th>\n",
       "      <th>S1</th>\n",
       "      <th>S2</th>\n",
       "      <th>S3</th>\n",
       "      <th>S4</th>\n",
       "      <th>S5</th>\n",
       "      <th>S6</th>\n",
       "      <th>Y</th>\n",
       "    </tr>\n",
       "  </thead>\n",
       "  <tbody>\n",
       "    <tr>\n",
       "      <th>0</th>\n",
       "      <td>59</td>\n",
       "      <td>2</td>\n",
       "      <td>32.1</td>\n",
       "      <td>101.0</td>\n",
       "      <td>157</td>\n",
       "      <td>93.2</td>\n",
       "      <td>38.0</td>\n",
       "      <td>4.00</td>\n",
       "      <td>4.8598</td>\n",
       "      <td>87</td>\n",
       "      <td>151</td>\n",
       "    </tr>\n",
       "    <tr>\n",
       "      <th>1</th>\n",
       "      <td>48</td>\n",
       "      <td>1</td>\n",
       "      <td>21.6</td>\n",
       "      <td>87.0</td>\n",
       "      <td>183</td>\n",
       "      <td>103.2</td>\n",
       "      <td>70.0</td>\n",
       "      <td>3.00</td>\n",
       "      <td>3.8918</td>\n",
       "      <td>69</td>\n",
       "      <td>75</td>\n",
       "    </tr>\n",
       "    <tr>\n",
       "      <th>2</th>\n",
       "      <td>72</td>\n",
       "      <td>2</td>\n",
       "      <td>30.5</td>\n",
       "      <td>93.0</td>\n",
       "      <td>156</td>\n",
       "      <td>93.6</td>\n",
       "      <td>41.0</td>\n",
       "      <td>4.00</td>\n",
       "      <td>4.6728</td>\n",
       "      <td>85</td>\n",
       "      <td>141</td>\n",
       "    </tr>\n",
       "    <tr>\n",
       "      <th>3</th>\n",
       "      <td>24</td>\n",
       "      <td>1</td>\n",
       "      <td>25.3</td>\n",
       "      <td>84.0</td>\n",
       "      <td>198</td>\n",
       "      <td>131.4</td>\n",
       "      <td>40.0</td>\n",
       "      <td>5.00</td>\n",
       "      <td>4.8903</td>\n",
       "      <td>89</td>\n",
       "      <td>206</td>\n",
       "    </tr>\n",
       "    <tr>\n",
       "      <th>4</th>\n",
       "      <td>50</td>\n",
       "      <td>1</td>\n",
       "      <td>23.0</td>\n",
       "      <td>101.0</td>\n",
       "      <td>192</td>\n",
       "      <td>125.4</td>\n",
       "      <td>52.0</td>\n",
       "      <td>4.00</td>\n",
       "      <td>4.2905</td>\n",
       "      <td>80</td>\n",
       "      <td>135</td>\n",
       "    </tr>\n",
       "    <tr>\n",
       "      <th>5</th>\n",
       "      <td>23</td>\n",
       "      <td>1</td>\n",
       "      <td>22.6</td>\n",
       "      <td>89.0</td>\n",
       "      <td>139</td>\n",
       "      <td>64.8</td>\n",
       "      <td>61.0</td>\n",
       "      <td>2.00</td>\n",
       "      <td>4.1897</td>\n",
       "      <td>68</td>\n",
       "      <td>97</td>\n",
       "    </tr>\n",
       "    <tr>\n",
       "      <th>6</th>\n",
       "      <td>36</td>\n",
       "      <td>2</td>\n",
       "      <td>22.0</td>\n",
       "      <td>90.0</td>\n",
       "      <td>160</td>\n",
       "      <td>99.6</td>\n",
       "      <td>50.0</td>\n",
       "      <td>3.00</td>\n",
       "      <td>3.9512</td>\n",
       "      <td>82</td>\n",
       "      <td>138</td>\n",
       "    </tr>\n",
       "    <tr>\n",
       "      <th>7</th>\n",
       "      <td>66</td>\n",
       "      <td>2</td>\n",
       "      <td>26.2</td>\n",
       "      <td>114.0</td>\n",
       "      <td>255</td>\n",
       "      <td>185.0</td>\n",
       "      <td>56.0</td>\n",
       "      <td>4.55</td>\n",
       "      <td>4.2485</td>\n",
       "      <td>92</td>\n",
       "      <td>63</td>\n",
       "    </tr>\n",
       "    <tr>\n",
       "      <th>8</th>\n",
       "      <td>60</td>\n",
       "      <td>2</td>\n",
       "      <td>32.1</td>\n",
       "      <td>83.0</td>\n",
       "      <td>179</td>\n",
       "      <td>119.4</td>\n",
       "      <td>42.0</td>\n",
       "      <td>4.00</td>\n",
       "      <td>4.4773</td>\n",
       "      <td>94</td>\n",
       "      <td>110</td>\n",
       "    </tr>\n",
       "    <tr>\n",
       "      <th>9</th>\n",
       "      <td>29</td>\n",
       "      <td>1</td>\n",
       "      <td>30.0</td>\n",
       "      <td>85.0</td>\n",
       "      <td>180</td>\n",
       "      <td>93.4</td>\n",
       "      <td>43.0</td>\n",
       "      <td>4.00</td>\n",
       "      <td>5.3845</td>\n",
       "      <td>88</td>\n",
       "      <td>310</td>\n",
       "    </tr>\n",
       "  </tbody>\n",
       "</table>\n",
       "</div>"
      ],
      "text/plain": [
       "   AGE  SEX   BMI     BP   S1     S2    S3    S4      S5  S6    Y\n",
       "0   59    2  32.1  101.0  157   93.2  38.0  4.00  4.8598  87  151\n",
       "1   48    1  21.6   87.0  183  103.2  70.0  3.00  3.8918  69   75\n",
       "2   72    2  30.5   93.0  156   93.6  41.0  4.00  4.6728  85  141\n",
       "3   24    1  25.3   84.0  198  131.4  40.0  5.00  4.8903  89  206\n",
       "4   50    1  23.0  101.0  192  125.4  52.0  4.00  4.2905  80  135\n",
       "5   23    1  22.6   89.0  139   64.8  61.0  2.00  4.1897  68   97\n",
       "6   36    2  22.0   90.0  160   99.6  50.0  3.00  3.9512  82  138\n",
       "7   66    2  26.2  114.0  255  185.0  56.0  4.55  4.2485  92   63\n",
       "8   60    2  32.1   83.0  179  119.4  42.0  4.00  4.4773  94  110\n",
       "9   29    1  30.0   85.0  180   93.4  43.0  4.00  5.3845  88  310"
      ]
     },
     "execution_count": 7,
     "metadata": {},
     "output_type": "execute_result"
    }
   ],
   "source": [
    "data.head(10)"
   ]
  },
  {
   "cell_type": "markdown",
   "metadata": {
    "colab_type": "text",
    "id": "Sm9xTLRe_waF"
   },
   "source": [
    "### Training and Testing Data Sets\n",
    "\n",
    "b) Split the data set into training and testing data set with a 80:20 ratio.\n",
    "\n",
    "(Hint: What precautions must you take before you split the data set?)"
   ]
  },
  {
   "cell_type": "markdown",
   "metadata": {},
   "source": [
    "The data should be shuffled properly"
   ]
  },
  {
   "cell_type": "code",
   "execution_count": 8,
   "metadata": {
    "colab": {},
    "colab_type": "code",
    "id": "G3vwkJem_waG"
   },
   "outputs": [],
   "source": [
    "train, test = train_test_split(data, test_size = 0.2)"
   ]
  },
  {
   "cell_type": "markdown",
   "metadata": {
    "colab_type": "text",
    "id": "7qfwzLcr_waJ"
   },
   "source": [
    "### Linear Regression\n",
    "\n",
    "c) Using linear regression, seek a model for the response of interest ($Y$), as a function of the baseline variables such as age, sex, body mass index, etc. Compute the training error and testing error."
   ]
  },
  {
   "cell_type": "code",
   "execution_count": 9,
   "metadata": {
    "colab": {
     "base_uri": "https://localhost:8080/",
     "height": 52
    },
    "colab_type": "code",
    "executionInfo": {
     "elapsed": 1100,
     "status": "ok",
     "timestamp": 1565616648527,
     "user": {
      "displayName": "MALKAPURAM GANDLA SAI SREE",
      "photoUrl": "",
      "userId": "06629185457401699264"
     },
     "user_tz": -330
    },
    "id": "DvCRLsF-_waK",
    "outputId": "3e0434e8-0df9-4035-f2a0-fcdb685aced7",
    "scrolled": true
   },
   "outputs": [],
   "source": [
    "xtrain = train.drop(columns = ['Y'], axis = 1)\n",
    "ytrain = train['Y']\n",
    "xtest = test.drop(columns = ['Y'], axis = 1)\n",
    "ytest = test['Y']"
   ]
  },
  {
   "cell_type": "code",
   "execution_count": 10,
   "metadata": {},
   "outputs": [
    {
     "name": "stdout",
     "output_type": "stream",
     "text": [
      "train_error:  2897.6530536113396\n",
      "test_error:  2751.6307478959934\n"
     ]
    }
   ],
   "source": [
    "model = LinearRegression()\n",
    "model.fit(xtrain,ytrain)\n",
    "print('train_error: ', mean_squared_error(model.predict(xtrain), ytrain))\n",
    "print('test_error: ', mean_squared_error(model.predict(xtest), ytest))"
   ]
  },
  {
   "cell_type": "raw",
   "metadata": {},
   "source": [
    "### Data Preprocessing\n",
    "\n",
    "d) Normalize the data set and perform linear regression again. Compute the training error and testing error. Comment."
   ]
  },
  {
   "cell_type": "code",
   "execution_count": 11,
   "metadata": {
    "colab": {
     "base_uri": "https://localhost:8080/",
     "height": 34
    },
    "colab_type": "code",
    "executionInfo": {
     "elapsed": 725,
     "status": "ok",
     "timestamp": 1565616649829,
     "user": {
      "displayName": "MALKAPURAM GANDLA SAI SREE",
      "photoUrl": "",
      "userId": "06629185457401699264"
     },
     "user_tz": -330
    },
    "id": "1hO4CGs9_waO",
    "outputId": "d4dfda9a-e901-4b46-d8e6-0d4fca57820f"
   },
   "outputs": [],
   "source": [
    "scaler = preprocessing.MinMaxScaler()\n",
    "data_scaled = scaler.fit_transform(data)"
   ]
  },
  {
   "cell_type": "code",
   "execution_count": 12,
   "metadata": {},
   "outputs": [],
   "source": [
    "train, test = train_test_split(data_scaled, test_size = 0.2)"
   ]
  },
  {
   "cell_type": "code",
   "execution_count": 13,
   "metadata": {},
   "outputs": [],
   "source": [
    "xtrain = train[:,:-1]\n",
    "ytrain = train[:,-1]\n",
    "xtest = test[:,:-1]\n",
    "ytest = test[:,-1]"
   ]
  },
  {
   "cell_type": "code",
   "execution_count": 14,
   "metadata": {},
   "outputs": [
    {
     "name": "stdout",
     "output_type": "stream",
     "text": [
      "train error:  0.02748195973854094\n",
      "test error:  0.030104986164587674\n"
     ]
    }
   ],
   "source": [
    "model2 = LinearRegression()\n",
    "model2.fit(xtrain,ytrain)\n",
    "print('train error: ',mean_squared_error(model2.predict(xtrain), ytrain))\n",
    "print('test error: ',mean_squared_error(model2.predict(xtest), ytest))"
   ]
  },
  {
   "cell_type": "markdown",
   "metadata": {},
   "source": [
    "#The train and test error for the model are much lower for the normalized data compared to the original data"
   ]
  },
  {
   "cell_type": "markdown",
   "metadata": {
    "colab_type": "text",
    "id": "wo1Xa-0bDZmq"
   },
   "source": [
    "### Feature Reduction\n",
    "\n",
    "e) Rank the features in order of importance (based on the study in d)). Comment."
   ]
  },
  {
   "cell_type": "code",
   "execution_count": 15,
   "metadata": {
    "colab": {
     "base_uri": "https://localhost:8080/",
     "height": 194
    },
    "colab_type": "code",
    "executionInfo": {
     "elapsed": 890,
     "status": "ok",
     "timestamp": 1565617372770,
     "user": {
      "displayName": "MALKAPURAM GANDLA SAI SREE",
      "photoUrl": "",
      "userId": "06629185457401699264"
     },
     "user_tz": -330
    },
    "id": "8NzU6I2RDiVK",
    "outputId": "98cdbe7e-29e2-438e-de5f-bd57419c2b9b"
   },
   "outputs": [],
   "source": [
    "def regression(data):\n",
    "    train, test = train_test_split(data, test_size = 0.2)\n",
    "    xtrain = train[:,:-1]\n",
    "    ytrain = train[:,-1]\n",
    "    xtest = test[:,:-1]\n",
    "    ytest = test[:,-1]\n",
    "    model.fit(xtrain, ytrain)\n",
    "    train_error = mean_squared_error(model.predict(xtrain), ytrain)\n",
    "    test_error = mean_squared_error(model.predict(xtest), ytest)\n",
    "    return train_error, test_error"
   ]
  },
  {
   "cell_type": "code",
   "execution_count": 16,
   "metadata": {},
   "outputs": [
    {
     "name": "stdout",
     "output_type": "stream",
     "text": [
      "[(2, 0.033329229749865213), (8, 0.030624029724290517), (7, 0.02935608076712675), (3, 0.028441452857575416), (0, 0.02843095044583374), (4, 0.02804731263203712), (9, 0.027881125609874886), (6, 0.02781606239329534), (1, 0.02760661560119698), (5, 0.027166144176737548)]\n"
     ]
    }
   ],
   "source": [
    "feature_rank = {}\n",
    "for i in range(10):\n",
    "    data2 = np.delete(data_scaled, [i], axis = 1)\n",
    "    train_error, test_error = regression(data2)\n",
    "    feature_rank[i] = train_error\n",
    "    #print(train_error, test_error)\n",
    "    \n",
    "rank =sorted(feature_rank.items(),key = lambda x:x[1], reverse=True)\n",
    "print(rank)"
   ]
  },
  {
   "cell_type": "markdown",
   "metadata": {},
   "source": [
    "The dictionary shows the training error after the specific feature is removed and the sorted accordinly to show the importance of each feature."
   ]
  },
  {
   "cell_type": "markdown",
   "metadata": {},
   "source": [
    "### Polynomial Regression\n",
    "\n",
    "f) Repeat the exercise in d) with quadratic features. List the features you would add to the existing data set. Compute the training error and the testing error. Comment."
   ]
  },
  {
   "cell_type": "code",
   "execution_count": 35,
   "metadata": {},
   "outputs": [],
   "source": [
    "def polynomial_reg(x, y):\n",
    "    poly = PolynomialFeatures(2)\n",
    "    xtrain, xtest, ytrain, ytest = train_test_split(x, y, test_size = 0.2)\n",
    "    model = LinearRegression()\n",
    "    model.fit(xtrain, ytrain)\n",
    "    train_error = mean_squared_error(model.predict(xtrain), ytrain)\n",
    "    test_error = mean_squared_error(model.predict(xtest), ytest)\n",
    "    return train_error, test_error"
   ]
  },
  {
   "cell_type": "code",
   "execution_count": 54,
   "metadata": {},
   "outputs": [],
   "source": [
    "poly = PolynomialFeatures(2)\n",
    "data_quad = poly.fit_transform(data_scaled[:,:-1])\n",
    "linear_train_error, linear_test_error = polynomial_reg(data_quad, data_scaled[:,-1])"
   ]
  },
  {
   "cell_type": "code",
   "execution_count": 55,
   "metadata": {},
   "outputs": [
    {
     "name": "stdout",
     "output_type": "stream",
     "text": [
      "0.023285962174396345 0.03324387273802605\n"
     ]
    }
   ],
   "source": [
    "print(linear_train_error, linear_test_error)"
   ]
  },
  {
   "cell_type": "markdown",
   "metadata": {},
   "source": [
    "Clearly it shows that the model is overfitting because of the high test error and low training error compared to simple linear regression model."
   ]
  },
  {
   "cell_type": "code",
   "execution_count": 61,
   "metadata": {},
   "outputs": [
    {
     "name": "stderr",
     "output_type": "stream",
     "text": [
      "C:\\Users\\Rohit Kumar\\Anaconda3\\lib\\site-packages\\ipykernel_launcher.py:4: DeprecationWarning: in the future out of bounds indices will raise an error instead of being ignored by `numpy.delete`.\n",
      "  after removing the cwd from sys.path.\n"
     ]
    },
    {
     "data": {
      "text/plain": [
       "[(3, 0.8742410664825541),\n",
       " (16, 0.7855236992977713),\n",
       " (62, 0.48579530134879684),\n",
       " (19, 0.29873552670489545),\n",
       " (76, 0.1637622850391086),\n",
       " (42, 0.13334013330464903),\n",
       " (30, 0.12707578412696569),\n",
       " (44, 0.09728042625978034),\n",
       " (39, 0.09144273103696436),\n",
       " (12, 0.09073021344095814),\n",
       " (57, 0.07740002198830387),\n",
       " (31, 0.06567961267031058),\n",
       " (45, 0.06395587545321656),\n",
       " (7, 0.06184591853676619),\n",
       " (35, 0.057178000541244695),\n",
       " (29, 0.05642248142077081),\n",
       " (66, 0.054877565879045),\n",
       " (25, 0.05418300221713954),\n",
       " (20, 0.05080927513241872),\n",
       " (52, 0.045975714302597566),\n",
       " (32, 0.04410266611292314),\n",
       " (54, 0.04389048391816163),\n",
       " (65, 0.04221773471533749),\n",
       " (0, 0.04119100014869592),\n",
       " (63, 0.04111620029142311),\n",
       " (26, 0.041006158779809024),\n",
       " (43, 0.04097066291416401),\n",
       " (64, 0.04063459989793153),\n",
       " (77, 0.04034493704970894),\n",
       " (2, 0.03984930074937661),\n",
       " (13, 0.03972032797802737),\n",
       " (28, 0.03954460771130657),\n",
       " (37, 0.03927187882815178),\n",
       " (50, 0.03884377886886601),\n",
       " (46, 0.03826398034769101),\n",
       " (56, 0.03775759684573211),\n",
       " (69, 0.037477127253056436),\n",
       " (47, 0.03738038765101736),\n",
       " (67, 0.037240166470198593),\n",
       " (15, 0.03714431773572749),\n",
       " (58, 0.03677925616052449),\n",
       " (4, 0.03651101975856391),\n",
       " (27, 0.03559151229824188),\n",
       " (21, 0.03549971349691442),\n",
       " (51, 0.03549961985922463),\n",
       " (73, 0.035350754944268745),\n",
       " (11, 0.035210391533752036),\n",
       " (55, 0.03477907087326621),\n",
       " (18, 0.034351369946662935),\n",
       " (22, 0.03425356910151302),\n",
       " (36, 0.03404314475702326),\n",
       " (17, 0.03386639500627678),\n",
       " (33, 0.03362181279225946),\n",
       " (34, 0.03359225866799806),\n",
       " (14, 0.033449402639161255),\n",
       " (9, 0.03343771146886443),\n",
       " (40, 0.033430292050472474),\n",
       " (24, 0.03333573821965124),\n",
       " (48, 0.0331707000528901),\n",
       " (5, 0.032195475986627156),\n",
       " (53, 0.03213971111099844),\n",
       " (59, 0.032036833861396066),\n",
       " (71, 0.03200875251426454),\n",
       " (74, 0.03175907280581019),\n",
       " (10, 0.03141047242638641),\n",
       " (75, 0.030944339226939878),\n",
       " (72, 0.03088459203875613),\n",
       " (38, 0.030745901259486275),\n",
       " (49, 0.030693366033194096),\n",
       " (60, 0.030435862755448583),\n",
       " (41, 0.030222522244015955),\n",
       " (61, 0.028682259155376668),\n",
       " (1, 0.02785894493282343),\n",
       " (23, 0.027789914934355654),\n",
       " (8, 0.027548596846593356),\n",
       " (6, 0.026863170515193525),\n",
       " (70, 0.026285913523188334),\n",
       " (68, 0.025473241472853354)]"
      ]
     },
     "execution_count": 61,
     "metadata": {},
     "output_type": "execute_result"
    }
   ],
   "source": [
    "feature_ranking = {}\n",
    "delete_features = []\n",
    "for i in range(78):\n",
    "    data2 = np.delete(data_quad, [i],axis = 1)\n",
    "    train_error, test_error = polynomial_reg(data2, data_scaled[:,-1])\n",
    "    feature_ranking[i] = test_error\n",
    "    if train_error < linear_train_error:\n",
    "        delete_features.append(i)\n",
    "\n",
    "sorted(feature_ranking.items(), key = lambda x:x[1], reverse = True)"
   ]
  },
  {
   "cell_type": "markdown",
   "metadata": {},
   "source": [
    "remove the feature which decrease the test error after training the model."
   ]
  },
  {
   "cell_type": "code",
   "execution_count": 62,
   "metadata": {},
   "outputs": [
    {
     "name": "stderr",
     "output_type": "stream",
     "text": [
      "C:\\Users\\Rohit Kumar\\Anaconda3\\lib\\site-packages\\ipykernel_launcher.py:1: DeprecationWarning: in the future out of bounds indices will raise an error instead of being ignored by `numpy.delete`.\n",
      "  \"\"\"Entry point for launching an IPython kernel.\n"
     ]
    }
   ],
   "source": [
    "final_xtrain = np.delete(data_quad, delete_features, axis = 1)"
   ]
  },
  {
   "cell_type": "code",
   "execution_count": 64,
   "metadata": {},
   "outputs": [],
   "source": [
    "train_error, test_error = polynomial_reg(final_xtrain, data_scaled[:,-1])"
   ]
  },
  {
   "cell_type": "code",
   "execution_count": 65,
   "metadata": {},
   "outputs": [
    {
     "name": "stdout",
     "output_type": "stream",
     "text": [
      "0.025228450654240907 0.029208412395730243\n"
     ]
    }
   ],
   "source": [
    "print(train_error, test_error)"
   ]
  },
  {
   "cell_type": "markdown",
   "metadata": {},
   "source": [
    "Ranking the features based on the test accuracy of the model decreased the overfitting of the model by removing certain features which increase the complexity of the model."
   ]
  }
 ],
 "metadata": {
  "colab": {
   "name": "Exercise Part 2.ipynb",
   "provenance": [],
   "version": "0.3.2"
  },
  "kernelspec": {
   "display_name": "Python 3",
   "language": "python",
   "name": "python3"
  },
  "language_info": {
   "codemirror_mode": {
    "name": "ipython",
    "version": 3
   },
   "file_extension": ".py",
   "mimetype": "text/x-python",
   "name": "python",
   "nbconvert_exporter": "python",
   "pygments_lexer": "ipython3",
   "version": "3.7.0"
  }
 },
 "nbformat": 4,
 "nbformat_minor": 1
}
