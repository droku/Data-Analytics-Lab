{
 "cells": [
  {
   "cell_type": "markdown",
   "metadata": {
    "colab_type": "text",
    "id": "XKsN_b1xHSTs"
   },
   "source": [
    "# Sheet 3: Classification using SVMs"
   ]
  },
  {
   "cell_type": "markdown",
   "metadata": {
    "colab_type": "text",
    "id": "hzP5tW-gHWrm"
   },
   "source": [
    "## Question 1 : Data preparation"
   ]
  },
  {
   "cell_type": "markdown",
   "metadata": {
    "colab_type": "text",
    "id": "8RsamOzDHbR7"
   },
   "source": [
    "### a) Load the olivetti faces dataset from sklearn. Set shuffle to be true. The dataset has 40 distinct classes with faces taken under different lighting, expressions, and facial details. The images are of size 64 * 64. <br> b) Use the data and target attributes to obtain the data and target vectors. Split the dataset such that the first 300 items belong to the train set and the last 100 belong to the test set. Here, we do not need to shuffle the data as it is already done while the dataset is being loaded. "
   ]
  },
  {
   "cell_type": "code",
   "execution_count": 1,
   "metadata": {
    "colab": {},
    "colab_type": "code",
    "id": "ZP8Cm064H01L"
   },
   "outputs": [],
   "source": [
    "# Code here. You may add additional code and text cells if you need.\n",
    "from sklearn.datasets import fetch_olivetti_faces"
   ]
  },
  {
   "cell_type": "code",
   "execution_count": 5,
   "metadata": {},
   "outputs": [
    {
     "name": "stdout",
     "output_type": "stream",
     "text": [
      "(400, 4096)\n",
      "(400,)\n"
     ]
    }
   ],
   "source": [
    "faces_dataset = fetch_olivetti_faces(shuffle = True)\n",
    "data = faces_dataset.data\n",
    "y = faces_dataset.target\n",
    "print(data.shape)\n",
    "print(y.shape)"
   ]
  },
  {
   "cell_type": "code",
   "execution_count": 9,
   "metadata": {},
   "outputs": [],
   "source": [
    "xtrain = data[:300,:]\n",
    "ytrain = y[:300]\n",
    "xtest = data[300:,:]\n",
    "ytest = y[300:]"
   ]
  },
  {
   "cell_type": "markdown",
   "metadata": {
    "colab_type": "text",
    "id": "KAT62EEzJdfC"
   },
   "source": [
    "## Question 2: PCA"
   ]
  },
  {
   "cell_type": "markdown",
   "metadata": {
    "colab_type": "text",
    "id": "KOfXhEpGHzeG"
   },
   "source": [
    "### a) Perform PCA using sklearn on the train set by varying the n_components among 20,40,70,100,140. Plot the number of components vs the amount of variance captured. <br> b) How do you think the performance of SVM will vary as the number of components is varied? (Comment in terms of overfitting on train set, generalization, accuracy on test set). "
   ]
  },
  {
   "cell_type": "code",
   "execution_count": 16,
   "metadata": {
    "colab": {},
    "colab_type": "code",
    "id": "b98V74PeHV2r"
   },
   "outputs": [
    {
     "data": {
      "text/plain": [
       "[<matplotlib.lines.Line2D at 0x27c06efaac8>]"
      ]
     },
     "execution_count": 16,
     "metadata": {},
     "output_type": "execute_result"
    },
    {
     "data": {
      "image/png": "[encoded data removed]",
      "text/plain": [
       "<Figure size 432x288 with 1 Axes>"
      ]
     },
     "metadata": {
      "needs_background": "light"
     },
     "output_type": "display_data"
    }
   ],
   "source": [
    "# Code here. You may add additional code and text cells if you need.\n",
    "from sklearn.decomposition import PCA\n",
    "from sklearn.svm import SVC\n",
    "import matplotlib.pyplot as plt\n",
    "n_c = [20,40,70,100,140]\n",
    "pca_var = []\n",
    "for i in n_c:\n",
    "    data2 = PCA(n_components = i).fit_transform(data)\n",
    "    #print(data2.shape)\n",
    "    pca_var.append(data2.var())\n",
    "    \n",
    "plt.plot(n_c, pca_var)"
   ]
  },
  {
   "cell_type": "markdown",
   "metadata": {},
   "source": [
    "- As the number of features increases the variance increases so the model has more parameters to fit the data which can lead to overfitting of the model.\n",
    "- And having less features in the data can lead to underfitting of the data. \n",
    "- as the number of featues increases the training error decreases and the test error decreases to a certain point and then increases."
   ]
  },
  {
   "cell_type": "markdown",
   "metadata": {
    "colab_type": "text",
    "id": "NXAkddthJqao"
   },
   "source": [
    "## Question 3: SVM"
   ]
  },
  {
   "cell_type": "markdown",
   "metadata": {
    "colab_type": "text",
    "id": "--b0dNbUJxOw"
   },
   "source": [
    "### a) Perform PCA on the train dataset using n_components = 70. <br> b) Perform SVM with C = 1, and kernel = 'rbf'. Report the score on the test set (after transformation using PCA) using SVC's inbuilt score function. <br> c) Report the confusion matrix using the predictions on the test set. "
   ]
  },
  {
   "cell_type": "code",
   "execution_count": 18,
   "metadata": {
    "colab": {},
    "colab_type": "code",
    "id": "gC3_P6y-JoB3"
   },
   "outputs": [
    {
     "name": "stdout",
     "output_type": "stream",
     "text": [
      "(300, 70)\n",
      "(100, 70)\n"
     ]
    }
   ],
   "source": [
    "# Code here. You may add additional code and text cells if you need.\n",
    "data2 = PCA(n_components = 70).fit_transform(data)\n",
    "xtrain = data2[:300,:]\n",
    "xtest = data2[300:,:]\n",
    "print(xtrain.shape)\n",
    "print(xtest.shape)"
   ]
  },
  {
   "cell_type": "code",
   "execution_count": 20,
   "metadata": {},
   "outputs": [
    {
     "name": "stdout",
     "output_type": "stream",
     "text": [
      "test accuracy:  0.92\n"
     ]
    }
   ],
   "source": [
    "from sklearn.metrics import confusion_matrix\n",
    "model = SVC(C = 1, kernel = 'rbf')\n",
    "model.fit(xtrain, ytrain)\n",
    "pred = model.predict(xtest)\n",
    "print('test accuracy: ', model.score(xtest, ytest))\n"
   ]
  },
  {
   "cell_type": "code",
   "execution_count": 21,
   "metadata": {},
   "outputs": [
    {
     "name": "stdout",
     "output_type": "stream",
     "text": [
      "[[1 0 0 ... 0 0 0]\n",
      " [0 2 0 ... 0 0 0]\n",
      " [0 0 3 ... 0 0 0]\n",
      " ...\n",
      " [0 0 0 ... 2 0 0]\n",
      " [0 0 0 ... 0 3 0]\n",
      " [1 0 0 ... 0 0 0]]\n"
     ]
    }
   ],
   "source": [
    "print(confusion_matrix(ytest, pred))"
   ]
  },
  {
   "cell_type": "markdown",
   "metadata": {
    "colab_type": "text",
    "id": "zPbd6mQ3K6Jr"
   },
   "source": [
    "## Question 4: Cross validation"
   ]
  },
  {
   "cell_type": "markdown",
   "metadata": {
    "colab_type": "text",
    "id": "oVc-KQHxLTBT"
   },
   "source": [
    "### Now take the entire original dataset that you initially downloaded (before you performed train test split, and before PCA - We will use all features and the entire dataset for this question). We will determine the parameters using cross validation. You will use the GridSearchCV in sklearn to perform cross validation. <br> a) To construct the parameter grid, use the rbf kernel. gamma should take values in {0.0001, 0.001, 0.01, 0.1, 1, 10} and C should take values in {0.001,0.01,0.1,1,10,100}. Set the number of folds for cross validation to 5. Report the best_parameters_, best_score_, best_estimator_. <br> b) Print out the attribute cv_results_. From cv_results_, what are the trends (based on accuracy score) as C and gamma increase? Also, state the reason for these trends (overfitting, underfitting, generalization). "
   ]
  },
  {
   "cell_type": "code",
   "execution_count": 22,
   "metadata": {},
   "outputs": [],
   "source": [
    "data = faces_dataset.data\n",
    "y = faces_dataset.target"
   ]
  },
  {
   "cell_type": "code",
   "execution_count": 24,
   "metadata": {
    "colab": {},
    "colab_type": "code",
    "id": "NGArk1QNLJs1"
   },
   "outputs": [
    {
     "data": {
      "text/plain": [
       "GridSearchCV(cv=5, error_score='raise',\n",
       "       estimator=SVC(C=1.0, cache_size=200, class_weight=None, coef0=0.0,\n",
       "  decision_function_shape='ovr', degree=3, gamma='auto', kernel='rbf',\n",
       "  max_iter=-1, probability=False, random_state=None, shrinking=True,\n",
       "  tol=0.001, verbose=False),\n",
       "       fit_params=None, iid=True, n_jobs=1,\n",
       "       param_grid={'kernel': ['rbf'], 'gamma': [0.0001, 0.001, 0.01, 0.1, 1, 10], 'C': [0.001, 0.01, 0.1, 1, 10, 100]},\n",
       "       pre_dispatch='2*n_jobs', refit=True, return_train_score='warn',\n",
       "       scoring=None, verbose=0)"
      ]
     },
     "execution_count": 24,
     "metadata": {},
     "output_type": "execute_result"
    }
   ],
   "source": [
    "# Code here. You may add additional code and text cells if you need. \n",
    "from sklearn.model_selection import GridSearchCV\n",
    "params = {'kernel': ['rbf'], 'gamma': [0.0001,0.001,0.01,0.1,1,10], 'C': [0.001,0.01,0.1,1,10,100]}\n",
    "svm_model = SVC()\n",
    "best_model = GridSearchCV(svm_model, params, cv = 5)\n",
    "best_model.fit(data, y)"
   ]
  },
  {
   "cell_type": "code",
   "execution_count": 26,
   "metadata": {},
   "outputs": [
    {
     "data": {
      "text/plain": [
       "{'C': 10, 'gamma': 0.001, 'kernel': 'rbf'}"
      ]
     },
     "execution_count": 26,
     "metadata": {},
     "output_type": "execute_result"
    }
   ],
   "source": [
    "best_model.best_params_"
   ]
  },
  {
   "cell_type": "code",
   "execution_count": 27,
   "metadata": {},
   "outputs": [
    {
     "data": {
      "text/plain": [
       "0.975"
      ]
     },
     "execution_count": 27,
     "metadata": {},
     "output_type": "execute_result"
    }
   ],
   "source": [
    "best_model.best_score_"
   ]
  },
  {
   "cell_type": "code",
   "execution_count": 28,
   "metadata": {},
   "outputs": [
    {
     "data": {
      "text/plain": [
       "SVC(C=10, cache_size=200, class_weight=None, coef0=0.0,\n",
       "  decision_function_shape='ovr', degree=3, gamma=0.001, kernel='rbf',\n",
       "  max_iter=-1, probability=False, random_state=None, shrinking=True,\n",
       "  tol=0.001, verbose=False)"
      ]
     },
     "execution_count": 28,
     "metadata": {},
     "output_type": "execute_result"
    }
   ],
   "source": [
    "best_model.best_estimator_"
   ]
  },
  {
   "cell_type": "code",
   "execution_count": 31,
   "metadata": {},
   "outputs": [
    {
     "name": "stderr",
     "output_type": "stream",
     "text": [
      "C:\\Users\\Rohit Kumar\\Anaconda3\\lib\\site-packages\\sklearn\\utils\\deprecation.py:122: FutureWarning: You are accessing a training score ('split0_train_score'), which will not be available by default any more in 0.21. If you need training scores, please set return_train_score=True\n",
      "  warnings.warn(*warn_args, **warn_kwargs)\n",
      "C:\\Users\\Rohit Kumar\\Anaconda3\\lib\\site-packages\\sklearn\\utils\\deprecation.py:122: FutureWarning: You are accessing a training score ('split1_train_score'), which will not be available by default any more in 0.21. If you need training scores, please set return_train_score=True\n",
      "  warnings.warn(*warn_args, **warn_kwargs)\n",
      "C:\\Users\\Rohit Kumar\\Anaconda3\\lib\\site-packages\\sklearn\\utils\\deprecation.py:122: FutureWarning: You are accessing a training score ('split2_train_score'), which will not be available by default any more in 0.21. If you need training scores, please set return_train_score=True\n",
      "  warnings.warn(*warn_args, **warn_kwargs)\n",
      "C:\\Users\\Rohit Kumar\\Anaconda3\\lib\\site-packages\\sklearn\\utils\\deprecation.py:122: FutureWarning: You are accessing a training score ('split3_train_score'), which will not be available by default any more in 0.21. If you need training scores, please set return_train_score=True\n",
      "  warnings.warn(*warn_args, **warn_kwargs)\n",
      "C:\\Users\\Rohit Kumar\\Anaconda3\\lib\\site-packages\\sklearn\\utils\\deprecation.py:122: FutureWarning: You are accessing a training score ('split4_train_score'), which will not be available by default any more in 0.21. If you need training scores, please set return_train_score=True\n",
      "  warnings.warn(*warn_args, **warn_kwargs)\n",
      "C:\\Users\\Rohit Kumar\\Anaconda3\\lib\\site-packages\\sklearn\\utils\\deprecation.py:122: FutureWarning: You are accessing a training score ('mean_train_score'), which will not be available by default any more in 0.21. If you need training scores, please set return_train_score=True\n",
      "  warnings.warn(*warn_args, **warn_kwargs)\n",
      "C:\\Users\\Rohit Kumar\\Anaconda3\\lib\\site-packages\\sklearn\\utils\\deprecation.py:122: FutureWarning: You are accessing a training score ('std_train_score'), which will not be available by default any more in 0.21. If you need training scores, please set return_train_score=True\n",
      "  warnings.warn(*warn_args, **warn_kwargs)\n"
     ]
    }
   ],
   "source": [
    "import pandas as pd\n",
    "results_frams = pd.DataFrame(best_model.cv_results_)"
   ]
  },
  {
   "cell_type": "code",
   "execution_count": 32,
   "metadata": {},
   "outputs": [
    {
     "data": {
      "text/html": [
       "<div>\n",
       "<style scoped>\n",
       "    .dataframe tbody tr th:only-of-type {\n",
       "        vertical-align: middle;\n",
       "    }\n",
       "\n",
       "    .dataframe tbody tr th {\n",
       "        vertical-align: top;\n",
       "    }\n",
       "\n",
       "    .dataframe thead th {\n",
       "        text-align: right;\n",
       "    }\n",
       "</style>\n",
       "<table border=\"1\" class=\"dataframe\">\n",
       "  <thead>\n",
       "    <tr style=\"text-align: right;\">\n",
       "      <th></th>\n",
       "      <th>mean_fit_time</th>\n",
       "      <th>std_fit_time</th>\n",
       "      <th>mean_score_time</th>\n",
       "      <th>std_score_time</th>\n",
       "      <th>param_C</th>\n",
       "      <th>param_gamma</th>\n",
       "      <th>param_kernel</th>\n",
       "      <th>params</th>\n",
       "      <th>split0_test_score</th>\n",
       "      <th>split1_test_score</th>\n",
       "      <th>...</th>\n",
       "      <th>mean_test_score</th>\n",
       "      <th>std_test_score</th>\n",
       "      <th>rank_test_score</th>\n",
       "      <th>split0_train_score</th>\n",
       "      <th>split1_train_score</th>\n",
       "      <th>split2_train_score</th>\n",
       "      <th>split3_train_score</th>\n",
       "      <th>split4_train_score</th>\n",
       "      <th>mean_train_score</th>\n",
       "      <th>std_train_score</th>\n",
       "    </tr>\n",
       "  </thead>\n",
       "  <tbody>\n",
       "    <tr>\n",
       "      <th>0</th>\n",
       "      <td>1.404002</td>\n",
       "      <td>0.095585</td>\n",
       "      <td>0.171741</td>\n",
       "      <td>0.022297</td>\n",
       "      <td>0.001</td>\n",
       "      <td>0.0001</td>\n",
       "      <td>rbf</td>\n",
       "      <td>{'C': 0.001, 'gamma': 0.0001, 'kernel': 'rbf'}</td>\n",
       "      <td>0.8625</td>\n",
       "      <td>0.8000</td>\n",
       "      <td>...</td>\n",
       "      <td>0.8350</td>\n",
       "      <td>0.025495</td>\n",
       "      <td>17</td>\n",
       "      <td>0.921875</td>\n",
       "      <td>0.906250</td>\n",
       "      <td>0.912500</td>\n",
       "      <td>0.928125</td>\n",
       "      <td>0.90625</td>\n",
       "      <td>0.915000</td>\n",
       "      <td>0.008705</td>\n",
       "    </tr>\n",
       "    <tr>\n",
       "      <th>1</th>\n",
       "      <td>1.398271</td>\n",
       "      <td>0.090681</td>\n",
       "      <td>0.180905</td>\n",
       "      <td>0.020324</td>\n",
       "      <td>0.001</td>\n",
       "      <td>0.001</td>\n",
       "      <td>rbf</td>\n",
       "      <td>{'C': 0.001, 'gamma': 0.001, 'kernel': 'rbf'}</td>\n",
       "      <td>0.8375</td>\n",
       "      <td>0.8125</td>\n",
       "      <td>...</td>\n",
       "      <td>0.8400</td>\n",
       "      <td>0.020000</td>\n",
       "      <td>13</td>\n",
       "      <td>0.921875</td>\n",
       "      <td>0.909375</td>\n",
       "      <td>0.915625</td>\n",
       "      <td>0.931250</td>\n",
       "      <td>0.91250</td>\n",
       "      <td>0.918125</td>\n",
       "      <td>0.007756</td>\n",
       "    </tr>\n",
       "    <tr>\n",
       "      <th>2</th>\n",
       "      <td>1.330843</td>\n",
       "      <td>0.039646</td>\n",
       "      <td>0.173157</td>\n",
       "      <td>0.020803</td>\n",
       "      <td>0.001</td>\n",
       "      <td>0.01</td>\n",
       "      <td>rbf</td>\n",
       "      <td>{'C': 0.001, 'gamma': 0.01, 'kernel': 'rbf'}</td>\n",
       "      <td>0.8625</td>\n",
       "      <td>0.8250</td>\n",
       "      <td>...</td>\n",
       "      <td>0.8700</td>\n",
       "      <td>0.029155</td>\n",
       "      <td>10</td>\n",
       "      <td>0.968750</td>\n",
       "      <td>0.959375</td>\n",
       "      <td>0.965625</td>\n",
       "      <td>0.978125</td>\n",
       "      <td>0.96875</td>\n",
       "      <td>0.968125</td>\n",
       "      <td>0.006060</td>\n",
       "    </tr>\n",
       "    <tr>\n",
       "      <th>3</th>\n",
       "      <td>1.345004</td>\n",
       "      <td>0.051791</td>\n",
       "      <td>0.158581</td>\n",
       "      <td>0.007153</td>\n",
       "      <td>0.001</td>\n",
       "      <td>0.1</td>\n",
       "      <td>rbf</td>\n",
       "      <td>{'C': 0.001, 'gamma': 0.1, 'kernel': 'rbf'}</td>\n",
       "      <td>0.4750</td>\n",
       "      <td>0.4625</td>\n",
       "      <td>...</td>\n",
       "      <td>0.4600</td>\n",
       "      <td>0.046368</td>\n",
       "      <td>28</td>\n",
       "      <td>1.000000</td>\n",
       "      <td>1.000000</td>\n",
       "      <td>1.000000</td>\n",
       "      <td>1.000000</td>\n",
       "      <td>1.00000</td>\n",
       "      <td>1.000000</td>\n",
       "      <td>0.000000</td>\n",
       "    </tr>\n",
       "    <tr>\n",
       "      <th>4</th>\n",
       "      <td>1.336832</td>\n",
       "      <td>0.075400</td>\n",
       "      <td>0.187501</td>\n",
       "      <td>0.037746</td>\n",
       "      <td>0.001</td>\n",
       "      <td>1</td>\n",
       "      <td>rbf</td>\n",
       "      <td>{'C': 0.001, 'gamma': 1, 'kernel': 'rbf'}</td>\n",
       "      <td>0.3000</td>\n",
       "      <td>0.3375</td>\n",
       "      <td>...</td>\n",
       "      <td>0.2825</td>\n",
       "      <td>0.049117</td>\n",
       "      <td>31</td>\n",
       "      <td>1.000000</td>\n",
       "      <td>1.000000</td>\n",
       "      <td>1.000000</td>\n",
       "      <td>1.000000</td>\n",
       "      <td>1.00000</td>\n",
       "      <td>1.000000</td>\n",
       "      <td>0.000000</td>\n",
       "    </tr>\n",
       "  </tbody>\n",
       "</table>\n",
       "<p>5 rows × 23 columns</p>\n",
       "</div>"
      ],
      "text/plain": [
       "   mean_fit_time  std_fit_time  mean_score_time  std_score_time param_C  \\\n",
       "0       1.404002      0.095585         0.171741        0.022297   0.001   \n",
       "1       1.398271      0.090681         0.180905        0.020324   0.001   \n",
       "2       1.330843      0.039646         0.173157        0.020803   0.001   \n",
       "3       1.345004      0.051791         0.158581        0.007153   0.001   \n",
       "4       1.336832      0.075400         0.187501        0.037746   0.001   \n",
       "\n",
       "  param_gamma param_kernel                                          params  \\\n",
       "0      0.0001          rbf  {'C': 0.001, 'gamma': 0.0001, 'kernel': 'rbf'}   \n",
       "1       0.001          rbf   {'C': 0.001, 'gamma': 0.001, 'kernel': 'rbf'}   \n",
       "2        0.01          rbf    {'C': 0.001, 'gamma': 0.01, 'kernel': 'rbf'}   \n",
       "3         0.1          rbf     {'C': 0.001, 'gamma': 0.1, 'kernel': 'rbf'}   \n",
       "4           1          rbf       {'C': 0.001, 'gamma': 1, 'kernel': 'rbf'}   \n",
       "\n",
       "   split0_test_score  split1_test_score       ...         mean_test_score  \\\n",
       "0             0.8625             0.8000       ...                  0.8350   \n",
       "1             0.8375             0.8125       ...                  0.8400   \n",
       "2             0.8625             0.8250       ...                  0.8700   \n",
       "3             0.4750             0.4625       ...                  0.4600   \n",
       "4             0.3000             0.3375       ...                  0.2825   \n",
       "\n",
       "   std_test_score  rank_test_score  split0_train_score  split1_train_score  \\\n",
       "0        0.025495               17            0.921875            0.906250   \n",
       "1        0.020000               13            0.921875            0.909375   \n",
       "2        0.029155               10            0.968750            0.959375   \n",
       "3        0.046368               28            1.000000            1.000000   \n",
       "4        0.049117               31            1.000000            1.000000   \n",
       "\n",
       "   split2_train_score  split3_train_score  split4_train_score  \\\n",
       "0            0.912500            0.928125             0.90625   \n",
       "1            0.915625            0.931250             0.91250   \n",
       "2            0.965625            0.978125             0.96875   \n",
       "3            1.000000            1.000000             1.00000   \n",
       "4            1.000000            1.000000             1.00000   \n",
       "\n",
       "   mean_train_score  std_train_score  \n",
       "0          0.915000         0.008705  \n",
       "1          0.918125         0.007756  \n",
       "2          0.968125         0.006060  \n",
       "3          1.000000         0.000000  \n",
       "4          1.000000         0.000000  \n",
       "\n",
       "[5 rows x 23 columns]"
      ]
     },
     "execution_count": 32,
     "metadata": {},
     "output_type": "execute_result"
    }
   ],
   "source": [
    "results_frams.head()"
   ]
  },
  {
   "cell_type": "code",
   "execution_count": 43,
   "metadata": {},
   "outputs": [
    {
     "data": {
      "text/html": [
       "<div>\n",
       "<style scoped>\n",
       "    .dataframe tbody tr th:only-of-type {\n",
       "        vertical-align: middle;\n",
       "    }\n",
       "\n",
       "    .dataframe tbody tr th {\n",
       "        vertical-align: top;\n",
       "    }\n",
       "\n",
       "    .dataframe thead th {\n",
       "        text-align: right;\n",
       "    }\n",
       "</style>\n",
       "<table border=\"1\" class=\"dataframe\">\n",
       "  <thead>\n",
       "    <tr style=\"text-align: right;\">\n",
       "      <th></th>\n",
       "      <th>mean_fit_time</th>\n",
       "      <th>std_fit_time</th>\n",
       "      <th>mean_score_time</th>\n",
       "      <th>std_score_time</th>\n",
       "      <th>param_C</th>\n",
       "      <th>param_gamma</th>\n",
       "      <th>param_kernel</th>\n",
       "      <th>params</th>\n",
       "      <th>split0_test_score</th>\n",
       "      <th>split1_test_score</th>\n",
       "      <th>...</th>\n",
       "      <th>mean_test_score</th>\n",
       "      <th>std_test_score</th>\n",
       "      <th>rank_test_score</th>\n",
       "      <th>split0_train_score</th>\n",
       "      <th>split1_train_score</th>\n",
       "      <th>split2_train_score</th>\n",
       "      <th>split3_train_score</th>\n",
       "      <th>split4_train_score</th>\n",
       "      <th>mean_train_score</th>\n",
       "      <th>std_train_score</th>\n",
       "    </tr>\n",
       "  </thead>\n",
       "  <tbody>\n",
       "    <tr>\n",
       "      <th>31</th>\n",
       "      <td>1.469071</td>\n",
       "      <td>0.255001</td>\n",
       "      <td>0.189094</td>\n",
       "      <td>0.025338</td>\n",
       "      <td>100</td>\n",
       "      <td>0.001</td>\n",
       "      <td>rbf</td>\n",
       "      <td>{'C': 100, 'gamma': 0.001, 'kernel': 'rbf'}</td>\n",
       "      <td>0.9500</td>\n",
       "      <td>0.9875</td>\n",
       "      <td>...</td>\n",
       "      <td>0.9725</td>\n",
       "      <td>0.014577</td>\n",
       "      <td>2</td>\n",
       "      <td>1.0</td>\n",
       "      <td>1.0</td>\n",
       "      <td>1.0</td>\n",
       "      <td>1.0</td>\n",
       "      <td>1.0</td>\n",
       "      <td>1.0</td>\n",
       "      <td>0.0</td>\n",
       "    </tr>\n",
       "    <tr>\n",
       "      <th>32</th>\n",
       "      <td>2.001248</td>\n",
       "      <td>0.079938</td>\n",
       "      <td>0.231182</td>\n",
       "      <td>0.008542</td>\n",
       "      <td>100</td>\n",
       "      <td>0.01</td>\n",
       "      <td>rbf</td>\n",
       "      <td>{'C': 100, 'gamma': 0.01, 'kernel': 'rbf'}</td>\n",
       "      <td>0.9375</td>\n",
       "      <td>0.9750</td>\n",
       "      <td>...</td>\n",
       "      <td>0.9675</td>\n",
       "      <td>0.016956</td>\n",
       "      <td>4</td>\n",
       "      <td>1.0</td>\n",
       "      <td>1.0</td>\n",
       "      <td>1.0</td>\n",
       "      <td>1.0</td>\n",
       "      <td>1.0</td>\n",
       "      <td>1.0</td>\n",
       "      <td>0.0</td>\n",
       "    </tr>\n",
       "    <tr>\n",
       "      <th>33</th>\n",
       "      <td>1.998258</td>\n",
       "      <td>0.046859</td>\n",
       "      <td>0.240557</td>\n",
       "      <td>0.027243</td>\n",
       "      <td>100</td>\n",
       "      <td>0.1</td>\n",
       "      <td>rbf</td>\n",
       "      <td>{'C': 100, 'gamma': 0.1, 'kernel': 'rbf'}</td>\n",
       "      <td>0.6750</td>\n",
       "      <td>0.7750</td>\n",
       "      <td>...</td>\n",
       "      <td>0.7075</td>\n",
       "      <td>0.038406</td>\n",
       "      <td>25</td>\n",
       "      <td>1.0</td>\n",
       "      <td>1.0</td>\n",
       "      <td>1.0</td>\n",
       "      <td>1.0</td>\n",
       "      <td>1.0</td>\n",
       "      <td>1.0</td>\n",
       "      <td>0.0</td>\n",
       "    </tr>\n",
       "    <tr>\n",
       "      <th>34</th>\n",
       "      <td>1.982886</td>\n",
       "      <td>0.058112</td>\n",
       "      <td>0.221614</td>\n",
       "      <td>0.007004</td>\n",
       "      <td>100</td>\n",
       "      <td>1</td>\n",
       "      <td>rbf</td>\n",
       "      <td>{'C': 100, 'gamma': 1, 'kernel': 'rbf'}</td>\n",
       "      <td>0.2750</td>\n",
       "      <td>0.3000</td>\n",
       "      <td>...</td>\n",
       "      <td>0.2775</td>\n",
       "      <td>0.032016</td>\n",
       "      <td>33</td>\n",
       "      <td>1.0</td>\n",
       "      <td>1.0</td>\n",
       "      <td>1.0</td>\n",
       "      <td>1.0</td>\n",
       "      <td>1.0</td>\n",
       "      <td>1.0</td>\n",
       "      <td>0.0</td>\n",
       "    </tr>\n",
       "    <tr>\n",
       "      <th>35</th>\n",
       "      <td>2.034560</td>\n",
       "      <td>0.101654</td>\n",
       "      <td>0.232981</td>\n",
       "      <td>0.016752</td>\n",
       "      <td>100</td>\n",
       "      <td>10</td>\n",
       "      <td>rbf</td>\n",
       "      <td>{'C': 100, 'gamma': 10, 'kernel': 'rbf'}</td>\n",
       "      <td>0.7750</td>\n",
       "      <td>0.8625</td>\n",
       "      <td>...</td>\n",
       "      <td>0.7775</td>\n",
       "      <td>0.044300</td>\n",
       "      <td>22</td>\n",
       "      <td>1.0</td>\n",
       "      <td>1.0</td>\n",
       "      <td>1.0</td>\n",
       "      <td>1.0</td>\n",
       "      <td>1.0</td>\n",
       "      <td>1.0</td>\n",
       "      <td>0.0</td>\n",
       "    </tr>\n",
       "  </tbody>\n",
       "</table>\n",
       "<p>5 rows × 23 columns</p>\n",
       "</div>"
      ],
      "text/plain": [
       "    mean_fit_time  std_fit_time  mean_score_time  std_score_time param_C  \\\n",
       "31       1.469071      0.255001         0.189094        0.025338     100   \n",
       "32       2.001248      0.079938         0.231182        0.008542     100   \n",
       "33       1.998258      0.046859         0.240557        0.027243     100   \n",
       "34       1.982886      0.058112         0.221614        0.007004     100   \n",
       "35       2.034560      0.101654         0.232981        0.016752     100   \n",
       "\n",
       "   param_gamma param_kernel                                       params  \\\n",
       "31       0.001          rbf  {'C': 100, 'gamma': 0.001, 'kernel': 'rbf'}   \n",
       "32        0.01          rbf   {'C': 100, 'gamma': 0.01, 'kernel': 'rbf'}   \n",
       "33         0.1          rbf    {'C': 100, 'gamma': 0.1, 'kernel': 'rbf'}   \n",
       "34           1          rbf      {'C': 100, 'gamma': 1, 'kernel': 'rbf'}   \n",
       "35          10          rbf     {'C': 100, 'gamma': 10, 'kernel': 'rbf'}   \n",
       "\n",
       "    split0_test_score  split1_test_score       ...         mean_test_score  \\\n",
       "31             0.9500             0.9875       ...                  0.9725   \n",
       "32             0.9375             0.9750       ...                  0.9675   \n",
       "33             0.6750             0.7750       ...                  0.7075   \n",
       "34             0.2750             0.3000       ...                  0.2775   \n",
       "35             0.7750             0.8625       ...                  0.7775   \n",
       "\n",
       "    std_test_score  rank_test_score  split0_train_score  split1_train_score  \\\n",
       "31        0.014577                2                 1.0                 1.0   \n",
       "32        0.016956                4                 1.0                 1.0   \n",
       "33        0.038406               25                 1.0                 1.0   \n",
       "34        0.032016               33                 1.0                 1.0   \n",
       "35        0.044300               22                 1.0                 1.0   \n",
       "\n",
       "    split2_train_score  split3_train_score  split4_train_score  \\\n",
       "31                 1.0                 1.0                 1.0   \n",
       "32                 1.0                 1.0                 1.0   \n",
       "33                 1.0                 1.0                 1.0   \n",
       "34                 1.0                 1.0                 1.0   \n",
       "35                 1.0                 1.0                 1.0   \n",
       "\n",
       "    mean_train_score  std_train_score  \n",
       "31               1.0              0.0  \n",
       "32               1.0              0.0  \n",
       "33               1.0              0.0  \n",
       "34               1.0              0.0  \n",
       "35               1.0              0.0  \n",
       "\n",
       "[5 rows x 23 columns]"
      ]
     },
     "execution_count": 43,
     "metadata": {},
     "output_type": "execute_result"
    }
   ],
   "source": [
    "results_frams.tail()"
   ]
  },
  {
   "cell_type": "code",
   "execution_count": 38,
   "metadata": {},
   "outputs": [
    {
     "data": {
      "text/plain": [
       "<matplotlib.collections.PathCollection at 0x27c09b52b00>"
      ]
     },
     "execution_count": 38,
     "metadata": {},
     "output_type": "execute_result"
    },
    {
     "data": {
      "image/png": "[encoded data removed]",
      "text/plain": [
       "<Figure size 432x288 with 1 Axes>"
      ]
     },
     "metadata": {
      "needs_background": "light"
     },
     "output_type": "display_data"
    }
   ],
   "source": [
    "plt.scatter(results_frams['param_C'], results_frams['mean_train_score'])"
   ]
  },
  {
   "cell_type": "code",
   "execution_count": 39,
   "metadata": {},
   "outputs": [
    {
     "data": {
      "text/plain": [
       "<matplotlib.collections.PathCollection at 0x27c09ba8be0>"
      ]
     },
     "execution_count": 39,
     "metadata": {},
     "output_type": "execute_result"
    },
    {
     "data": {
      "image/png": "[encoded data removed]",
      "text/plain": [
       "<Figure size 432x288 with 1 Axes>"
      ]
     },
     "metadata": {
      "needs_background": "light"
     },
     "output_type": "display_data"
    }
   ],
   "source": [
    "plt.scatter(results_frams['param_gamma'], results_frams['mean_train_score'])"
   ]
  },
  {
   "cell_type": "code",
   "execution_count": 40,
   "metadata": {},
   "outputs": [
    {
     "data": {
      "text/plain": [
       "<matplotlib.collections.PathCollection at 0x27c09c02c18>"
      ]
     },
     "execution_count": 40,
     "metadata": {},
     "output_type": "execute_result"
    },
    {
     "data": {
      "image/png": "[encoded data removed]",
      "text/plain": [
       "<Figure size 432x288 with 1 Axes>"
      ]
     },
     "metadata": {
      "needs_background": "light"
     },
     "output_type": "display_data"
    }
   ],
   "source": [
    "plt.scatter(results_frams['param_C'], results_frams['mean_test_score'])"
   ]
  },
  {
   "cell_type": "code",
   "execution_count": 41,
   "metadata": {},
   "outputs": [
    {
     "data": {
      "text/plain": [
       "<matplotlib.collections.PathCollection at 0x27c09c616a0>"
      ]
     },
     "execution_count": 41,
     "metadata": {},
     "output_type": "execute_result"
    },
    {
     "data": {
      "image/png": "[encoded data removed]",
      "text/plain": [
       "<Figure size 432x288 with 1 Axes>"
      ]
     },
     "metadata": {
      "needs_background": "light"
     },
     "output_type": "display_data"
    }
   ],
   "source": [
    "plt.scatter(results_frams['param_C'], results_frams['mean_test_score'])"
   ]
  },
  {
   "cell_type": "markdown",
   "metadata": {},
   "source": [
    "- As the value of C and gamma increases the model the training accuracy increases and leads to overfitting of the data \n",
    "- As you can see from Results data frame that when C = 100 and gamma  = 10 the training error is one and test error is really low 0.7775."
   ]
  }
 ],
 "metadata": {
  "colab": {
   "collapsed_sections": [],
   "name": "Classification using SVMs.ipynb",
   "provenance": []
  },
  "kernelspec": {
   "display_name": "Python 3",
   "language": "python",
   "name": "python3"
  },
  "language_info": {
   "codemirror_mode": {
    "name": "ipython",
    "version": 3
   },
   "file_extension": ".py",
   "mimetype": "text/x-python",
   "name": "python",
   "nbconvert_exporter": "python",
   "pygments_lexer": "ipython3",
   "version": "3.7.0"
  }
 },
 "nbformat": 4,
 "nbformat_minor": 1
}
