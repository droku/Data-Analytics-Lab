{
 "cells": [
  {
   "cell_type": "markdown",
   "metadata": {},
   "source": [
    "#### In class, we did linear regression, lasso and ridge regression models on the data provided with polynomial features. Today, we will fit these models on the given data using features inspired by discrete time Fourier series : sinusoids of different frequencies.  "
   ]
  },
  {
   "cell_type": "markdown",
   "metadata": {},
   "source": [
    "#### Import the necessary libraries and modules here."
   ]
  },
  {
   "cell_type": "code",
   "execution_count": 82,
   "metadata": {},
   "outputs": [],
   "source": [
    "import numpy as np\n",
    "from sklearn.linear_model import Ridge, Lasso, LinearRegression\n",
    "import pandas as pd\n",
    "import matplotlib.pyplot as plt\n",
    "from sklearn.model_selection import GridSearchCV"
   ]
  },
  {
   "cell_type": "markdown",
   "metadata": {},
   "source": [
    "#### Import and plot the data from data1.txt . The first column is the input data and the second column is the signal."
   ]
  },
  {
   "cell_type": "code",
   "execution_count": 62,
   "metadata": {},
   "outputs": [],
   "source": [
    "data = pd.read_fwf('data1.txt',delimiter = ',', header = None)"
   ]
  },
  {
   "cell_type": "code",
   "execution_count": 63,
   "metadata": {},
   "outputs": [
    {
     "data": {
      "text/html": [
       "<div>\n",
       "<style scoped>\n",
       "    .dataframe tbody tr th:only-of-type {\n",
       "        vertical-align: middle;\n",
       "    }\n",
       "\n",
       "    .dataframe tbody tr th {\n",
       "        vertical-align: top;\n",
       "    }\n",
       "\n",
       "    .dataframe thead th {\n",
       "        text-align: right;\n",
       "    }\n",
       "</style>\n",
       "<table border=\"1\" class=\"dataframe\">\n",
       "  <thead>\n",
       "    <tr style=\"text-align: right;\">\n",
       "      <th></th>\n",
       "      <th>0</th>\n",
       "      <th>1</th>\n",
       "    </tr>\n",
       "  </thead>\n",
       "  <tbody>\n",
       "    <tr>\n",
       "      <th>95</th>\n",
       "      <td>96.0</td>\n",
       "      <td>-5.354413</td>\n",
       "    </tr>\n",
       "    <tr>\n",
       "      <th>96</th>\n",
       "      <td>97.0</td>\n",
       "      <td>-4.607652</td>\n",
       "    </tr>\n",
       "    <tr>\n",
       "      <th>97</th>\n",
       "      <td>98.0</td>\n",
       "      <td>-1.327695</td>\n",
       "    </tr>\n",
       "    <tr>\n",
       "      <th>98</th>\n",
       "      <td>99.0</td>\n",
       "      <td>-1.440373</td>\n",
       "    </tr>\n",
       "    <tr>\n",
       "      <th>99</th>\n",
       "      <td>100.0</td>\n",
       "      <td>0.401989</td>\n",
       "    </tr>\n",
       "  </tbody>\n",
       "</table>\n",
       "</div>"
      ],
      "text/plain": [
       "        0         1\n",
       "95   96.0 -5.354413\n",
       "96   97.0 -4.607652\n",
       "97   98.0 -1.327695\n",
       "98   99.0 -1.440373\n",
       "99  100.0  0.401989"
      ]
     },
     "execution_count": 63,
     "metadata": {},
     "output_type": "execute_result"
    }
   ],
   "source": [
    "data.tail()"
   ]
  },
  {
   "cell_type": "markdown",
   "metadata": {},
   "source": [
    "#### Let x be the first column provided in data1.txt . Generate 100 sinusoids as per the following equation.  <br> <br>$$f(k)=sin(2{\\pi}*k*x/100) \\,\\,\\,k=1,2,3...100$$ <br><br>These sinuosids are the features that you will now use for training. Plot and visualize a few features."
   ]
  },
  {
   "cell_type": "code",
   "execution_count": 64,
   "metadata": {},
   "outputs": [],
   "source": [
    "data_signal = pd.DataFrame()"
   ]
  },
  {
   "cell_type": "code",
   "execution_count": 74,
   "metadata": {},
   "outputs": [],
   "source": [
    "for i in range(100):\n",
    "    data_signal[i] = np.sin((2*np.pi*(i+1)*data[0])/100)"
   ]
  },
  {
   "cell_type": "code",
   "execution_count": 75,
   "metadata": {},
   "outputs": [
    {
     "data": {
      "text/plain": [
       "(100, 100)"
      ]
     },
     "execution_count": 75,
     "metadata": {},
     "output_type": "execute_result"
    }
   ],
   "source": [
    "data_signal.shape"
   ]
  },
  {
   "cell_type": "code",
   "execution_count": 81,
   "metadata": {},
   "outputs": [
    {
     "data": {
      "text/plain": [
       "[<matplotlib.lines.Line2D at 0x1f861f53278>]"
      ]
     },
     "execution_count": 81,
     "metadata": {},
     "output_type": "execute_result"
    },
    {
     "data": {
      "image/png": "[encoded data removed]",
      "text/plain": [
       "<Figure size 432x288 with 1 Axes>"
      ]
     },
     "metadata": {
      "needs_background": "light"
     },
     "output_type": "display_data"
    }
   ],
   "source": [
    "plt.plot(data[0], data_signal[0])"
   ]
  },
  {
   "cell_type": "markdown",
   "metadata": {},
   "source": [
    "#### Use linear regression without any regularization, lasso and ridge regression models to fit data1.txt . For ridge and lasso, use the optimal tuning parameter found using 5-fold cross validation. Report the coefficient values for each model. Answer the following :  <br> <br> 1. Does the signal in data1.txt contain any dominant frequencies? If yes, identify them. Which model helped you answer this? Give reasons. <br><br>2. Plot the reconstructed signal and the signal in data1.txt using all the three models and compare. Plot separately for each model. <br><br> "
   ]
  },
  {
   "cell_type": "code",
   "execution_count": null,
   "metadata": {},
   "outputs": [],
   "source": []
  },
  {
   "cell_type": "code",
   "execution_count": 71,
   "metadata": {},
   "outputs": [],
   "source": [
    "data[1] = data[1]/max(data[1])"
   ]
  },
  {
   "cell_type": "code",
   "execution_count": 77,
   "metadata": {},
   "outputs": [
    {
     "data": {
      "text/plain": [
       "LinearRegression(copy_X=True, fit_intercept=True, n_jobs=1, normalize=False)"
      ]
     },
     "execution_count": 77,
     "metadata": {},
     "output_type": "execute_result"
    }
   ],
   "source": [
    "linear_model = LinearRegression()\n",
    "linear_model.fit(data_signal, data[1])"
   ]
  },
  {
   "cell_type": "code",
   "execution_count": 78,
   "metadata": {},
   "outputs": [
    {
     "data": {
      "text/plain": [
       "<matplotlib.legend.Legend at 0x1f861e11358>"
      ]
     },
     "execution_count": 78,
     "metadata": {},
     "output_type": "execute_result"
    },
    {
     "data": {
      "image/png": "[encoded data removed]",
      "text/plain": [
       "<Figure size 432x288 with 1 Axes>"
      ]
     },
     "metadata": {
      "needs_background": "light"
     },
     "output_type": "display_data"
    }
   ],
   "source": [
    "pred_signal = linear_model.predict(data_signal)\n",
    "plt.plot(data[0], pred_signal, label = 'predicted_signal')\n",
    "plt.plot(data[0], data[1], label = 'actual_signal')\n",
    "plt.legend()"
   ]
  },
  {
   "cell_type": "code",
   "execution_count": 79,
   "metadata": {},
   "outputs": [],
   "source": [
    "coefficients_linear_model = linear_model.coef_"
   ]
  },
  {
   "cell_type": "code",
   "execution_count": 80,
   "metadata": {},
   "outputs": [
    {
     "name": "stdout",
     "output_type": "stream",
     "text": [
      "[-6005104116059.775, -6005104116059.724, -4908406509437.428, -4908406509437.384, -4825263060413.247, -4825263060413.2295, -3198663729047.546, -3198663729047.5317, -3184920619680.8047, -2487045094492.618, -2487045094492.5967, -2447426874189.48, -2447426874189.4795, -2227379138852.8013, -2227379138852.775, -2107618134830.1377, -2107618134830.0942, -1901725820271.7778, -1901725820271.7625, -1803341565715.0957, -1803341565715.0427, -1444992397538.0483, -1444992397537.3901, -1269614239785.2815, -1269614239785.2395, -1147777077492.0398, -1147777077492.037, -1137573790550.127, -1137573790550.1157, -592181169756.0188, -592181169755.99, -355904570295.69244, -355904570295.6575, -182220811823.98315, -182220811823.96936, -62445092869.586426, -62445092869.56464, -36984630085.493286, -36984630085.48718, 45978624373.131775, 45978624373.13367, 87529891021.44934, 87529891021.47852, 88218604285.59064, 88218604285.62183, 323755342097.2827, 323755342097.29254, 343985768110.18726, 343985768110.2344, 347886449355.3512, 347886449355.37683, 761129249209.4382, 761129249209.4448, 834776483550.1587, 1142724595916.2764, 1142724595916.2778, 1190882460829.712, 1190882460829.7256, 1254723076875.2656, 1254723076875.3105, 1597578076688.6458, 1597578076688.659, 1646189651986.7097, 1646189651986.7737, 1692667576393.5796, 1692667576393.5964, 1800374194674.7144, 1800374194674.7646, 2407757153150.8037, 2407757153150.832, 2438299855910.8467, 2438299855910.8545, 2647973191545.959, 2647973191546.3076, 2901532262422.3896, 2901532262422.3975, 2987208397780.2754, 2987208397780.296, 3001956492915.537, 3001956492915.557, 3689840637752.291, 3689840637752.328, 3706564164894.4272, 3706564164894.4497, 4125108948530.253, 4125108948530.258, 4429867784224.107, 4429867784224.176, 4917432204028.31, 4917432204028.334, 5191060578349.858, 5191060578349.868, 5868338541859.533, 5868338541859.546, 7396356077530.38, 7396356077530.382, 7853846278999.38, 7853846278999.401, 8568728555432.201, 8568728555432.218]\n",
      "proportion of the highest coefficient than the least: \n"
     ]
    }
   ],
   "source": [
    "print(sorted(coefficients_linear_model))\n",
    "print('proportion of the highest coefficient than the least: ')"
   ]
  },
  {
   "cell_type": "code",
   "execution_count": 84,
   "metadata": {},
   "outputs": [
    {
     "data": {
      "text/plain": [
       "GridSearchCV(cv=5, error_score='raise',\n",
       "       estimator=Ridge(alpha=1.0, copy_X=True, fit_intercept=True, max_iter=None,\n",
       "   normalize=False, random_state=None, solver='auto', tol=0.001),\n",
       "       fit_params=None, iid=True, n_jobs=1,\n",
       "       param_grid={'alpha': [0.01, 0.1, 1, 10, 100]},\n",
       "       pre_dispatch='2*n_jobs', refit=True, return_train_score='warn',\n",
       "       scoring=None, verbose=0)"
      ]
     },
     "execution_count": 84,
     "metadata": {},
     "output_type": "execute_result"
    }
   ],
   "source": [
    "ridge_model = Ridge()\n",
    "params = {'alpha': [0.01,0.1,1,10,100]}\n",
    "best_ridge = GridSearchCV(ridge_model, params, cv = 5)\n",
    "best_ridge.fit(data_signal, data[1])"
   ]
  },
  {
   "cell_type": "code",
   "execution_count": 86,
   "metadata": {},
   "outputs": [
    {
     "data": {
      "text/plain": [
       "{'alpha': 0.01}"
      ]
     },
     "execution_count": 86,
     "metadata": {},
     "output_type": "execute_result"
    }
   ],
   "source": [
    "best_ridge.best_params_"
   ]
  },
  {
   "cell_type": "code",
   "execution_count": 92,
   "metadata": {},
   "outputs": [
    {
     "data": {
      "text/plain": [
       "<matplotlib.legend.Legend at 0x1f863145240>"
      ]
     },
     "execution_count": 92,
     "metadata": {},
     "output_type": "execute_result"
    },
    {
     "data": {
      "image/png": "[encoded data removed]",
      "text/plain": [
       "<Figure size 432x288 with 1 Axes>"
      ]
     },
     "metadata": {
      "needs_background": "light"
     },
     "output_type": "display_data"
    }
   ],
   "source": [
    "best_ridge2 = Ridge(alpha = 0.01)\n",
    "best_ridge2.fit(data_signal, data[1])\n",
    "pred_signal = best_ridge2.predict(data_signal)\n",
    "plt.plot(data[0], pred_signal, label = 'predicted_signal')\n",
    "plt.plot(data[0], data[1], label = 'actual_signal')\n",
    "plt.legend()"
   ]
  },
  {
   "cell_type": "code",
   "execution_count": 94,
   "metadata": {},
   "outputs": [
    {
     "data": {
      "text/plain": [
       "[-0.3349043037411179,\n",
       " -0.17283301428377335,\n",
       " -0.01094638563492383,\n",
       " -0.010069668706902185,\n",
       " -0.009959723657538907,\n",
       " -0.008483655050037729,\n",
       " -0.007472349970175908,\n",
       " -0.007460473979103181,\n",
       " -0.007405146149798186,\n",
       " -0.005992761928577758,\n",
       " -0.005587624092690197,\n",
       " -0.005564162400536154,\n",
       " -0.005209582501017911,\n",
       " -0.005060430917637954,\n",
       " -0.004835693289086015,\n",
       " -0.004012293173974022,\n",
       " -0.0035139525636686364,\n",
       " -0.003244290837699005,\n",
       " -0.0032320194865422098,\n",
       " -0.002830679663641703,\n",
       " -0.00260245701024829,\n",
       " -0.0025127582104768785,\n",
       " -0.0023404327131998186,\n",
       " -0.0022564569432839705,\n",
       " -0.0022009115401531074,\n",
       " -0.002074250906670559,\n",
       " -0.0016332873534646332,\n",
       " -0.0015419270951912275,\n",
       " -0.0014713875529222147,\n",
       " -0.0013971031643710038,\n",
       " -0.0012623707371627296,\n",
       " -0.0012049169387954562,\n",
       " -0.0011854882175496694,\n",
       " -0.0011078900613565523,\n",
       " -0.0010625713594997377,\n",
       " -0.0010613618862428138,\n",
       " -0.001025757858098718,\n",
       " -0.0008814674526698176,\n",
       " -0.0008706082113439126,\n",
       " -0.0007639233492930208,\n",
       " -0.00041550349785161427,\n",
       " -0.0004009489879652902,\n",
       " -0.0003893502964901278,\n",
       " -0.0003225933972814348,\n",
       " -0.00027785220072299984,\n",
       " -0.00024800293649658806,\n",
       " -8.73732177372953e-05,\n",
       " -4.495551491135782e-05,\n",
       " -1.5436694873212423e-05,\n",
       " -1.3205960524312011e-12,\n",
       " 4.505761363872589e-13,\n",
       " 1.5436694134996267e-05,\n",
       " 4.4955514394711606e-05,\n",
       " 8.737321547201032e-05,\n",
       " 0.00024800293736691867,\n",
       " 0.0002778522003599639,\n",
       " 0.00032259339277708585,\n",
       " 0.00038935029659255434,\n",
       " 0.0004009489866745948,\n",
       " 0.0004155035002773751,\n",
       " 0.0007639233519033175,\n",
       " 0.0008706082129987915,\n",
       " 0.0008814674526621196,\n",
       " 0.0010257578577688691,\n",
       " 0.0010613618854033394,\n",
       " 0.0010625713600183832,\n",
       " 0.001107890060987484,\n",
       " 0.0011854882177898785,\n",
       " 0.0012049169401839445,\n",
       " 0.0012623707382869822,\n",
       " 0.0013971031640666763,\n",
       " 0.0014713875527291634,\n",
       " 0.0015419270954123055,\n",
       " 0.0016332873521761073,\n",
       " 0.0020742509068098188,\n",
       " 0.0022009115426337928,\n",
       " 0.0022564569442208565,\n",
       " 0.0023404327132474905,\n",
       " 0.00251275821137285,\n",
       " 0.002602457007802141,\n",
       " 0.0028306796640210534,\n",
       " 0.0032320194873976344,\n",
       " 0.0032442908386178526,\n",
       " 0.0035139525637044133,\n",
       " 0.0040122931743843465,\n",
       " 0.004835693291111459,\n",
       " 0.005060430916960552,\n",
       " 0.005209582502488365,\n",
       " 0.005564162399760117,\n",
       " 0.005587624094005674,\n",
       " 0.005992761928656187,\n",
       " 0.007405146148856001,\n",
       " 0.007460473979145917,\n",
       " 0.00747234997151223,\n",
       " 0.008483655051056577,\n",
       " 0.009959723655778296,\n",
       " 0.010069668707311918,\n",
       " 0.010946385634854684,\n",
       " 0.17283301428472245,\n",
       " 0.3349043037384206]"
      ]
     },
     "execution_count": 94,
     "metadata": {},
     "output_type": "execute_result"
    }
   ],
   "source": [
    "sorted(best_ridge2.coef_)"
   ]
  },
  {
   "cell_type": "code",
   "execution_count": 96,
   "metadata": {},
   "outputs": [
    {
     "data": {
      "text/plain": [
       "GridSearchCV(cv=5, error_score='raise',\n",
       "       estimator=Lasso(alpha=1.0, copy_X=True, fit_intercept=True, max_iter=1000,\n",
       "   normalize=False, positive=False, precompute=False, random_state=None,\n",
       "   selection='cyclic', tol=0.0001, warm_start=False),\n",
       "       fit_params=None, iid=True, n_jobs=1,\n",
       "       param_grid={'alpha': [0.01, 0.1, 1, 10, 100]},\n",
       "       pre_dispatch='2*n_jobs', refit=True, return_train_score='warn',\n",
       "       scoring=None, verbose=0)"
      ]
     },
     "execution_count": 96,
     "metadata": {},
     "output_type": "execute_result"
    }
   ],
   "source": [
    "lasso_model = Lasso()\n",
    "params = {'alpha': [0.01,0.1,1,10,100]}\n",
    "best_lasso = GridSearchCV(lasso_model, params, cv = 5)\n",
    "best_lasso.fit(data_signal, data[1])"
   ]
  },
  {
   "cell_type": "code",
   "execution_count": 97,
   "metadata": {},
   "outputs": [
    {
     "data": {
      "text/plain": [
       "{'alpha': 0.01}"
      ]
     },
     "execution_count": 97,
     "metadata": {},
     "output_type": "execute_result"
    }
   ],
   "source": [
    "best_lasso.best_params_"
   ]
  },
  {
   "cell_type": "code",
   "execution_count": 98,
   "metadata": {},
   "outputs": [
    {
     "data": {
      "text/plain": [
       "<matplotlib.legend.Legend at 0x1f8631b4a90>"
      ]
     },
     "execution_count": 98,
     "metadata": {},
     "output_type": "execute_result"
    },
    {
     "data": {
      "image/png": "[encoded data removed]",
      "text/plain": [
       "<Figure size 432x288 with 1 Axes>"
      ]
     },
     "metadata": {
      "needs_background": "light"
     },
     "output_type": "display_data"
    }
   ],
   "source": [
    "best_lasso2 = Lasso(alpha = 0.01)\n",
    "best_lasso2.fit(data_signal, data[1])\n",
    "pred_signal = best_lasso2.predict(data_signal)\n",
    "plt.plot(data[0], pred_signal, label = 'predicted_signal')\n",
    "plt.plot(data[0], data[1], label = 'actual_signal')\n",
    "plt.legend()"
   ]
  },
  {
   "cell_type": "code",
   "execution_count": 100,
   "metadata": {},
   "outputs": [
    {
     "data": {
      "text/plain": [
       "[-0.0001413513479562756,\n",
       " -1.0480505352461525e-15,\n",
       " -1.9539925233402792e-16,\n",
       " -0.0,\n",
       " 0.0,\n",
       " -0.0,\n",
       " 0.0,\n",
       " -0.0,\n",
       " 0.0,\n",
       " 0.0,\n",
       " -0.0,\n",
       " 0.0,\n",
       " -0.0,\n",
       " -0.0,\n",
       " 0.0,\n",
       " -0.0,\n",
       " -0.0,\n",
       " 0.0,\n",
       " 0.0,\n",
       " 0.0,\n",
       " -0.0,\n",
       " -0.0,\n",
       " -0.0,\n",
       " -0.0,\n",
       " 0.0,\n",
       " 0.0,\n",
       " 0.0,\n",
       " -0.0,\n",
       " -0.0,\n",
       " 0.0,\n",
       " 0.0,\n",
       " 0.0,\n",
       " 0.0,\n",
       " -0.0,\n",
       " -0.0,\n",
       " 0.0,\n",
       " 0.0,\n",
       " -0.0,\n",
       " -0.0,\n",
       " -0.0,\n",
       " 0.0,\n",
       " 0.0,\n",
       " 0.0,\n",
       " 0.0,\n",
       " 0.0,\n",
       " 0.0,\n",
       " 0.0,\n",
       " 0.0,\n",
       " -0.0,\n",
       " -0.0,\n",
       " -0.0,\n",
       " -0.0,\n",
       " -0.0,\n",
       " -0.0,\n",
       " -0.0,\n",
       " -0.0,\n",
       " -0.0,\n",
       " 0.0,\n",
       " 0.0,\n",
       " 0.0,\n",
       " -0.0,\n",
       " -0.0,\n",
       " 0.0,\n",
       " 0.0,\n",
       " -0.0,\n",
       " -0.0,\n",
       " -0.0,\n",
       " -0.0,\n",
       " 0.0,\n",
       " 0.0,\n",
       " -0.0,\n",
       " -0.0,\n",
       " -0.0,\n",
       " 0.0,\n",
       " 0.0,\n",
       " 0.0,\n",
       " 0.0,\n",
       " -0.0,\n",
       " -0.0,\n",
       " -0.0,\n",
       " 0.0,\n",
       " 0.0,\n",
       " -0.0,\n",
       " 0.0,\n",
       " 0.0,\n",
       " -0.0,\n",
       " 0.0,\n",
       " -0.0,\n",
       " -0.0,\n",
       " 0.0,\n",
       " -0.0,\n",
       " 0.0,\n",
       " -0.0,\n",
       " 0.0,\n",
       " -0.0,\n",
       " -0.0,\n",
       " 1.865174681370265e-16,\n",
       " 0.0018949605469035854,\n",
       " 0.3257005951713545,\n",
       " 0.6498755883402854]"
      ]
     },
     "execution_count": 100,
     "metadata": {},
     "output_type": "execute_result"
    }
   ],
   "source": [
    "sorted(best_lasso2.coef_)"
   ]
  },
  {
   "cell_type": "markdown",
   "metadata": {},
   "source": [
    "- Lasso and ridge model were able to identify the dominant frequencies because of the constraints imposed the parameters it was able to filter out only the dominant features which resulted in the signal formation."
   ]
  }
 ],
 "metadata": {
  "kernelspec": {
   "display_name": "Python 3",
   "language": "python",
   "name": "python3"
  },
  "language_info": {
   "codemirror_mode": {
    "name": "ipython",
    "version": 3
   },
   "file_extension": ".py",
   "mimetype": "text/x-python",
   "name": "python",
   "nbconvert_exporter": "python",
   "pygments_lexer": "ipython3",
   "version": "3.7.0"
  }
 },
 "nbformat": 4,
 "nbformat_minor": 2
}
