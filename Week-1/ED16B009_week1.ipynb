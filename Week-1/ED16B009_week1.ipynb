{
 "cells": [
  {
   "cell_type": "markdown",
   "metadata": {},
   "source": [
    "# Python Basic Exercises"
   ]
  },
  {
   "cell_type": "markdown",
   "metadata": {},
   "source": [
    "1) Create a function that acts as a simple calculator with operations addition, subtraction, multiplication and division.\n",
    "\n",
    "If the operation is not speciﬁed, default to multiplication. If the operation is misspecified, return an error message.\n",
    "        \n",
    "        Ex: \n",
    "calculator(3,5,\"multiply\") returns 15 \n",
    "\n",
    "calculator(3,5) returns 15  \n",
    "\n",
    "calculator(3, 5, \"something\") returns error message.\n",
    "\n",
    "\n",
    "\n",
    "\n",
    "\n"
   ]
  },
  {
   "cell_type": "code",
   "execution_count": 1,
   "metadata": {},
   "outputs": [
    {
     "data": {
      "text/plain": [
       "0.6"
      ]
     },
     "execution_count": 1,
     "metadata": {},
     "output_type": "execute_result"
    }
   ],
   "source": [
    "def calculator(x, y, operation = \"multiplication\"):\n",
    "    if operation == \"addition\":\n",
    "        return x + y\n",
    "    elif operation is \"subraction\":\n",
    "        return x-y\n",
    "    elif operation is \"division\":\n",
    "        return (x/y)\n",
    "    elif operation is \"multiplication\":\n",
    "        return x*y\n",
    "    else:\n",
    "        return \"error\"\n",
    "    \n",
    "calculator(3, 5, \"division\")"
   ]
  },
  {
   "cell_type": "markdown",
   "metadata": {},
   "source": [
    "2) a) Given a list of numbers, return a list where all adjacent duplicate elements have been removed.\n",
    "\n",
    "Ex:\n",
    "\n",
    "[2, 2, 2, 3, 2] returns [ 2, 3, 2]. "
   ]
  },
  {
   "cell_type": "code",
   "execution_count": 31,
   "metadata": {},
   "outputs": [
    {
     "name": "stdout",
     "output_type": "stream",
     "text": [
      "[1, 2, 3, 5, 2]\n"
     ]
    }
   ],
   "source": [
    "input_list = [1,1,1,1,2,2,2,3,3,5,5,5,2]\n",
    "output_list = input_list\n",
    "m = len(input_list)\n",
    "i = 0\n",
    "while i < m-1:\n",
    "    if input_list[i] == input_list[i+1]:\n",
    "        input_list.pop(i+1)\n",
    "        m = len(input_list)\n",
    "    else:\n",
    "        i = i+1\n",
    "print(input_list)"
   ]
  },
  {
   "cell_type": "markdown",
   "metadata": {},
   "source": [
    "b) Remove all duplicate values (adjacent or not)\n",
    "\n",
    "Ex:\n",
    "\n",
    "[1, 2, 2, 3, 2,3,1] returns [1, 2, 3] "
   ]
  },
  {
   "cell_type": "code",
   "execution_count": 32,
   "metadata": {},
   "outputs": [
    {
     "name": "stdout",
     "output_type": "stream",
     "text": [
      "[1, 2, 3]\n"
     ]
    }
   ],
   "source": [
    "input_list = [1,2,2,3,2,3,1]\n",
    "i = 0\n",
    "m = len(input_list)\n",
    "while i < m-1:\n",
    "    if input_list.count(input_list[i]) == 1:\n",
    "        i = i + 1\n",
    "        continue\n",
    "    if input_list.count(input_list[i]) > 1:\n",
    "        j = i+1\n",
    "        duplicate_number = input_list[i]\n",
    "        while j < m:\n",
    "            if input_list[j] == duplicate_number:\n",
    "                input_list.pop(j)\n",
    "                j = j - 1\n",
    "                m = len(input_list)\n",
    "            j = j + 1\n",
    "        i = i + 1\n",
    "print(input_list)"
   ]
  },
  {
   "cell_type": "markdown",
   "metadata": {},
   "source": [
    "3) Given the array:  X= np.random.randn(3,5)   \\# creates random normals in 3x5 array\n",
    "\n",
    "For each column find the row index of the maximum value using loop.\n"
   ]
  },
  {
   "cell_type": "code",
   "execution_count": 33,
   "metadata": {},
   "outputs": [
    {
     "name": "stdout",
     "output_type": "stream",
     "text": [
      "X [[ 0.97412495  1.46669325  1.92518255 -2.03316277  0.02650292]\n",
      " [ 0.33685643 -1.85652467  1.41289892 -1.51726096 -1.03428402]\n",
      " [ 0.53342397 -0.30830986  0.80242229  1.11542741  0.86970644]]\n",
      "max index =  [0, 0, 0, 2, 2]\n"
     ]
    }
   ],
   "source": [
    "import numpy as np\n",
    "X = np.random.randn(3,5)\n",
    "n = 5\n",
    "index = []\n",
    "for j in range(5):\n",
    "    max_value = -99999\n",
    "    max_index = 0\n",
    "    for i in range(3):\n",
    "        if X[i][j] > max_value:\n",
    "            max_value = X[i][j]\n",
    "            max_index = i\n",
    "    index.append(max_index)\n",
    "    \n",
    "print('X', X)\n",
    "print('max index = ',index)"
   ]
  },
  {
   "cell_type": "markdown",
   "metadata": {},
   "source": [
    "4) Get csv from the following link,\n",
    "https://raw.github.com/neurospin/pystatsml/master/datasets/salary_table.csv\n",
    "\n",
    "Create table from the csv file.\n",
    "\n",
    "Check for missing data and remove those entries from the table."
   ]
  },
  {
   "cell_type": "code",
   "execution_count": 34,
   "metadata": {},
   "outputs": [
    {
     "name": "stdout",
     "output_type": "stream",
     "text": [
      "original_data\n",
      "(46, 4)\n",
      "salary        1\n",
      "experience    1\n",
      "education     0\n",
      "management    1\n",
      "dtype: int64\n",
      "(43, 4)\n",
      "new_data\n",
      "salary        0\n",
      "experience    0\n",
      "education     0\n",
      "management    0\n",
      "dtype: int64\n"
     ]
    }
   ],
   "source": [
    "import pandas as pd \n",
    "table = pd.read_csv('salary_table.csv')\n",
    "print(\"original_data\")\n",
    "print(table.shape)\n",
    "print(table.isna().sum())\n",
    "table.describe()\n",
    "new_table = table.dropna()\n",
    "print(new_table.shape)\n",
    "print(\"new_data\")\n",
    "print(new_table.isna().sum())"
   ]
  },
  {
   "cell_type": "markdown",
   "metadata": {},
   "source": [
    "6) Use the file data.txt. Read, the ﬁle and count the occurrences of each word within the ﬁle. Store the words’ occurrence number in a dictionary. "
   ]
  },
  {
   "cell_type": "code",
   "execution_count": 35,
   "metadata": {},
   "outputs": [],
   "source": [
    "text_file = open(\"data.txt\", 'r')\n",
    "contents = text_file.read()"
   ]
  },
  {
   "cell_type": "code",
   "execution_count": 36,
   "metadata": {},
   "outputs": [
    {
     "name": "stdout",
     "output_type": "stream",
     "text": [
      "Data analysis is a process of inspecting, cleansing, transforming and modeling data with the goal of discovering useful information, informing conclusions and supporting decision-making. Data analysis has multiple facets and approaches, encompassing diverse techniques under a variety of names, and is used in different business, science, and social science domains. In today's business world, data analysis plays a role in making decisions more scientific and helping businesses operate more effectively.\n"
     ]
    }
   ],
   "source": [
    "print(contents)"
   ]
  },
  {
   "cell_type": "code",
   "execution_count": 37,
   "metadata": {},
   "outputs": [],
   "source": [
    "contents = contents.replace(',', '')\n",
    "contents = contents.replace('.', '')\n",
    "contents = contents.replace('?', '')\n",
    "contents = contents.replace('-', ' ')\n",
    "contents = contents.replace('\\'', '')"
   ]
  },
  {
   "cell_type": "code",
   "execution_count": 38,
   "metadata": {},
   "outputs": [
    {
     "name": "stdout",
     "output_type": "stream",
     "text": [
      "data analysis is a process of inspecting cleansing transforming and modeling data with the goal of discovering useful information informing conclusions and supporting decision making data analysis has multiple facets and approaches encompassing diverse techniques under a variety of names and is used in different business science and social science domains in todays business world data analysis plays a role in making decisions more scientific and helping businesses operate more effectively\n"
     ]
    }
   ],
   "source": [
    "contents = contents.lower()\n",
    "print(contents)"
   ]
  },
  {
   "cell_type": "code",
   "execution_count": 39,
   "metadata": {},
   "outputs": [
    {
     "name": "stdout",
     "output_type": "stream",
     "text": [
      "['data', 'analysis', 'is', 'a', 'process', 'of', 'inspecting', 'cleansing', 'transforming', 'and', 'modeling', 'data', 'with', 'the', 'goal', 'of', 'discovering', 'useful', 'information', 'informing', 'conclusions', 'and', 'supporting', 'decision', 'making', 'data', 'analysis', 'has', 'multiple', 'facets', 'and', 'approaches', 'encompassing', 'diverse', 'techniques', 'under', 'a', 'variety', 'of', 'names', 'and', 'is', 'used', 'in', 'different', 'business', 'science', 'and', 'social', 'science', 'domains', 'in', 'todays', 'business', 'world', 'data', 'analysis', 'plays', 'a', 'role', 'in', 'making', 'decisions', 'more', 'scientific', 'and', 'helping', 'businesses', 'operate', 'more', 'effectively']\n",
      "4\n"
     ]
    }
   ],
   "source": [
    "words = contents.split(' ')\n",
    "print(words)\n",
    "print(words.count('data'))"
   ]
  },
  {
   "cell_type": "code",
   "execution_count": 40,
   "metadata": {},
   "outputs": [
    {
     "name": "stdout",
     "output_type": "stream",
     "text": [
      "Distinct Words: \n",
      "['data', 'analysis', 'is', 'a', 'process', 'of', 'inspecting', 'cleansing', 'transforming', 'and', 'modeling', 'with', 'the', 'goal', 'discovering', 'useful', 'information', 'informing', 'conclusions', 'supporting', 'decision', 'making', 'has', 'multiple', 'facets', 'approaches', 'encompassing', 'diverse', 'techniques', 'under', 'variety', 'names', 'used', 'in', 'different', 'business', 'science', 'social', 'domains', 'todays', 'world', 'plays', 'role', 'decisions', 'more', 'scientific', 'helping', 'businesses', 'operate', 'effectively']\n"
     ]
    }
   ],
   "source": [
    "input_list = words\n",
    "\n",
    "i = 0\n",
    "m = len(input_list)\n",
    "word_dic = {}\n",
    "while i < m-1:\n",
    "    if input_list.count(input_list[i]) == 1:\n",
    "        i = i + 1\n",
    "        continue\n",
    "    if input_list.count(input_list[i]) > 1:\n",
    "        j = i+1\n",
    "        duplicate_number = input_list[i]\n",
    "        while j < m:\n",
    "            if input_list[j] == duplicate_number:\n",
    "                input_list.pop(j)\n",
    "                j = j - 1\n",
    "                m = len(input_list)\n",
    "            j = j + 1\n",
    "        i = i + 1\n",
    "print(\"Distinct Words: \")\n",
    "print(input_list)"
   ]
  },
  {
   "cell_type": "code",
   "execution_count": 41,
   "metadata": {},
   "outputs": [
    {
     "name": "stdout",
     "output_type": "stream",
     "text": [
      "{'data': 4, 'analysis': 3, 'is': 2, 'a': 3, 'process': 1, 'of': 3, 'inspecting': 1, 'cleansing': 1, 'transforming': 1, 'and': 6, 'modeling': 1, 'with': 1, 'the': 1, 'goal': 1, 'discovering': 1, 'useful': 1, 'information': 1, 'informing': 1, 'conclusions': 1, 'supporting': 1, 'decision': 1, 'making': 2, 'has': 1, 'multiple': 1, 'facets': 1, 'approaches': 1, 'encompassing': 1, 'diverse': 1, 'techniques': 1, 'under': 1, 'variety': 1, 'names': 1, 'used': 1, 'in': 3, 'different': 1, 'business': 2, 'science': 2, 'social': 1, 'domains': 1, 'todays': 1, 'world': 1, 'plays': 1, 'role': 1, 'decisions': 1, 'more': 2, 'scientific': 1, 'helping': 1, 'businesses': 1, 'operate': 1, 'effectively': 1}\n"
     ]
    }
   ],
   "source": [
    "word_dic = {}\n",
    "words = contents.split(' ')\n",
    "for single_word in input_list:\n",
    "    word_count = words.count(single_word)\n",
    "    word_dic[single_word] = word_count\n",
    "print(word_dic)"
   ]
  },
  {
   "cell_type": "code",
   "execution_count": null,
   "metadata": {},
   "outputs": [],
   "source": []
  }
 ],
 "metadata": {
  "kernelspec": {
   "display_name": "Python 3",
   "language": "python",
   "name": "python3"
  },
  "language_info": {
   "codemirror_mode": {
    "name": "ipython",
    "version": 3
   },
   "file_extension": ".py",
   "mimetype": "text/x-python",
   "name": "python",
   "nbconvert_exporter": "python",
   "pygments_lexer": "ipython3",
   "version": "3.7.0"
  }
 },
 "nbformat": 4,
 "nbformat_minor": 2
}
