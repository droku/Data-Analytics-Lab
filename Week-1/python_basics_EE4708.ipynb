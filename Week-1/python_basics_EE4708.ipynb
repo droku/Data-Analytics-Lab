{
 "cells": [
  {
   "cell_type": "markdown",
   "metadata": {
    "colab_type": "text",
    "id": "UtTbm3YHV7Qs"
   },
   "source": [
    "# Python basics"
   ]
  },
  {
   "cell_type": "markdown",
   "metadata": {
    "colab_type": "text",
    "id": "FvmBIca1cFdm"
   },
   "source": [
    "### Input/Output"
   ]
  },
  {
   "cell_type": "code",
   "execution_count": 8,
   "metadata": {
    "colab": {
     "base_uri": "https://localhost:8080/",
     "height": 52
    },
    "colab_type": "code",
    "executionInfo": {
     "elapsed": 5757,
     "status": "ok",
     "timestamp": 1564464606125,
     "user": {
      "displayName": "Matta Gopi Raju ee17d021",
      "photoUrl": "https://lh5.googleusercontent.com/-43vJN1jNSG0/AAAAAAAAAAI/AAAAAAAAA6E/daHM0wMqTGo/s64/photo.jpg",
      "userId": "17843365642390785690"
     },
     "user_tz": -330
    },
    "id": "GQOGkJCX-gLv",
    "outputId": "642a9ad7-f9b6-4bc6-a435-405bd9d51140"
   },
   "outputs": [
    {
     "name": "stdout",
     "output_type": "stream",
     "text": [
      "Enter an integer number:4\n",
      "4\n"
     ]
    }
   ],
   "source": [
    "n=int(input(\"Enter an integer number:\"))\n",
    "print(n)\n",
    "x = 5"
   ]
  },
  {
   "cell_type": "code",
   "execution_count": 9,
   "metadata": {
    "colab": {
     "base_uri": "https://localhost:8080/",
     "height": 34
    },
    "colab_type": "code",
    "executionInfo": {
     "elapsed": 828,
     "status": "ok",
     "timestamp": 1564464674727,
     "user": {
      "displayName": "Matta Gopi Raju ee17d021",
      "photoUrl": "https://lh5.googleusercontent.com/-43vJN1jNSG0/AAAAAAAAAAI/AAAAAAAAA6E/daHM0wMqTGo/s64/photo.jpg",
      "userId": "17843365642390785690"
     },
     "user_tz": -330
    },
    "id": "j7m8XVQjWm6M",
    "outputId": "e0c82704-ee8a-4aed-a0da-b0a3360e3312"
   },
   "outputs": [
    {
     "name": "stdout",
     "output_type": "stream",
     "text": [
      "Number is less than 10\n"
     ]
    }
   ],
   "source": [
    "if (x>10):  #colon is must\n",
    "    print('Number is greater than 10')\n",
    "elif (n<10):\n",
    "    print('Number is less than 10')\n",
    "else:\n",
    "    print('Numer is 10')\n"
   ]
  },
  {
   "cell_type": "markdown",
   "metadata": {
    "colab_type": "text",
    "id": "FuEBPgTXXNO1"
   },
   "source": [
    "### Loops"
   ]
  },
  {
   "cell_type": "code",
   "execution_count": 10,
   "metadata": {
    "colab": {
     "base_uri": "https://localhost:8080/",
     "height": 173
    },
    "colab_type": "code",
    "executionInfo": {
     "elapsed": 1060,
     "status": "ok",
     "timestamp": 1564464766852,
     "user": {
      "displayName": "Matta Gopi Raju ee17d021",
      "photoUrl": "https://lh5.googleusercontent.com/-43vJN1jNSG0/AAAAAAAAAAI/AAAAAAAAA6E/daHM0wMqTGo/s64/photo.jpg",
      "userId": "17843365642390785690"
     },
     "user_tz": -330
    },
    "id": "bakN7Rk8XX3D",
    "outputId": "d914be65-76b8-4352-c4fa-e735aed844af"
   },
   "outputs": [
    {
     "name": "stdout",
     "output_type": "stream",
     "text": [
      "1\n",
      "2\n",
      "3\n"
     ]
    }
   ],
   "source": [
    "for i in range(1,n):\n",
    "  print(i)\n"
   ]
  },
  {
   "cell_type": "markdown",
   "metadata": {},
   "source": [
    "### Example\n",
    "### Sum the elements from 1 to n."
   ]
  },
  {
   "cell_type": "code",
   "execution_count": null,
   "metadata": {},
   "outputs": [],
   "source": []
  },
  {
   "cell_type": "markdown",
   "metadata": {
    "colab_type": "text",
    "id": "7rGKMiNOXlnp"
   },
   "source": [
    "## List"
   ]
  },
  {
   "cell_type": "code",
   "execution_count": 17,
   "metadata": {
    "colab": {
     "base_uri": "https://localhost:8080/",
     "height": 52
    },
    "colab_type": "code",
    "executionInfo": {
     "elapsed": 894,
     "status": "ok",
     "timestamp": 1564464834278,
     "user": {
      "displayName": "Matta Gopi Raju ee17d021",
      "photoUrl": "https://lh5.googleusercontent.com/-43vJN1jNSG0/AAAAAAAAAAI/AAAAAAAAA6E/daHM0wMqTGo/s64/photo.jpg",
      "userId": "17843365642390785690"
     },
     "user_tz": -330
    },
    "id": "Cv5BuKdtXnss",
    "outputId": "3ebfb1be-4915-4aea-97b8-c415365a6f87"
   },
   "outputs": [
    {
     "name": "stdout",
     "output_type": "stream",
     "text": [
      "2\n",
      "2\n",
      "[1, 2, 2, 5]\n"
     ]
    }
   ],
   "source": [
    "a=[1, 2,2, 3]  \n",
    "print(a[2])   # print 3rd element of the list i.e 3. In python indexing starts from zero. \n",
    "print( a [-2 ]) # print 2nd last element i.e 2 ; negative indices counts from end of the list.\n",
    "a.append( 5 ) # to add new element to the list\n",
    "del a[3]\n",
    "print(a)"
   ]
  },
  {
   "cell_type": "markdown",
   "metadata": {
    "colab_type": "text",
    "id": "w7xigEsLXn_k"
   },
   "source": [
    "## Dictionary"
   ]
  },
  {
   "cell_type": "code",
   "execution_count": 18,
   "metadata": {
    "colab": {
     "base_uri": "https://localhost:8080/",
     "height": 34
    },
    "colab_type": "code",
    "executionInfo": {
     "elapsed": 839,
     "status": "ok",
     "timestamp": 1564464944648,
     "user": {
      "displayName": "Matta Gopi Raju ee17d021",
      "photoUrl": "https://lh5.googleusercontent.com/-43vJN1jNSG0/AAAAAAAAAAI/AAAAAAAAA6E/daHM0wMqTGo/s64/photo.jpg",
      "userId": "17843365642390785690"
     },
     "user_tz": -330
    },
    "id": "b-Fr5RFGXoS5",
    "outputId": "f0d1dc07-3792-4d47-bcaf-d5de70122eab"
   },
   "outputs": [
    {
     "name": "stdout",
     "output_type": "stream",
     "text": [
      "student\n"
     ]
    }
   ],
   "source": [
    "d={'gopi': 'student', 'rajesh': 'professor'}     #Key,Value pair\n",
    "print(d['gopi']) # prints the value of the cat i.e animal\n",
    "d['raju'] ='employee'  # adds new entry to dictionary\n",
    "del d['rajesh']  # deletes the entry"
   ]
  },
  {
   "cell_type": "markdown",
   "metadata": {
    "colab_type": "text",
    "id": "XzdX1wSSYTmF"
   },
   "source": [
    "## Functions\n",
    "### 1)Built-in functions\n",
    "### 2)User-defined functions"
   ]
  },
  {
   "cell_type": "code",
   "execution_count": 6,
   "metadata": {
    "colab": {
     "base_uri": "https://localhost:8080/",
     "height": 34
    },
    "colab_type": "code",
    "executionInfo": {
     "elapsed": 1010,
     "status": "ok",
     "timestamp": 1564465077615,
     "user": {
      "displayName": "Matta Gopi Raju ee17d021",
      "photoUrl": "https://lh5.googleusercontent.com/-43vJN1jNSG0/AAAAAAAAAAI/AAAAAAAAA6E/daHM0wMqTGo/s64/photo.jpg",
      "userId": "17843365642390785690"
     },
     "user_tz": -330
    },
    "id": "9KrYK3IDYfjd",
    "outputId": "089ab12e-437c-49b5-af4e-a62115937c0a"
   },
   "outputs": [
    {
     "name": "stdout",
     "output_type": "stream",
     "text": [
      "The time is1564552403.3545244\n"
     ]
    }
   ],
   "source": [
    "def print_time():\n",
    "    print('The time is' + str(time.time())) \n",
    "\n",
    "import time  # to work with time\n",
    "print_time()  # calling function\n"
   ]
  },
  {
   "cell_type": "markdown",
   "metadata": {
    "colab_type": "text",
    "id": "F-_lanva-j_s"
   },
   "source": [
    "# Python Libraries"
   ]
  },
  {
   "cell_type": "markdown",
   "metadata": {
    "colab_type": "text",
    "id": "KW4xcgDmAJIp"
   },
   "source": [
    "### Numpy: to deal with N dimensional array objects\n",
    "### Math: contains basic mathematical operations like sum, square root, ceil, floor, exponential, log, etc . \n",
    "### Matplotlib: visualizing data. We can generate plot, histograms, power spectra, bar chart ,scatter plot etc.\n",
    "### SciPy: collection of mathematical algorithms used for integration, optimization, interpolation, Fourier Transform, Signal Processing, Linear algebra etc\n",
    "### Pandas: provide data structures and data analysis tools like data alignment, reshaping, labeling, indexing, merging even working with time series data\n",
    "### Scikit-learn:   ML library; built on numpy, scipy and matplotlib ; contains  all basic ML algorithms like Classification, regression clustering dimensionality reduction, preprocessing lot more.\n"
   ]
  },
  {
   "cell_type": "markdown",
   "metadata": {
    "colab_type": "text",
    "id": "7erXiUpQGDgc"
   },
   "source": [
    "## Numpy"
   ]
  },
  {
   "cell_type": "code",
   "execution_count": 8,
   "metadata": {
    "colab": {},
    "colab_type": "code",
    "id": "IiHkbK9zGF9X"
   },
   "outputs": [],
   "source": [
    "import numpy as np\n",
    "a=np.array([1, 2, 3])"
   ]
  },
  {
   "cell_type": "markdown",
   "metadata": {
    "colab_type": "text",
    "id": "7RltVa5AGiHJ"
   },
   "source": [
    "Printing the array"
   ]
  },
  {
   "cell_type": "code",
   "execution_count": 9,
   "metadata": {
    "colab": {
     "base_uri": "https://localhost:8080/",
     "height": 52
    },
    "colab_type": "code",
    "executionInfo": {
     "elapsed": 857,
     "status": "ok",
     "timestamp": 1564460355831,
     "user": {
      "displayName": "Matta Gopi Raju ee17d021",
      "photoUrl": "https://lh5.googleusercontent.com/-43vJN1jNSG0/AAAAAAAAAAI/AAAAAAAAA6E/daHM0wMqTGo/s64/photo.jpg",
      "userId": "17843365642390785690"
     },
     "user_tz": -330
    },
    "id": "df3WxnMMGj6D",
    "outputId": "2ea7ac10-a7f5-4173-e477-14117a094d43"
   },
   "outputs": [
    {
     "name": "stdout",
     "output_type": "stream",
     "text": [
      "[1 2 3]\n",
      "3\n"
     ]
    }
   ],
   "source": [
    "print(a)\n",
    "print(a[2])"
   ]
  },
  {
   "cell_type": "markdown",
   "metadata": {
    "colab_type": "text",
    "id": "FuPdCVuzGq3-"
   },
   "source": [
    "Operations on arrays"
   ]
  },
  {
   "cell_type": "code",
   "execution_count": 10,
   "metadata": {
    "colab": {
     "base_uri": "https://localhost:8080/",
     "height": 34
    },
    "colab_type": "code",
    "executionInfo": {
     "elapsed": 868,
     "status": "ok",
     "timestamp": 1564460660578,
     "user": {
      "displayName": "Matta Gopi Raju ee17d021",
      "photoUrl": "https://lh5.googleusercontent.com/-43vJN1jNSG0/AAAAAAAAAAI/AAAAAAAAA6E/daHM0wMqTGo/s64/photo.jpg",
      "userId": "17843365642390785690"
     },
     "user_tz": -330
    },
    "id": "5H8U42dFGt6s",
    "outputId": "fedca9f4-8c69-433f-ed72-4cfaf0d50c43"
   },
   "outputs": [
    {
     "data": {
      "text/plain": [
       "0.6666666666666666"
      ]
     },
     "execution_count": 10,
     "metadata": {},
     "output_type": "execute_result"
    }
   ],
   "source": [
    "np.sum(a)\n",
    "np.mean(a)\n",
    "np.std(a)\n",
    "np.var(a)"
   ]
  },
  {
   "cell_type": "markdown",
   "metadata": {
    "colab_type": "text",
    "id": "om0HjhIyG9E4"
   },
   "source": [
    "Multi-dimensional array"
   ]
  },
  {
   "cell_type": "code",
   "execution_count": 11,
   "metadata": {
    "colab": {
     "base_uri": "https://localhost:8080/",
     "height": 52
    },
    "colab_type": "code",
    "executionInfo": {
     "elapsed": 863,
     "status": "ok",
     "timestamp": 1564461008010,
     "user": {
      "displayName": "Matta Gopi Raju ee17d021",
      "photoUrl": "https://lh5.googleusercontent.com/-43vJN1jNSG0/AAAAAAAAAAI/AAAAAAAAA6E/daHM0wMqTGo/s64/photo.jpg",
      "userId": "17843365642390785690"
     },
     "user_tz": -330
    },
    "id": "_Lv5df2FG_hw",
    "outputId": "2b82b31d-2832-40ea-dfff-ecbf4f40d6a1"
   },
   "outputs": [
    {
     "name": "stdout",
     "output_type": "stream",
     "text": [
      "[[1 2 3]\n",
      " [4 5 6]]\n"
     ]
    }
   ],
   "source": [
    "b=np.array([[1, 2, 3],[4,5,6]])\n",
    "print(b)"
   ]
  },
  {
   "cell_type": "markdown",
   "metadata": {
    "colab_type": "text",
    "id": "UepBfFFJH3oU"
   },
   "source": [
    "Some fundamental arrays"
   ]
  },
  {
   "cell_type": "code",
   "execution_count": 12,
   "metadata": {
    "colab": {
     "base_uri": "https://localhost:8080/",
     "height": 52
    },
    "colab_type": "code",
    "executionInfo": {
     "elapsed": 880,
     "status": "ok",
     "timestamp": 1564460719293,
     "user": {
      "displayName": "Matta Gopi Raju ee17d021",
      "photoUrl": "https://lh5.googleusercontent.com/-43vJN1jNSG0/AAAAAAAAAAI/AAAAAAAAA6E/daHM0wMqTGo/s64/photo.jpg",
      "userId": "17843365642390785690"
     },
     "user_tz": -330
    },
    "id": "-jmOG35xH-EH",
    "outputId": "5366b5e4-ede0-4670-ea1c-30e22269c1c6"
   },
   "outputs": [
    {
     "data": {
      "text/plain": [
       "array([[0.52712297, 0.42142278],\n",
       "       [0.59668026, 0.75930317]])"
      ]
     },
     "execution_count": 12,
     "metadata": {},
     "output_type": "execute_result"
    }
   ],
   "source": [
    "np.zeros((2,2))\n",
    "np.ones((2,2))\n",
    "np.random.random((2,2))"
   ]
  },
  {
   "cell_type": "markdown",
   "metadata": {
    "colab_type": "text",
    "id": "JF2_CJ4KSBkS"
   },
   "source": [
    "## Math"
   ]
  },
  {
   "cell_type": "code",
   "execution_count": 14,
   "metadata": {
    "colab": {
     "base_uri": "https://localhost:8080/",
     "height": 34
    },
    "colab_type": "code",
    "executionInfo": {
     "elapsed": 828,
     "status": "ok",
     "timestamp": 1564463530205,
     "user": {
      "displayName": "Matta Gopi Raju ee17d021",
      "photoUrl": "https://lh5.googleusercontent.com/-43vJN1jNSG0/AAAAAAAAAAI/AAAAAAAAA6E/daHM0wMqTGo/s64/photo.jpg",
      "userId": "17843365642390785690"
     },
     "user_tz": -330
    },
    "id": "krBJn994SDg2",
    "outputId": "f072db8e-a089-4d20-a5f4-8e4105e9d07e"
   },
   "outputs": [
    {
     "name": "stdout",
     "output_type": "stream",
     "text": [
      "2.23606797749979\n"
     ]
    }
   ],
   "source": [
    "import math\n",
    "x = 5\n",
    "y=math.sqrt(x)\n",
    "print(y)"
   ]
  },
  {
   "cell_type": "code",
   "execution_count": 15,
   "metadata": {
    "colab": {
     "base_uri": "https://localhost:8080/",
     "height": 34
    },
    "colab_type": "code",
    "executionInfo": {
     "elapsed": 1071,
     "status": "ok",
     "timestamp": 1564463707221,
     "user": {
      "displayName": "Matta Gopi Raju ee17d021",
      "photoUrl": "https://lh5.googleusercontent.com/-43vJN1jNSG0/AAAAAAAAAAI/AAAAAAAAA6E/daHM0wMqTGo/s64/photo.jpg",
      "userId": "17843365642390785690"
     },
     "user_tz": -330
    },
    "id": "QnVl1Ma2Ssh5",
    "outputId": "132429ea-00c1-4db3-a36d-b558cba15b9a"
   },
   "outputs": [
    {
     "data": {
      "text/plain": [
       "-0.5596522230095522"
      ]
     },
     "execution_count": 15,
     "metadata": {},
     "output_type": "execute_result"
    }
   ],
   "source": [
    "math.log(x)\n",
    "math.pow(x,2)\n",
    "math.pi\n",
    "math.e\n",
    "math.sin(math.degrees(x))    #math.radians()"
   ]
  },
  {
   "cell_type": "markdown",
   "metadata": {
    "colab_type": "text",
    "id": "MbzHJnZKKRPh"
   },
   "source": [
    "## Matplotlib"
   ]
  },
  {
   "cell_type": "code",
   "execution_count": 16,
   "metadata": {
    "colab": {
     "base_uri": "https://localhost:8080/",
     "height": 312
    },
    "colab_type": "code",
    "executionInfo": {
     "elapsed": 930,
     "status": "ok",
     "timestamp": 1564461532798,
     "user": {
      "displayName": "Matta Gopi Raju ee17d021",
      "photoUrl": "https://lh5.googleusercontent.com/-43vJN1jNSG0/AAAAAAAAAAI/AAAAAAAAA6E/daHM0wMqTGo/s64/photo.jpg",
      "userId": "17843365642390785690"
     },
     "user_tz": -330
    },
    "id": "WHBALaikKUP_",
    "outputId": "abe0814a-772a-4aca-c985-0734dd4afbfc"
   },
   "outputs": [
    {
     "data": {
      "text/plain": [
       "Text(0.5, 1.0, 'Plot Title')"
      ]
     },
     "execution_count": 16,
     "metadata": {},
     "output_type": "execute_result"
    },
    {
     "data": {
      "image/png": "[encoded data removed]",
      "text/plain": [
       "<Figure size 432x288 with 1 Axes>"
      ]
     },
     "metadata": {
      "needs_background": "light"
     },
     "output_type": "display_data"
    }
   ],
   "source": [
    "import matplotlib.pyplot as plt\n",
    "%matplotlib inline\n",
    "#for jupyter notebooks to view the figures inline\n",
    "#otherwise use plt.show() after each plotting command\n",
    "import numpy as np\n",
    "x = np.linspace(0, 5, 11)  #creates 5 uniformly spaced points in the interval (0,11)\n",
    "y = x ** 2                          \n",
    "plt.plot(x, y, 'r')           \n",
    "plt.xlabel('X Axis')\n",
    "plt.ylabel('Y Axis')\n",
    "plt.title('Plot Title')\n"
   ]
  },
  {
   "cell_type": "code",
   "execution_count": 17,
   "metadata": {
    "colab": {
     "base_uri": "https://localhost:8080/",
     "height": 269
    },
    "colab_type": "code",
    "executionInfo": {
     "elapsed": 1044,
     "status": "ok",
     "timestamp": 1564461538925,
     "user": {
      "displayName": "Matta Gopi Raju ee17d021",
      "photoUrl": "https://lh5.googleusercontent.com/-43vJN1jNSG0/AAAAAAAAAAI/AAAAAAAAA6E/daHM0wMqTGo/s64/photo.jpg",
      "userId": "17843365642390785690"
     },
     "user_tz": -330
    },
    "id": "LtthhaLlLJGM",
    "outputId": "8cc636a3-10a4-4713-e288-0ad14085294d"
   },
   "outputs": [
    {
     "data": {
      "image/png": "[encoded data removed]",
      "text/plain": [
       "<Figure size 432x288 with 2 Axes>"
      ]
     },
     "metadata": {
      "needs_background": "light"
     },
     "output_type": "display_data"
    }
   ],
   "source": [
    "plt.subplot(1,2,1)\n",
    "plt.plot(x, y, 'r--') \n",
    "plt.subplot(1,2,2)\n",
    "plt.plot(y, x, 'g*-');"
   ]
  },
  {
   "cell_type": "markdown",
   "metadata": {
    "colab_type": "text",
    "id": "K0-VCYO7IGJb"
   },
   "source": [
    "## Scipy"
   ]
  },
  {
   "cell_type": "code",
   "execution_count": 18,
   "metadata": {
    "colab": {},
    "colab_type": "code",
    "id": "s30YTlUtIHxa"
   },
   "outputs": [],
   "source": [
    "from scipy import stats\n",
    "from scipy.stats import uniform\n",
    "from scipy.stats import norm\n",
    "from scipy.stats import expon\n"
   ]
  },
  {
   "cell_type": "code",
   "execution_count": 19,
   "metadata": {
    "colab": {
     "base_uri": "https://localhost:8080/",
     "height": 286
    },
    "colab_type": "code",
    "executionInfo": {
     "elapsed": 915,
     "status": "ok",
     "timestamp": 1564461224119,
     "user": {
      "displayName": "Matta Gopi Raju ee17d021",
      "photoUrl": "https://lh5.googleusercontent.com/-43vJN1jNSG0/AAAAAAAAAAI/AAAAAAAAA6E/daHM0wMqTGo/s64/photo.jpg",
      "userId": "17843365642390785690"
     },
     "user_tz": -330
    },
    "id": "gwgOA0uBIZmk",
    "outputId": "386f9517-ee9d-489f-98be-832e95c01620"
   },
   "outputs": [
    {
     "data": {
      "text/plain": [
       "[<matplotlib.lines.Line2D at 0x20f37256828>]"
      ]
     },
     "execution_count": 19,
     "metadata": {},
     "output_type": "execute_result"
    },
    {
     "data": {
      "image/png": "[encoded data removed]",
      "text/plain": [
       "<Figure size 432x288 with 1 Axes>"
      ]
     },
     "metadata": {
      "needs_background": "light"
     },
     "output_type": "display_data"
    }
   ],
   "source": [
    "import matplotlib.pyplot as plt\n",
    "mu = 0 # mean\n",
    "variance = 2 #variance\n",
    "sigma = np.sqrt(variance) #standard deviation\\n\",\n",
    "x = np.linspace(mu-3*variance,mu+3*variance, 100)\n",
    "plt.plot(x, norm.pdf(x, mu, sigma))"
   ]
  },
  {
   "cell_type": "markdown",
   "metadata": {
    "colab_type": "text",
    "id": "VnHX9VJ5LSlA"
   },
   "source": [
    "## Pandas"
   ]
  },
  {
   "cell_type": "code",
   "execution_count": 20,
   "metadata": {
    "colab": {},
    "colab_type": "code",
    "id": "7ePgsQzLImuE"
   },
   "outputs": [],
   "source": [
    "import pandas as pd\n",
    "%matplotlib inline\n"
   ]
  },
  {
   "cell_type": "code",
   "execution_count": 21,
   "metadata": {
    "colab": {
     "base_uri": "https://localhost:8080/",
     "height": 83,
     "resources": {
      "http://localhost:8080/nbextensions/google.colab/files.js": {
       "data": "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",
       "headers": [
        [
         "content-type",
         "application/javascript"
        ]
       ],
       "ok": true,
       "status": 200,
       "status_text": "OK"
      }
     }
    },
    "colab_type": "code",
    "executionInfo": {
     "elapsed": 9077,
     "status": "ok",
     "timestamp": 1564462023501,
     "user": {
      "displayName": "Matta Gopi Raju ee17d021",
      "photoUrl": "https://lh5.googleusercontent.com/-43vJN1jNSG0/AAAAAAAAAAI/AAAAAAAAA6E/daHM0wMqTGo/s64/photo.jpg",
      "userId": "17843365642390785690"
     },
     "user_tz": -330
    },
    "id": "NWuI74lnLbqU",
    "outputId": "1dc37828-e447-4c12-e109-ec7c9c7fe4f1"
   },
   "outputs": [
    {
     "ename": "ModuleNotFoundError",
     "evalue": "No module named 'google'",
     "output_type": "error",
     "traceback": [
      "\u001b[1;31m---------------------------------------------------------------------------\u001b[0m",
      "\u001b[1;31mModuleNotFoundError\u001b[0m                       Traceback (most recent call last)",
      "\u001b[1;32m<ipython-input-21-21dc3c638f66>\u001b[0m in \u001b[0;36m<module>\u001b[1;34m\u001b[0m\n\u001b[1;32m----> 1\u001b[1;33m \u001b[1;32mfrom\u001b[0m \u001b[0mgoogle\u001b[0m\u001b[1;33m.\u001b[0m\u001b[0mcolab\u001b[0m \u001b[1;32mimport\u001b[0m \u001b[0mfiles\u001b[0m\u001b[1;33m\u001b[0m\u001b[1;33m\u001b[0m\u001b[0m\n\u001b[0m\u001b[0;32m      2\u001b[0m \u001b[0muploaded\u001b[0m \u001b[1;33m=\u001b[0m \u001b[0mfiles\u001b[0m\u001b[1;33m.\u001b[0m\u001b[0mupload\u001b[0m\u001b[1;33m(\u001b[0m\u001b[1;33m)\u001b[0m\u001b[1;33m\u001b[0m\u001b[1;33m\u001b[0m\u001b[0m\n",
      "\u001b[1;31mModuleNotFoundError\u001b[0m: No module named 'google'"
     ]
    }
   ],
   "source": [
    "from google.colab import files\n",
    "uploaded = files.upload()"
   ]
  },
  {
   "cell_type": "code",
   "execution_count": null,
   "metadata": {
    "colab": {},
    "colab_type": "code",
    "id": "1sTfVg1XM99f"
   },
   "outputs": [],
   "source": [
    "import io\n",
    "df2 = pd.read_csv(io.BytesIO(uploaded['data.csv']))"
   ]
  },
  {
   "cell_type": "code",
   "execution_count": null,
   "metadata": {
    "colab": {
     "base_uri": "https://localhost:8080/",
     "height": 139
    },
    "colab_type": "code",
    "executionInfo": {
     "elapsed": 835,
     "status": "ok",
     "timestamp": 1564462300308,
     "user": {
      "displayName": "Matta Gopi Raju ee17d021",
      "photoUrl": "https://lh5.googleusercontent.com/-43vJN1jNSG0/AAAAAAAAAAI/AAAAAAAAA6E/daHM0wMqTGo/s64/photo.jpg",
      "userId": "17843365642390785690"
     },
     "user_tz": -330
    },
    "id": "Ld3HpoSqNHvN",
    "outputId": "cd943515-30cd-4e77-c607-a9aa1fe7a3d5"
   },
   "outputs": [],
   "source": [
    "print(df2)"
   ]
  },
  {
   "cell_type": "code",
   "execution_count": 25,
   "metadata": {
    "colab": {},
    "colab_type": "code",
    "id": "8J2PV2SaRAS6"
   },
   "outputs": [],
   "source": [
    "data = {'Company':['GOOG','GOOG','MSFT','MSFT','FB','FB'],\n",
    "       'Person':['Sam','Charlie','Amy','Vanessa','Carl','Sarah'],\n",
    "       'Sales':[200,120,340,124,243,350]}\n",
    "df = pd.DataFrame(data) "
   ]
  },
  {
   "cell_type": "code",
   "execution_count": null,
   "metadata": {
    "colab": {},
    "colab_type": "code",
    "id": "_cu8swzrRUuH"
   },
   "outputs": [],
   "source": [
    "df.to_csv('data',index=False)"
   ]
  },
  {
   "cell_type": "code",
   "execution_count": 26,
   "metadata": {
    "colab": {
     "base_uri": "https://localhost:8080/",
     "height": 139
    },
    "colab_type": "code",
    "executionInfo": {
     "elapsed": 891,
     "status": "ok",
     "timestamp": 1564463086782,
     "user": {
      "displayName": "Matta Gopi Raju ee17d021",
      "photoUrl": "https://lh5.googleusercontent.com/-43vJN1jNSG0/AAAAAAAAAAI/AAAAAAAAA6E/daHM0wMqTGo/s64/photo.jpg",
      "userId": "17843365642390785690"
     },
     "user_tz": -330
    },
    "id": "wMiSPlvJRCr7",
    "outputId": "97deeb3c-ca37-4d80-cdc3-8c5a84c55fa5"
   },
   "outputs": [
    {
     "name": "stdout",
     "output_type": "stream",
     "text": [
      "  Company   Person  Sales\n",
      "0    GOOG      Sam    200\n",
      "1    GOOG  Charlie    120\n",
      "2    MSFT      Amy    340\n",
      "3    MSFT  Vanessa    124\n",
      "4      FB     Carl    243\n",
      "5      FB    Sarah    350\n"
     ]
    }
   ],
   "source": [
    "print(df)"
   ]
  },
  {
   "cell_type": "code",
   "execution_count": null,
   "metadata": {
    "colab": {
     "base_uri": "https://localhost:8080/",
     "height": 206
    },
    "colab_type": "code",
    "executionInfo": {
     "elapsed": 858,
     "status": "ok",
     "timestamp": 1564462438326,
     "user": {
      "displayName": "Matta Gopi Raju ee17d021",
      "photoUrl": "https://lh5.googleusercontent.com/-43vJN1jNSG0/AAAAAAAAAAI/AAAAAAAAA6E/daHM0wMqTGo/s64/photo.jpg",
      "userId": "17843365642390785690"
     },
     "user_tz": -330
    },
    "id": "RKhv6N-UNKyN",
    "outputId": "112f3d40-b82e-4918-ab93-456bfa24590f"
   },
   "outputs": [],
   "source": [
    "df2.head()   "
   ]
  },
  {
   "cell_type": "code",
   "execution_count": null,
   "metadata": {
    "colab": {
     "base_uri": "https://localhost:8080/",
     "height": 282
    },
    "colab_type": "code",
    "executionInfo": {
     "elapsed": 920,
     "status": "ok",
     "timestamp": 1564462467277,
     "user": {
      "displayName": "Matta Gopi Raju ee17d021",
      "photoUrl": "https://lh5.googleusercontent.com/-43vJN1jNSG0/AAAAAAAAAAI/AAAAAAAAA6E/daHM0wMqTGo/s64/photo.jpg",
      "userId": "17843365642390785690"
     },
     "user_tz": -330
    },
    "id": "awp6lFhLOlPZ",
    "outputId": "f30d0005-1262-4757-b68f-56d4603da372"
   },
   "outputs": [],
   "source": [
    "df2.plot.bar()  "
   ]
  },
  {
   "cell_type": "code",
   "execution_count": null,
   "metadata": {
    "colab": {
     "base_uri": "https://localhost:8080/",
     "height": 286
    },
    "colab_type": "code",
    "executionInfo": {
     "elapsed": 888,
     "status": "ok",
     "timestamp": 1564462562042,
     "user": {
      "displayName": "Matta Gopi Raju ee17d021",
      "photoUrl": "https://lh5.googleusercontent.com/-43vJN1jNSG0/AAAAAAAAAAI/AAAAAAAAA6E/daHM0wMqTGo/s64/photo.jpg",
      "userId": "17843365642390785690"
     },
     "user_tz": -330
    },
    "id": "Mr4HcLmWOsSs",
    "outputId": "2ca89fa9-59db-4f3a-94c9-ef247a8fb6e5"
   },
   "outputs": [],
   "source": [
    "df2['Salary'].plot.hist(bins=5)"
   ]
  },
  {
   "cell_type": "code",
   "execution_count": null,
   "metadata": {
    "colab": {
     "base_uri": "https://localhost:8080/",
     "height": 300
    },
    "colab_type": "code",
    "executionInfo": {
     "elapsed": 915,
     "status": "ok",
     "timestamp": 1564462643134,
     "user": {
      "displayName": "Matta Gopi Raju ee17d021",
      "photoUrl": "https://lh5.googleusercontent.com/-43vJN1jNSG0/AAAAAAAAAAI/AAAAAAAAA6E/daHM0wMqTGo/s64/photo.jpg",
      "userId": "17843365642390785690"
     },
     "user_tz": -330
    },
    "id": "No_mzQ3IO_3T",
    "outputId": "bb490e4f-9d29-4a07-88ec-cba54fadfad0"
   },
   "outputs": [],
   "source": [
    "df2.plot.scatter(x='Salary',y='Sick Days remaining')"
   ]
  },
  {
   "cell_type": "markdown",
   "metadata": {
    "colab_type": "text",
    "id": "I6fS5wsePtyb"
   },
   "source": [
    "## Scikit Learn"
   ]
  },
  {
   "cell_type": "markdown",
   "metadata": {
    "colab_type": "text",
    "id": "6tFix9t22m_U"
   },
   "source": [
    "http://scikit-learn.org/stable/_downloads/scikit-learn-docs.pdf \n"
   ]
  },
  {
   "cell_type": "code",
   "execution_count": 22,
   "metadata": {
    "colab": {},
    "colab_type": "code",
    "id": "Im5QpwiqPvWt"
   },
   "outputs": [],
   "source": [
    "from sklearn import datasets\n",
    "X= datasets.load_iris()\n",
    "X= datasets.load_boston()    # boston house-price dataset\n",
    "X= datasets.load_diabetes()  \n",
    "X= datasets.load_wine()  \n",
    "X= datasets.load_breast_cancer()   \n"
   ]
  },
  {
   "cell_type": "markdown",
   "metadata": {
    "colab_type": "text",
    "id": "Ubhs5AaMQF1u"
   },
   "source": [
    "## Reference"
   ]
  },
  {
   "cell_type": "markdown",
   "metadata": {
    "colab_type": "text",
    "id": "KFGFbaLNQJGj"
   },
   "source": [
    "Python Cookbook by Alex Martelli, Anna Martelli Ravenscroft, and David Asche"
   ]
  },
  {
   "cell_type": "code",
   "execution_count": null,
   "metadata": {
    "colab": {},
    "colab_type": "code",
    "id": "US8aRGWCQJ3D"
   },
   "outputs": [],
   "source": []
  }
 ],
 "metadata": {
  "colab": {
   "name": "python_basics_EE4708.ipynb",
   "provenance": [],
   "version": "0.3.2"
  },
  "kernelspec": {
   "display_name": "Python 3",
   "language": "python",
   "name": "python3"
  },
  "language_info": {
   "codemirror_mode": {
    "name": "ipython",
    "version": 3
   },
   "file_extension": ".py",
   "mimetype": "text/x-python",
   "name": "python",
   "nbconvert_exporter": "python",
   "pygments_lexer": "ipython3",
   "version": "3.7.0"
  }
 },
 "nbformat": 4,
 "nbformat_minor": 1
}
