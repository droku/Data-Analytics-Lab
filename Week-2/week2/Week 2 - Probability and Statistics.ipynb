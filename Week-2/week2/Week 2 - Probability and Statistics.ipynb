{
 "cells": [
  {
   "cell_type": "markdown",
   "metadata": {},
   "source": [
    "### Basic moments of one-dimensional data"
   ]
  },
  {
   "cell_type": "raw",
   "metadata": {},
   "source": [
    "Implement functions to compute median, mode, sample mean, sample variance, standard deviation of one-dimensional data \"without using numpy\"\n",
    "\n",
    "Example :\n",
    "data1 = np.array([1,2,3,4,5])\n",
    "data1_median = median(data1)\n",
    "data1_mode = mode(data1)\n",
    "data1_mean = mean(data1)\n",
    "data1_variance = variance(data1)\n",
    "data1_stddev = stddev(data1)"
   ]
  },
  {
   "cell_type": "code",
   "execution_count": 61,
   "metadata": {},
   "outputs": [],
   "source": [
    "import numpy as np\n",
    "import matplotlib.pyplot as plt\n",
    "import pandas as pd\n",
    "from scipy.stats import kurtosis"
   ]
  },
  {
   "cell_type": "code",
   "execution_count": 3,
   "metadata": {
    "scrolled": true
   },
   "outputs": [
    {
     "name": "stdout",
     "output_type": "stream",
     "text": [
      "3.5\n",
      "3.5\n",
      "no mode\n",
      "2.9166666666666665\n",
      "1.707825127659933\n"
     ]
    }
   ],
   "source": [
    "data1 = np.array([1,2,3,4,5,6])\n",
    "from scipy import stats\n",
    "def mean(data):\n",
    "    return sum(data)/len(data)\n",
    "\n",
    "def median(data):\n",
    "    data.sort()\n",
    "    n = len(data)\n",
    "    if n%2 == 1:\n",
    "        index = int((n-1)/2)\n",
    "        return data[index]\n",
    "    else:\n",
    "        index = int(n/2)\n",
    "        return float(data[index] + data[index -1])/2\n",
    "def mode(data):\n",
    "    max_num = 0\n",
    "    data = list(data)\n",
    "    for i in data:\n",
    "        if data.count(i) > max_num:\n",
    "            max_num = data.count(i)\n",
    "            mode_val = i\n",
    "    if max_num == 1:\n",
    "        return \"no mode\"\n",
    "    return mode_val\n",
    "\n",
    "def variance(data):\n",
    "    u = mean(data)\n",
    "    return float(((data - u)**2).sum())/len(data)\n",
    "def stddev(data):\n",
    "    var = variance(data)\n",
    "    return np.sqrt(var)\n",
    "    \n",
    "\n",
    "print(mean(data1))\n",
    "print(median(data1))\n",
    "print(mode(data1))\n",
    "print(variance(data1))\n",
    "print(stddev(data1))"
   ]
  },
  {
   "cell_type": "raw",
   "metadata": {},
   "source": [
    "Compute the above for different one-dimensional datasets - data1.txt, data2.txt, data3.txt, data4.txt and store as data1_median, data2_median etc. "
   ]
  },
  {
   "cell_type": "code",
   "execution_count": 5,
   "metadata": {},
   "outputs": [],
   "source": [
    "data1 = np.loadtxt(\"data1.txt\")\n",
    "data1_mean = mean(data1)\n",
    "data1_median = median(data1)\n",
    "data1_mode = mode(data1)\n",
    "data1_var = variance(data1)\n",
    "data1_std = stddev(data1)\n",
    "\n",
    "data2 = np.loadtxt(\"data2.txt\")\n",
    "data2_mean = mean(data2)\n",
    "data2_median = median(data2)\n",
    "data2_mode = mode(data2)\n",
    "data2_var = variance(data2)\n",
    "data2_std = stddev(data2)\n",
    "\n",
    "data3 = np.loadtxt(\"data3.txt\")\n",
    "data3_mean = mean(data3)\n",
    "data3_median = median(data3)\n",
    "data3_mode = mode(data3)\n",
    "data3_variance = variance(data3)\n",
    "data3_stddev = stddev(data3)\n",
    "\n",
    "data4 = np.loadtxt(\"data4.txt\")\n",
    "data4_mean = mean(data4)\n",
    "data4_median = median(data4)\n",
    "data4_mode = mode(data4)"
   ]
  },
  {
   "cell_type": "raw",
   "metadata": {},
   "source": [
    "Visualize all the datasets (1-4) separately using matplotlib scatter plot and histograms. \n",
    "\n",
    "1. Comment on initial observations of distributions. \n",
    "\n",
    "2. For each dataset, specify which descriptive statistics best describe the data.\n",
    "\n",
    "Example :\n",
    "data1 - mean\n",
    "data2 - mean\n",
    "data3 - mean\n",
    "data4 - mean"
   ]
  },
  {
   "cell_type": "code",
   "execution_count": 6,
   "metadata": {},
   "outputs": [
    {
     "data": {
      "text/plain": [
       "<matplotlib.collections.PathCollection at 0x216b2ddef60>"
      ]
     },
     "execution_count": 6,
     "metadata": {},
     "output_type": "execute_result"
    },
    {
     "data": {
      "image/png": "[encoded data removed]",
      "text/plain": [
       "<Figure size 432x288 with 1 Axes>"
      ]
     },
     "metadata": {
      "needs_background": "light"
     },
     "output_type": "display_data"
    }
   ],
   "source": [
    "plt.scatter((data1 - np.mean(data1))/(np.std(data1)/(np.sqrt(len(data1)))), [0]*data1.shape[0])"
   ]
  },
  {
   "cell_type": "code",
   "execution_count": 7,
   "metadata": {},
   "outputs": [
    {
     "data": {
      "text/plain": [
       "(array([  4.,  22.,  96., 228., 272., 226., 104.,  38.,   9.,   1.]),\n",
       " array([-105.350409 ,  -82.4296025,  -59.508796 ,  -36.5879895,\n",
       "         -13.667183 ,    9.2536235,   32.17443  ,   55.0952365,\n",
       "          78.016043 ,  100.9368495,  123.857656 ]),\n",
       " <a list of 10 Patch objects>)"
      ]
     },
     "execution_count": 7,
     "metadata": {},
     "output_type": "execute_result"
    },
    {
     "data": {
      "image/png": "[encoded data removed]",
      "text/plain": [
       "<Figure size 432x288 with 1 Axes>"
      ]
     },
     "metadata": {
      "needs_background": "light"
     },
     "output_type": "display_data"
    }
   ],
   "source": [
    "plt.hist((data1 - np.mean(data1))/(np.std(data1)/(np.sqrt(len(data1)))))"
   ]
  },
  {
   "cell_type": "markdown",
   "metadata": {},
   "source": [
    "- The data looks like a gaussian distribution bell curve and symmetrically distributed.\n",
    "- Data1 - mean, median, standard deviation- as there minimum outliers, they describe the central tendency and the spread of the data"
   ]
  },
  {
   "cell_type": "code",
   "execution_count": 17,
   "metadata": {
    "scrolled": true
   },
   "outputs": [
    {
     "data": {
      "text/plain": [
       "<matplotlib.collections.PathCollection at 0x211c1f6f588>"
      ]
     },
     "execution_count": 17,
     "metadata": {},
     "output_type": "execute_result"
    },
    {
     "data": {
      "image/png": "[encoded data removed]",
      "text/plain": [
       "<Figure size 432x288 with 1 Axes>"
      ]
     },
     "metadata": {
      "needs_background": "light"
     },
     "output_type": "display_data"
    }
   ],
   "source": [
    "plt.scatter(data2, [0]*data2.shape[0])"
   ]
  },
  {
   "cell_type": "code",
   "execution_count": 8,
   "metadata": {},
   "outputs": [
    {
     "data": {
      "text/plain": [
       "(array([107.,  99.,  91.,  87., 101., 100., 114., 102., 106.,  93.]),\n",
       " array([0.00321826, 0.10283781, 0.20245736, 0.3020769 , 0.40169645,\n",
       "        0.50131599, 0.60093554, 0.70055509, 0.80017463, 0.89979418,\n",
       "        0.99941373]),\n",
       " <a list of 10 Patch objects>)"
      ]
     },
     "execution_count": 8,
     "metadata": {},
     "output_type": "execute_result"
    },
    {
     "data": {
      "image/png": "[encoded data removed]",
      "text/plain": [
       "<Figure size 432x288 with 1 Axes>"
      ]
     },
     "metadata": {
      "needs_background": "light"
     },
     "output_type": "display_data"
    }
   ],
   "source": [
    "plt.hist(data2)"
   ]
  },
  {
   "cell_type": "markdown",
   "metadata": {},
   "source": [
    " - THe distribution approximately looks like a uniform distribution based on the frequency of the distribtion.\n",
    " - Data2 - Range - As they are uniformly distributed mean, median, mode and std doesnt play much role in describing the data."
   ]
  },
  {
   "cell_type": "code",
   "execution_count": 10,
   "metadata": {
    "scrolled": false
   },
   "outputs": [
    {
     "data": {
      "text/plain": [
       "<matplotlib.collections.PathCollection at 0x216b2fbac88>"
      ]
     },
     "execution_count": 10,
     "metadata": {},
     "output_type": "execute_result"
    },
    {
     "data": {
      "image/png": "[encoded data removed]",
      "text/plain": [
       "<Figure size 432x288 with 1 Axes>"
      ]
     },
     "metadata": {
      "needs_background": "light"
     },
     "output_type": "display_data"
    }
   ],
   "source": [
    "plt.scatter(data3, [0]*data3.shape[0])"
   ]
  },
  {
   "cell_type": "code",
   "execution_count": 11,
   "metadata": {
    "scrolled": true
   },
   "outputs": [
    {
     "data": {
      "text/plain": [
       "(array([  3.,   1.,   0.,   1.,  97., 492., 411.,   1.,   2.,   2.]),\n",
       " array([-2.44972169, -1.94398661, -1.43825153, -0.93251645, -0.42678137,\n",
       "         0.0789537 ,  0.58468878,  1.09042386,  1.59615894,  2.10189401,\n",
       "         2.60762909]),\n",
       " <a list of 10 Patch objects>)"
      ]
     },
     "execution_count": 11,
     "metadata": {},
     "output_type": "execute_result"
    },
    {
     "data": {
      "image/png": "[encoded data removed]",
      "text/plain": [
       "<Figure size 432x288 with 1 Axes>"
      ]
     },
     "metadata": {
      "needs_background": "light"
     },
     "output_type": "display_data"
    }
   ],
   "source": [
    "plt.hist(data3)"
   ]
  },
  {
   "cell_type": "markdown",
   "metadata": {},
   "source": [
    "- Data is discretely distributed and some of the values are more freuqent and the data contain outliers.\n",
    "- Data3 - Mode, std, Frequency - Mode and frequency the most occurence of some range of values and standard deviation to describe the spread of the data. Mean and median cannot be used because of the outliers."
   ]
  },
  {
   "cell_type": "code",
   "execution_count": 13,
   "metadata": {
    "scrolled": true
   },
   "outputs": [
    {
     "data": {
      "text/plain": [
       "<matplotlib.collections.PathCollection at 0x216b4189630>"
      ]
     },
     "execution_count": 13,
     "metadata": {},
     "output_type": "execute_result"
    },
    {
     "data": {
      "image/png": "[encoded data removed]",
      "text/plain": [
       "<Figure size 432x288 with 1 Axes>"
      ]
     },
     "metadata": {
      "needs_background": "light"
     },
     "output_type": "display_data"
    }
   ],
   "source": [
    "plt.scatter(data4, [0]*data4.shape[0])"
   ]
  },
  {
   "cell_type": "code",
   "execution_count": 14,
   "metadata": {},
   "outputs": [
    {
     "data": {
      "text/plain": [
       "(array([ 12., 100., 314., 379., 271., 377., 384., 139.,  21.,   3.]),\n",
       " array([-9.67900036, -7.6005903 , -5.52218024, -3.44377018, -1.36536012,\n",
       "         0.71304994,  2.79146   ,  4.86987006,  6.94828012,  9.02669018,\n",
       "        11.10510024]),\n",
       " <a list of 10 Patch objects>)"
      ]
     },
     "execution_count": 14,
     "metadata": {},
     "output_type": "execute_result"
    },
    {
     "data": {
      "image/png": "[encoded data removed]",
      "text/plain": [
       "<Figure size 432x288 with 1 Axes>"
      ]
     },
     "metadata": {
      "needs_background": "light"
     },
     "output_type": "display_data"
    }
   ],
   "source": [
    "plt.hist(data4)"
   ]
  },
  {
   "cell_type": "markdown",
   "metadata": {},
   "source": [
    "- The data looks like addition of two gaussian distribution, mean cannot be use to describe the the data\n",
    "- Data4 - Mode, standard deviation - mode gives the mean of each of the gaussian distribution"
   ]
  },
  {
   "cell_type": "raw",
   "metadata": {},
   "source": [
    "Estimate density distribution of both datasets and answer the following questions :\n",
    "1. What is the distribution of data1 and data2?\n",
    "\n",
    "2. What are the parameters of the distribution using MLE?"
   ]
  },
  {
   "cell_type": "markdown",
   "metadata": {},
   "source": [
    "- Based on histogram plots of the two data\n",
    "- data1 = \"gaussian\"\n",
    "- data2 = \"uniform\"\n",
    "\n",
    "- The mle estimation of  parameters(population mean and variance) of the distribution is the sample mean and sample variance.\n",
    "- For a uniform distribution the derivative of the log-likelihood function is n/(b-a) (n is the length of the data) the values of a and b which maximize the log likelihood values are the max and min value of the data."
   ]
  },
  {
   "cell_type": "raw",
   "metadata": {},
   "source": [
    "Assuming that data1 has been sampled from normal distribution with unknown mean and standard deviation of 2, calculate 95% confidence interval of data1_mean "
   ]
  },
  {
   "cell_type": "code",
   "execution_count": 81,
   "metadata": {},
   "outputs": [
    {
     "name": "stdout",
     "output_type": "stream",
     "text": [
      "confidence interval\n",
      "(-0.0826600460248354, 0.15998826931413734)\n"
     ]
    }
   ],
   "source": [
    "z = 1.96\n",
    "a = data1_mean - 1.96*(data1_std/np.sqrt(len(data1)))\n",
    "b = data1_mean + 1.96*(data1_std/np.sqrt(len(data1)))\n",
    "print(\"confidence interval\")\n",
    "print(a, b)"
   ]
  },
  {
   "cell_type": "markdown",
   "metadata": {},
   "source": [
    "### Exercise"
   ]
  },
  {
   "cell_type": "raw",
   "metadata": {},
   "source": [
    "Is the dataset data5.txt from a guassian distribution?"
   ]
  },
  {
   "cell_type": "code",
   "execution_count": 32,
   "metadata": {},
   "outputs": [],
   "source": [
    "data5 = np.loadtxt(\"data5.txt\")"
   ]
  },
  {
   "cell_type": "code",
   "execution_count": 59,
   "metadata": {},
   "outputs": [
    {
     "name": "stdout",
     "output_type": "stream",
     "text": [
      "1.1713210125002258\n",
      "1356.536913558292\n"
     ]
    }
   ],
   "source": [
    "print(np.mean(data5))\n",
    "print(np.std(data5))"
   ]
  },
  {
   "cell_type": "code",
   "execution_count": 58,
   "metadata": {
    "scrolled": true
   },
   "outputs": [
    {
     "data": {
      "text/plain": [
       "(array([  169.,   171.,   144.,   164.,   193.,   190.,   192.,   201.,\n",
       "          194.,   202.,   209.,   205.,   203.,   203.,   224.,   224.,\n",
       "          227.,   228.,   238.,   259.,   243.,   250.,   281.,   280.,\n",
       "          255.,   269.,   279.,   308.,   286.,   343.,   336.,   342.,\n",
       "          352.,   362.,   351.,   390.,   411.,   407.,   423.,   396.,\n",
       "          439.,   466.,   489.,   506.,   538.,   544.,   550.,   582.,\n",
       "          611.,   635.,   629.,   644.,   726.,   723.,   723.,   782.,\n",
       "          783.,   813.,   920.,   977.,   980.,  1083.,  1191.,  1157.,\n",
       "         1252.,  1412.,  1395.,  1470.,  1582.,  1685.,  1838.,  1986.,\n",
       "         2017.,  2197.,  2321.,  2576.,  2697.,  3045.,  3215.,  3638.,\n",
       "         3905.,  4268.,  4769.,  5398.,  6144.,  6662.,  7601.,  8734.,\n",
       "        10133., 11785., 13969., 16050., 19742., 23924., 28896., 35107.,\n",
       "        42787., 51112., 58052., 62664., 62647., 58314., 50691., 42757.,\n",
       "        35278., 28928., 23635., 19745., 16522., 13693., 11947., 10136.,\n",
       "         8759.,  7570.,  6749.,  5963.,  5299.,  4773.,  4273.,  3866.,\n",
       "         3552.,  3182.,  3017.,  2752.,  2542.,  2401.,  2208.,  2059.,\n",
       "         1908.,  1778.,  1726.,  1557.,  1421.,  1370.,  1279.,  1291.,\n",
       "         1161.,  1072.,  1042.,  1055.,   974.,   906.,   901.,   837.,\n",
       "          865.,   741.,   724.,   660.,   643.,   664.,   643.,   573.,\n",
       "          588.,   574.,   584.,   555.,   474.,   468.,   460.,   449.,\n",
       "          403.,   421.,   406.,   393.,   400.,   395.,   356.,   354.,\n",
       "          335.,   330.,   321.,   305.,   296.,   271.,   307.,   287.,\n",
       "          273.,   251.,   261.,   254.,   260.,   241.,   247.,   253.,\n",
       "          203.,   197.,   220.,   200.,   226.,   209.,   176.,   208.,\n",
       "          191.,   201.,   202.,   177.,   170.,   176.,   150.,   142.]),\n",
       " array([-20. , -19.8, -19.6, -19.4, -19.2, -19. , -18.8, -18.6, -18.4,\n",
       "        -18.2, -18. , -17.8, -17.6, -17.4, -17.2, -17. , -16.8, -16.6,\n",
       "        -16.4, -16.2, -16. , -15.8, -15.6, -15.4, -15.2, -15. , -14.8,\n",
       "        -14.6, -14.4, -14.2, -14. , -13.8, -13.6, -13.4, -13.2, -13. ,\n",
       "        -12.8, -12.6, -12.4, -12.2, -12. , -11.8, -11.6, -11.4, -11.2,\n",
       "        -11. , -10.8, -10.6, -10.4, -10.2, -10. ,  -9.8,  -9.6,  -9.4,\n",
       "         -9.2,  -9. ,  -8.8,  -8.6,  -8.4,  -8.2,  -8. ,  -7.8,  -7.6,\n",
       "         -7.4,  -7.2,  -7. ,  -6.8,  -6.6,  -6.4,  -6.2,  -6. ,  -5.8,\n",
       "         -5.6,  -5.4,  -5.2,  -5. ,  -4.8,  -4.6,  -4.4,  -4.2,  -4. ,\n",
       "         -3.8,  -3.6,  -3.4,  -3.2,  -3. ,  -2.8,  -2.6,  -2.4,  -2.2,\n",
       "         -2. ,  -1.8,  -1.6,  -1.4,  -1.2,  -1. ,  -0.8,  -0.6,  -0.4,\n",
       "         -0.2,   0. ,   0.2,   0.4,   0.6,   0.8,   1. ,   1.2,   1.4,\n",
       "          1.6,   1.8,   2. ,   2.2,   2.4,   2.6,   2.8,   3. ,   3.2,\n",
       "          3.4,   3.6,   3.8,   4. ,   4.2,   4.4,   4.6,   4.8,   5. ,\n",
       "          5.2,   5.4,   5.6,   5.8,   6. ,   6.2,   6.4,   6.6,   6.8,\n",
       "          7. ,   7.2,   7.4,   7.6,   7.8,   8. ,   8.2,   8.4,   8.6,\n",
       "          8.8,   9. ,   9.2,   9.4,   9.6,   9.8,  10. ,  10.2,  10.4,\n",
       "         10.6,  10.8,  11. ,  11.2,  11.4,  11.6,  11.8,  12. ,  12.2,\n",
       "         12.4,  12.6,  12.8,  13. ,  13.2,  13.4,  13.6,  13.8,  14. ,\n",
       "         14.2,  14.4,  14.6,  14.8,  15. ,  15.2,  15.4,  15.6,  15.8,\n",
       "         16. ,  16.2,  16.4,  16.6,  16.8,  17. ,  17.2,  17.4,  17.6,\n",
       "         17.8,  18. ,  18.2,  18.4,  18.6,  18.8,  19. ,  19.2,  19.4,\n",
       "         19.6,  19.8,  20. ]),\n",
       " <a list of 200 Patch objects>)"
      ]
     },
     "execution_count": 58,
     "metadata": {},
     "output_type": "execute_result"
    },
    {
     "data": {
      "image/png": "[encoded data removed]",
      "text/plain": [
       "<Figure size 432x288 with 1 Axes>"
      ]
     },
     "metadata": {
      "needs_background": "light"
     },
     "output_type": "display_data"
    }
   ],
   "source": [
    "plt.hist(data5, bins = 200, range = [-20,20])"
   ]
  },
  {
   "cell_type": "markdown",
   "metadata": {},
   "source": [
    "Based on the plot of the array we can say that it looks a  gaussian distribution."
   ]
  },
  {
   "cell_type": "markdown",
   "metadata": {},
   "source": [
    "### Feature visualisation and selection"
   ]
  },
  {
   "cell_type": "raw",
   "metadata": {},
   "source": [
    "Load the twodimdata.csv file. Comment on the following :\n",
    "1. Are the features independent, why?\n",
    "2. Can a feature be removed?"
   ]
  },
  {
   "cell_type": "code",
   "execution_count": 16,
   "metadata": {},
   "outputs": [],
   "source": [
    "data = pd.read_csv(\"twodimdata.csv\")"
   ]
  },
  {
   "cell_type": "code",
   "execution_count": 17,
   "metadata": {},
   "outputs": [
    {
     "data": {
      "text/html": [
       "<div>\n",
       "<style scoped>\n",
       "    .dataframe tbody tr th:only-of-type {\n",
       "        vertical-align: middle;\n",
       "    }\n",
       "\n",
       "    .dataframe tbody tr th {\n",
       "        vertical-align: top;\n",
       "    }\n",
       "\n",
       "    .dataframe thead th {\n",
       "        text-align: right;\n",
       "    }\n",
       "</style>\n",
       "<table border=\"1\" class=\"dataframe\">\n",
       "  <thead>\n",
       "    <tr style=\"text-align: right;\">\n",
       "      <th></th>\n",
       "      <th>x1</th>\n",
       "      <th>x2</th>\n",
       "    </tr>\n",
       "  </thead>\n",
       "  <tbody>\n",
       "    <tr>\n",
       "      <th>0</th>\n",
       "      <td>-1.686800</td>\n",
       "      <td>0.001299</td>\n",
       "    </tr>\n",
       "    <tr>\n",
       "      <th>1</th>\n",
       "      <td>-0.715651</td>\n",
       "      <td>0.000235</td>\n",
       "    </tr>\n",
       "    <tr>\n",
       "      <th>2</th>\n",
       "      <td>-0.695645</td>\n",
       "      <td>-0.000706</td>\n",
       "    </tr>\n",
       "    <tr>\n",
       "      <th>3</th>\n",
       "      <td>-0.233415</td>\n",
       "      <td>-0.001146</td>\n",
       "    </tr>\n",
       "    <tr>\n",
       "      <th>4</th>\n",
       "      <td>-0.014929</td>\n",
       "      <td>0.002093</td>\n",
       "    </tr>\n",
       "  </tbody>\n",
       "</table>\n",
       "</div>"
      ],
      "text/plain": [
       "         x1        x2\n",
       "0 -1.686800  0.001299\n",
       "1 -0.715651  0.000235\n",
       "2 -0.695645 -0.000706\n",
       "3 -0.233415 -0.001146\n",
       "4 -0.014929  0.002093"
      ]
     },
     "execution_count": 17,
     "metadata": {},
     "output_type": "execute_result"
    }
   ],
   "source": [
    "data.head()"
   ]
  },
  {
   "cell_type": "code",
   "execution_count": 18,
   "metadata": {},
   "outputs": [
    {
     "data": {
      "text/plain": [
       "(array([   7.,   77.,  521., 1635., 2850., 2858., 1505.,  468.,   74.,\n",
       "           5.]),\n",
       " array([-7.85644179, -6.27176782, -4.68709384, -3.10241987, -1.51774589,\n",
       "         0.06692808,  1.65160206,  3.23627603,  4.82095001,  6.40562398,\n",
       "         7.99029796]),\n",
       " <a list of 10 Patch objects>)"
      ]
     },
     "execution_count": 18,
     "metadata": {},
     "output_type": "execute_result"
    },
    {
     "data": {
      "image/png": "[encoded data removed]",
      "text/plain": [
       "<Figure size 432x288 with 1 Axes>"
      ]
     },
     "metadata": {
      "needs_background": "light"
     },
     "output_type": "display_data"
    }
   ],
   "source": [
    "plt.hist(data.iloc[:,0])"
   ]
  },
  {
   "cell_type": "code",
   "execution_count": 24,
   "metadata": {
    "scrolled": true
   },
   "outputs": [
    {
     "data": {
      "text/plain": [
       "(array([  16.,  152.,  653., 1624., 2528., 2600., 1659.,  610.,  126.,\n",
       "          32.]),\n",
       " array([-3.49819014e-03, -2.79454476e-03, -2.09089938e-03, -1.38725400e-03,\n",
       "        -6.83608616e-04,  2.00367653e-05,  7.23682147e-04,  1.42732753e-03,\n",
       "         2.13097291e-03,  2.83461829e-03,  3.53826367e-03]),\n",
       " <a list of 10 Patch objects>)"
      ]
     },
     "execution_count": 24,
     "metadata": {},
     "output_type": "execute_result"
    },
    {
     "data": {
      "image/png": "[encoded data removed]",
      "text/plain": [
       "<Figure size 432x288 with 1 Axes>"
      ]
     },
     "metadata": {
      "needs_background": "light"
     },
     "output_type": "display_data"
    }
   ],
   "source": [
    "new_data = (data.iloc[:,1]*2000)\n",
    "plt.hist(data.iloc[:,1])"
   ]
  },
  {
   "cell_type": "code",
   "execution_count": 30,
   "metadata": {},
   "outputs": [
    {
     "data": {
      "text/plain": [
       "<matplotlib.collections.PathCollection at 0x216b4719e10>"
      ]
     },
     "execution_count": 30,
     "metadata": {},
     "output_type": "execute_result"
    },
    {
     "data": {
      "image/png": "[encoded data removed]",
      "text/plain": [
       "<Figure size 432x288 with 1 Axes>"
      ]
     },
     "metadata": {
      "needs_background": "light"
     },
     "output_type": "display_data"
    }
   ],
   "source": [
    "plt.scatter(data.iloc[:,0],2000*data.iloc[:,1])"
   ]
  },
  {
   "cell_type": "code",
   "execution_count": 29,
   "metadata": {
    "scrolled": true
   },
   "outputs": [
    {
     "data": {
      "text/plain": [
       "array([-0.03942922])"
      ]
     },
     "execution_count": 29,
     "metadata": {},
     "output_type": "execute_result"
    }
   ],
   "source": [
    "np.correlate(data.iloc[:,0],data.iloc[:,1])"
   ]
  },
  {
   "cell_type": "markdown",
   "metadata": {},
   "source": [
    "- Joint bivariate distribution also looks normal\n",
    "- It is scaled to visualize properly.\n",
    "- And the correlation of the two vectors is approximately zero\n",
    "- Since the two vectors are normally distributed, the bivariate distribution is also normal and the vectors are uncorrelated they are independent.\n",
    "- We can drop either of them."
   ]
  }
 ],
 "metadata": {
  "kernelspec": {
   "display_name": "Python 3",
   "language": "python",
   "name": "python3"
  },
  "language_info": {
   "codemirror_mode": {
    "name": "ipython",
    "version": 3
   },
   "file_extension": ".py",
   "mimetype": "text/x-python",
   "name": "python",
   "nbconvert_exporter": "python",
   "pygments_lexer": "ipython3",
   "version": "3.7.0"
  }
 },
 "nbformat": 4,
 "nbformat_minor": 2
}
